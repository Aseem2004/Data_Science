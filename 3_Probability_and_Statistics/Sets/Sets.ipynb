{
  "nbformat": 4,
  "nbformat_minor": 0,
  "metadata": {
    "colab": {
      "provenance": [],
      "authorship_tag": "ABX9TyOdhhAj58ZCL8OOh1WxOFR8"
    },
    "kernelspec": {
      "name": "python3",
      "display_name": "Python 3"
    },
    "language_info": {
      "name": "python"
    }
  },
  "cells": [
    {
      "cell_type": "markdown",
      "source": [
        "Set is unordered collection of distinct objects"
      ],
      "metadata": {
        "id": "52cCPmrmifxC"
      }
    },
    {
      "cell_type": "code",
      "execution_count": null,
      "metadata": {
        "colab": {
          "base_uri": "https://localhost:8080/"
        },
        "id": "SB4vAeyPiSWY",
        "outputId": "697ac7e4-b991-4273-f9e0-b5c10d91c9fe"
      },
      "outputs": [
        {
          "output_type": "execute_result",
          "data": {
            "text/plain": [
              "set"
            ]
          },
          "metadata": {},
          "execution_count": 1
        }
      ],
      "source": [
        "A={1,2,3,4}\n",
        "type(A)"
      ]
    },
    {
      "cell_type": "code",
      "source": [
        "#Unique\n",
        "A={1,2,2,3}\n",
        "for i in A:\n",
        "  print(i)"
      ],
      "metadata": {
        "colab": {
          "base_uri": "https://localhost:8080/"
        },
        "id": "E5nIUacRinBt",
        "outputId": "9344af72-36a0-43e9-9308-9682b32b972d"
      },
      "execution_count": null,
      "outputs": [
        {
          "output_type": "stream",
          "name": "stdout",
          "text": [
            "1\n",
            "2\n",
            "3\n"
          ]
        }
      ]
    },
    {
      "cell_type": "code",
      "source": [
        "#Ordering not defined\n",
        "A={1,2,3}\n",
        "print(A[0])"
      ],
      "metadata": {
        "colab": {
          "base_uri": "https://localhost:8080/",
          "height": 158
        },
        "id": "6CKFZH0xivwA",
        "outputId": "2d8b9712-0cda-44e5-a304-9d8ef5ee4fe6"
      },
      "execution_count": null,
      "outputs": [
        {
          "output_type": "error",
          "ename": "TypeError",
          "evalue": "'set' object is not subscriptable",
          "traceback": [
            "\u001b[0;31m---------------------------------------------------------------------------\u001b[0m",
            "\u001b[0;31mTypeError\u001b[0m                                 Traceback (most recent call last)",
            "\u001b[0;32m<ipython-input-4-275c4de5b351>\u001b[0m in \u001b[0;36m<cell line: 2>\u001b[0;34m()\u001b[0m\n\u001b[1;32m      1\u001b[0m \u001b[0mA\u001b[0m\u001b[0;34m=\u001b[0m\u001b[0;34m{\u001b[0m\u001b[0;36m1\u001b[0m\u001b[0;34m,\u001b[0m\u001b[0;36m2\u001b[0m\u001b[0;34m,\u001b[0m\u001b[0;36m3\u001b[0m\u001b[0;34m}\u001b[0m\u001b[0;34m\u001b[0m\u001b[0;34m\u001b[0m\u001b[0m\n\u001b[0;32m----> 2\u001b[0;31m \u001b[0mprint\u001b[0m\u001b[0;34m(\u001b[0m\u001b[0mA\u001b[0m\u001b[0;34m[\u001b[0m\u001b[0;36m0\u001b[0m\u001b[0;34m]\u001b[0m\u001b[0;34m)\u001b[0m\u001b[0;34m\u001b[0m\u001b[0;34m\u001b[0m\u001b[0m\n\u001b[0m",
            "\u001b[0;31mTypeError\u001b[0m: 'set' object is not subscriptable"
          ]
        }
      ]
    },
    {
      "cell_type": "markdown",
      "source": [
        "* Element of a set<br>\n",
        "x ϵ A, means element x is a member of A<br>\n",
        "x ∉ A means x is not a member of A"
      ],
      "metadata": {
        "id": "tbWNWuO_i_X0"
      }
    },
    {
      "cell_type": "code",
      "source": [
        "A={1,2,3}\n",
        "print(1 in A)\n",
        "print(5 in A)\n",
        "print(1 not in A)\n",
        "print(5 not in A)"
      ],
      "metadata": {
        "colab": {
          "base_uri": "https://localhost:8080/"
        },
        "id": "snOmD7zDi4_1",
        "outputId": "74c27c0b-688a-4e54-d38e-bea4ee59b8b3"
      },
      "execution_count": null,
      "outputs": [
        {
          "output_type": "stream",
          "name": "stdout",
          "text": [
            "True\n",
            "False\n",
            "False\n",
            "True\n"
          ]
        }
      ]
    },
    {
      "cell_type": "markdown",
      "source": [
        "* Cardinality of a set — It is the number of elements present in a finite\n",
        "Set, denoted like |A|.<br>\n",
        "* Finite set - If there are exactly ‘n’ elements in S where ‘n’ is a\n",
        "nonnegative integer, we say that S is a finite set.<br>\n",
        "* Infinite set – A set contain infinite number of elements is called\n",
        "infinite set, if the counting of different elements of the set does not\n",
        "come to an end.<br>\n",
        "* Countable set – A set is said to be countable if there can be a one to\n",
        "one mapping between the elements of the set and natural numbers.<br>\n",
        "* Uncountable set – A set is said to be uncountable if there cannot be a\n",
        "one to one mapping between the elements of the set and natural\n",
        "numbers.<br>\n",
        "* Null set / empty set - Is the unique set having no elements. its size\n",
        "or cardinality is zero i.e. |ɸ| = 0. It is denoted by a symbol ɸ or {}. <br>\n",
        "* Universal set – if all the sets under investigation are subsets of a fixed\n",
        "set, i.e. the set containing all objects under investigation, in Venn\n",
        "diagram it is represented by a rectangle, and it is denoted by U."
      ],
      "metadata": {
        "id": "nkDUoIZQkJnT"
      }
    },
    {
      "cell_type": "code",
      "source": [
        "A={1,2,3,2,2}\n",
        "print(len(A))"
      ],
      "metadata": {
        "colab": {
          "base_uri": "https://localhost:8080/"
        },
        "id": "rdST-7MPjpSP",
        "outputId": "120fce5d-7a7d-4913-f755-8052dd20eb23"
      },
      "execution_count": null,
      "outputs": [
        {
          "output_type": "stream",
          "name": "stdout",
          "text": [
            "3\n"
          ]
        }
      ]
    },
    {
      "cell_type": "code",
      "source": [
        "A={}\n",
        "print(len(A))"
      ],
      "metadata": {
        "colab": {
          "base_uri": "https://localhost:8080/"
        },
        "id": "y9lRU0JkkPYU",
        "outputId": "d68dd6a2-53e8-4881-a283-14b7e6ff6bed"
      },
      "execution_count": null,
      "outputs": [
        {
          "output_type": "stream",
          "name": "stdout",
          "text": [
            "0\n"
          ]
        }
      ]
    },
    {
      "cell_type": "code",
      "source": [
        "type(A)"
      ],
      "metadata": {
        "colab": {
          "base_uri": "https://localhost:8080/"
        },
        "id": "ExnmbOuck5vO",
        "outputId": "c2e62fcf-cdd2-47e2-da56-5ae13e492e88"
      },
      "execution_count": null,
      "outputs": [
        {
          "output_type": "execute_result",
          "data": {
            "text/plain": [
              "dict"
            ]
          },
          "metadata": {},
          "execution_count": 11
        }
      ]
    },
    {
      "cell_type": "code",
      "source": [
        "#To make it a set, define using keyword\n",
        "A=set()\n",
        "type(A)"
      ],
      "metadata": {
        "colab": {
          "base_uri": "https://localhost:8080/"
        },
        "id": "gaOgmFbwk6gB",
        "outputId": "2b4824eb-7eea-4f9c-a32e-2c7fea572e65"
      },
      "execution_count": null,
      "outputs": [
        {
          "output_type": "execute_result",
          "data": {
            "text/plain": [
              "set"
            ]
          },
          "metadata": {},
          "execution_count": 12
        }
      ]
    },
    {
      "cell_type": "markdown",
      "source": [
        "* Subset of a set – If every element of set A is also an element of set B i.e.\n",
        "∀x(x ∈ A → x ∈ B), then A is called subset of B and is written as A ⊑ B. B is called the superset of A. <br>\n",
        "* ɸ ⊑ A, Empty Set ɸ is a subset for every set<br>\n",
        "* A ⊑ U, Every Set is a subset of Universal set U<br>\n",
        "* A ⊑ A, Every Set is a subset of itself"
      ],
      "metadata": {
        "id": "aCDUXlcmlF3-"
      }
    },
    {
      "cell_type": "code",
      "source": [
        "A={1,2,3}\n",
        "B={1,2,3,4}\n",
        "print(A.issubset(B))\n",
        "print(B.issubset(A))\n",
        "print(A.issubset(A))"
      ],
      "metadata": {
        "colab": {
          "base_uri": "https://localhost:8080/"
        },
        "id": "NeJTN6qDk_vw",
        "outputId": "80ca7f2f-5868-4adf-b8b3-883fd2071343"
      },
      "execution_count": null,
      "outputs": [
        {
          "output_type": "stream",
          "name": "stdout",
          "text": [
            "True\n",
            "False\n",
            "True\n"
          ]
        }
      ]
    },
    {
      "cell_type": "markdown",
      "source": [
        "* A frozenset in Python is an immutable version of a set. Like a set, it contains a collection of unique elements, but unlike a regular set, once a frozenset is created, its elements cannot be changed, added, or removed. If not used set inside set will give unhashable error."
      ],
      "metadata": {
        "id": "hf7epnJZuGnL"
      }
    },
    {
      "cell_type": "code",
      "source": [
        "A={1,3}\n",
        "B={2,frozenset(A)}\n",
        "print(A.issubset(B))\n",
        "print({1}.issubset(A))\n",
        "print({1}.issubset(B))"
      ],
      "metadata": {
        "colab": {
          "base_uri": "https://localhost:8080/"
        },
        "id": "hBrCnZcNsq9S",
        "outputId": "e10cc1f9-a171-4bb8-d5fd-670cb679ac5d"
      },
      "execution_count": null,
      "outputs": [
        {
          "output_type": "stream",
          "name": "stdout",
          "text": [
            "False\n",
            "True\n",
            "False\n"
          ]
        }
      ]
    },
    {
      "cell_type": "code",
      "source": [],
      "metadata": {
        "id": "zxyJuHdstAEF"
      },
      "execution_count": null,
      "outputs": []
    }
  ]
}