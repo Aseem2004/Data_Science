{
  "nbformat": 4,
  "nbformat_minor": 0,
  "metadata": {
    "colab": {
      "provenance": [],
      "authorship_tag": "ABX9TyMBXM5AoFMHhx7UcPlOHXPg",
      "include_colab_link": true
    },
    "kernelspec": {
      "name": "python3",
      "display_name": "Python 3"
    },
    "language_info": {
      "name": "python"
    }
  },
  "cells": [
    {
      "cell_type": "markdown",
      "metadata": {
        "id": "view-in-github",
        "colab_type": "text"
      },
      "source": [
        "<a href=\"https://colab.research.google.com/github/Aseem2004/Data_Science/blob/main/3_Probability_and_Statistics/Sets/Sets.ipynb\" target=\"_parent\"><img src=\"https://colab.research.google.com/assets/colab-badge.svg\" alt=\"Open In Colab\"/></a>"
      ]
    },
    {
      "cell_type": "markdown",
      "source": [
        "Set is unordered collection of distinct objects"
      ],
      "metadata": {
        "id": "52cCPmrmifxC"
      }
    },
    {
      "cell_type": "code",
      "execution_count": null,
      "metadata": {
        "colab": {
          "base_uri": "https://localhost:8080/"
        },
        "id": "SB4vAeyPiSWY",
        "outputId": "697ac7e4-b991-4273-f9e0-b5c10d91c9fe"
      },
      "outputs": [
        {
          "output_type": "execute_result",
          "data": {
            "text/plain": [
              "set"
            ]
          },
          "metadata": {},
          "execution_count": 1
        }
      ],
      "source": [
        "A={1,2,3,4}\n",
        "type(A)"
      ]
    },
    {
      "cell_type": "code",
      "source": [
        "#Unique\n",
        "A={1,2,2,3}\n",
        "for i in A:\n",
        "  print(i)"
      ],
      "metadata": {
        "colab": {
          "base_uri": "https://localhost:8080/"
        },
        "id": "E5nIUacRinBt",
        "outputId": "9344af72-36a0-43e9-9308-9682b32b972d"
      },
      "execution_count": null,
      "outputs": [
        {
          "output_type": "stream",
          "name": "stdout",
          "text": [
            "1\n",
            "2\n",
            "3\n"
          ]
        }
      ]
    },
    {
      "cell_type": "code",
      "source": [
        "#Ordering not defined\n",
        "A={1,2,3}\n",
        "print(A[0])"
      ],
      "metadata": {
        "colab": {
          "base_uri": "https://localhost:8080/",
          "height": 158
        },
        "id": "6CKFZH0xivwA",
        "outputId": "2d8b9712-0cda-44e5-a304-9d8ef5ee4fe6"
      },
      "execution_count": null,
      "outputs": [
        {
          "output_type": "error",
          "ename": "TypeError",
          "evalue": "'set' object is not subscriptable",
          "traceback": [
            "\u001b[0;31m---------------------------------------------------------------------------\u001b[0m",
            "\u001b[0;31mTypeError\u001b[0m                                 Traceback (most recent call last)",
            "\u001b[0;32m<ipython-input-4-275c4de5b351>\u001b[0m in \u001b[0;36m<cell line: 2>\u001b[0;34m()\u001b[0m\n\u001b[1;32m      1\u001b[0m \u001b[0mA\u001b[0m\u001b[0;34m=\u001b[0m\u001b[0;34m{\u001b[0m\u001b[0;36m1\u001b[0m\u001b[0;34m,\u001b[0m\u001b[0;36m2\u001b[0m\u001b[0;34m,\u001b[0m\u001b[0;36m3\u001b[0m\u001b[0;34m}\u001b[0m\u001b[0;34m\u001b[0m\u001b[0;34m\u001b[0m\u001b[0m\n\u001b[0;32m----> 2\u001b[0;31m \u001b[0mprint\u001b[0m\u001b[0;34m(\u001b[0m\u001b[0mA\u001b[0m\u001b[0;34m[\u001b[0m\u001b[0;36m0\u001b[0m\u001b[0;34m]\u001b[0m\u001b[0;34m)\u001b[0m\u001b[0;34m\u001b[0m\u001b[0;34m\u001b[0m\u001b[0m\n\u001b[0m",
            "\u001b[0;31mTypeError\u001b[0m: 'set' object is not subscriptable"
          ]
        }
      ]
    },
    {
      "cell_type": "markdown",
      "source": [
        "* Element of a set<br>\n",
        "x ϵ A, means element x is a member of A<br>\n",
        "x ∉ A means x is not a member of A"
      ],
      "metadata": {
        "id": "tbWNWuO_i_X0"
      }
    },
    {
      "cell_type": "code",
      "source": [
        "A={1,2,3}\n",
        "print(1 in A)\n",
        "print(5 in A)\n",
        "print(1 not in A)\n",
        "print(5 not in A)"
      ],
      "metadata": {
        "colab": {
          "base_uri": "https://localhost:8080/"
        },
        "id": "snOmD7zDi4_1",
        "outputId": "74c27c0b-688a-4e54-d38e-bea4ee59b8b3"
      },
      "execution_count": null,
      "outputs": [
        {
          "output_type": "stream",
          "name": "stdout",
          "text": [
            "True\n",
            "False\n",
            "False\n",
            "True\n"
          ]
        }
      ]
    },
    {
      "cell_type": "markdown",
      "source": [
        "* Cardinality of a set — It is the number of elements present in a finite\n",
        "Set, denoted like |A|.<br>\n",
        "* Finite set - If there are exactly ‘n’ elements in S where ‘n’ is a\n",
        "nonnegative integer, we say that S is a finite set.<br>\n",
        "* Infinite set – A set contain infinite number of elements is called\n",
        "infinite set, if the counting of different elements of the set does not\n",
        "come to an end.<br>\n",
        "* Countable set – A set is said to be countable if there can be a one to\n",
        "one mapping between the elements of the set and natural numbers.<br>\n",
        "* Uncountable set – A set is said to be uncountable if there cannot be a\n",
        "one to one mapping between the elements of the set and natural\n",
        "numbers.<br>\n",
        "* Null set / empty set - Is the unique set having no elements. its size\n",
        "or cardinality is zero i.e. |ɸ| = 0. It is denoted by a symbol ɸ or {}. <br>\n",
        "* Universal set – if all the sets under investigation are subsets of a fixed\n",
        "set, i.e. the set containing all objects under investigation, in Venn\n",
        "diagram it is represented by a rectangle, and it is denoted by U."
      ],
      "metadata": {
        "id": "nkDUoIZQkJnT"
      }
    },
    {
      "cell_type": "code",
      "source": [
        "A={1,2,3,2,2}\n",
        "print(len(A))"
      ],
      "metadata": {
        "colab": {
          "base_uri": "https://localhost:8080/"
        },
        "id": "rdST-7MPjpSP",
        "outputId": "120fce5d-7a7d-4913-f755-8052dd20eb23"
      },
      "execution_count": null,
      "outputs": [
        {
          "output_type": "stream",
          "name": "stdout",
          "text": [
            "3\n"
          ]
        }
      ]
    },
    {
      "cell_type": "code",
      "source": [
        "A={}\n",
        "print(len(A))"
      ],
      "metadata": {
        "colab": {
          "base_uri": "https://localhost:8080/"
        },
        "id": "y9lRU0JkkPYU",
        "outputId": "d68dd6a2-53e8-4881-a283-14b7e6ff6bed"
      },
      "execution_count": null,
      "outputs": [
        {
          "output_type": "stream",
          "name": "stdout",
          "text": [
            "0\n"
          ]
        }
      ]
    },
    {
      "cell_type": "code",
      "source": [
        "type(A)"
      ],
      "metadata": {
        "colab": {
          "base_uri": "https://localhost:8080/"
        },
        "id": "ExnmbOuck5vO",
        "outputId": "c2e62fcf-cdd2-47e2-da56-5ae13e492e88"
      },
      "execution_count": null,
      "outputs": [
        {
          "output_type": "execute_result",
          "data": {
            "text/plain": [
              "dict"
            ]
          },
          "metadata": {},
          "execution_count": 11
        }
      ]
    },
    {
      "cell_type": "code",
      "source": [
        "#To make it a set, define using keyword\n",
        "A=set()\n",
        "type(A)"
      ],
      "metadata": {
        "colab": {
          "base_uri": "https://localhost:8080/"
        },
        "id": "gaOgmFbwk6gB",
        "outputId": "2b4824eb-7eea-4f9c-a32e-2c7fea572e65"
      },
      "execution_count": null,
      "outputs": [
        {
          "output_type": "execute_result",
          "data": {
            "text/plain": [
              "set"
            ]
          },
          "metadata": {},
          "execution_count": 12
        }
      ]
    },
    {
      "cell_type": "markdown",
      "source": [
        "* Subset of a set – If every element of set A is also an element of set B i.e.\n",
        "∀x(x ∈ A → x ∈ B), then A is called subset of B and is written as A ⊑ B. B is called the superset of A. <br>\n",
        "* ɸ ⊑ A, Empty Set ɸ is a subset for every set<br>\n",
        "* A ⊑ U, Every Set is a subset of Universal set U<br>\n",
        "* A ⊑ A, Every Set is a subset of itself"
      ],
      "metadata": {
        "id": "aCDUXlcmlF3-"
      }
    },
    {
      "cell_type": "code",
      "source": [
        "A={1,2,3}\n",
        "B={1,2,3,4}\n",
        "print(A.issubset(B))\n",
        "print(B.issubset(A))\n",
        "print(A.issubset(A))"
      ],
      "metadata": {
        "colab": {
          "base_uri": "https://localhost:8080/"
        },
        "id": "NeJTN6qDk_vw",
        "outputId": "80ca7f2f-5868-4adf-b8b3-883fd2071343"
      },
      "execution_count": null,
      "outputs": [
        {
          "output_type": "stream",
          "name": "stdout",
          "text": [
            "True\n",
            "False\n",
            "True\n"
          ]
        }
      ]
    },
    {
      "cell_type": "markdown",
      "source": [
        "* A frozenset in Python is an immutable version of a set. Like a set, it contains a collection of unique elements, but unlike a regular set, once a frozenset is created, its elements cannot be changed, added, or removed. If not used set inside set will give unhashable error."
      ],
      "metadata": {
        "id": "hf7epnJZuGnL"
      }
    },
    {
      "cell_type": "code",
      "source": [
        "A={1,3}\n",
        "B={2,frozenset(A)}\n",
        "print(A.issubset(B))\n",
        "print({1}.issubset(A))\n",
        "print({1}.issubset(B))"
      ],
      "metadata": {
        "colab": {
          "base_uri": "https://localhost:8080/"
        },
        "id": "hBrCnZcNsq9S",
        "outputId": "e10cc1f9-a171-4bb8-d5fd-670cb679ac5d"
      },
      "execution_count": null,
      "outputs": [
        {
          "output_type": "stream",
          "name": "stdout",
          "text": [
            "False\n",
            "True\n",
            "False\n"
          ]
        }
      ]
    },
    {
      "cell_type": "code",
      "source": [
        "#Creating issubset\n",
        "\n",
        "def issub(a,b):  #Is a a subset of b?\n",
        "  for i in a:\n",
        "    if i not in b:\n",
        "      return False\n",
        "  return True"
      ],
      "metadata": {
        "id": "zxyJuHdstAEF"
      },
      "execution_count": 3,
      "outputs": []
    },
    {
      "cell_type": "code",
      "source": [
        "issub({1,2},{1,2,3})"
      ],
      "metadata": {
        "colab": {
          "base_uri": "https://localhost:8080/"
        },
        "id": "tN_1pQvfJoXO",
        "outputId": "4a12627d-a55f-4a06-d01b-76813cf4508c"
      },
      "execution_count": 4,
      "outputs": [
        {
          "output_type": "execute_result",
          "data": {
            "text/plain": [
              "True"
            ]
          },
          "metadata": {},
          "execution_count": 4
        }
      ]
    },
    {
      "cell_type": "code",
      "source": [
        "issub({1,2},{3,1})"
      ],
      "metadata": {
        "colab": {
          "base_uri": "https://localhost:8080/"
        },
        "id": "ckwi2bN_JsjW",
        "outputId": "04c3d52a-daee-4c76-f659-642af37536a1"
      },
      "execution_count": 5,
      "outputs": [
        {
          "output_type": "execute_result",
          "data": {
            "text/plain": [
              "False"
            ]
          },
          "metadata": {},
          "execution_count": 5
        }
      ]
    },
    {
      "cell_type": "markdown",
      "source": [
        "* Power set – let A be any set, then the set of all subsets of A is called\n",
        "power set of A and it is denoted by P(A).<br>\n",
        "* Cardinality of the power set of A is N, |P(A)|= 2ᴺ"
      ],
      "metadata": {
        "id": "pw_f-Ay_KHV6"
      }
    },
    {
      "cell_type": "code",
      "source": [
        "import numpy as np"
      ],
      "metadata": {
        "id": "0oENKE_gYraW"
      },
      "execution_count": 1,
      "outputs": []
    },
    {
      "cell_type": "code",
      "source": [
        "#Generate power set of a set\n",
        "def power(s):\n",
        "  powset=set([])\n",
        "  a=np.array(list(s))\n",
        "  n=len(a)\n",
        "\n",
        "  for i in range(2**n):\n",
        "    b=np.binary_repr(i,width=n)             #Suppose i=3 and n=3, it would be string '011', width=no. of bits\n",
        "    index=np.array(list(b),dtype=int)==1    #Creates boolean array like for i=n=3 as '011' -> ['False','True','True']\n",
        "    powset.add(frozenset(a[index]))         #Only picks True values\n",
        "  return powset"
      ],
      "metadata": {
        "id": "HA52arahJ4sB"
      },
      "execution_count": 2,
      "outputs": []
    },
    {
      "cell_type": "code",
      "source": [
        "power({1,2,3})"
      ],
      "metadata": {
        "colab": {
          "base_uri": "https://localhost:8080/"
        },
        "id": "UMjrexC4Zzis",
        "outputId": "6d75106f-b660-4f3f-e5aa-7803fe07dcea"
      },
      "execution_count": 5,
      "outputs": [
        {
          "output_type": "execute_result",
          "data": {
            "text/plain": [
              "{frozenset(),\n",
              " frozenset({2}),\n",
              " frozenset({2, 3}),\n",
              " frozenset({1}),\n",
              " frozenset({1, 2}),\n",
              " frozenset({3}),\n",
              " frozenset({1, 3}),\n",
              " frozenset({1, 2, 3})}"
            ]
          },
          "metadata": {},
          "execution_count": 5
        }
      ]
    },
    {
      "cell_type": "code",
      "source": [
        "S=set(np.arange(5))"
      ],
      "metadata": {
        "id": "7HDbkXGObjZ7"
      },
      "execution_count": 8,
      "outputs": []
    },
    {
      "cell_type": "code",
      "source": [
        "power(S)"
      ],
      "metadata": {
        "colab": {
          "base_uri": "https://localhost:8080/"
        },
        "id": "J_8DDSI6Z1QA",
        "outputId": "5ac355d2-79a3-4a5f-d149-51bf9b07a27a"
      },
      "execution_count": 9,
      "outputs": [
        {
          "output_type": "execute_result",
          "data": {
            "text/plain": [
              "{frozenset(),\n",
              " frozenset({1, 4}),\n",
              " frozenset({3}),\n",
              " frozenset({2, 3}),\n",
              " frozenset({3, 4}),\n",
              " frozenset({2, 3, 4}),\n",
              " frozenset({0, 2, 4}),\n",
              " frozenset({1}),\n",
              " frozenset({0, 3}),\n",
              " frozenset({2}),\n",
              " frozenset({0}),\n",
              " frozenset({0, 2}),\n",
              " frozenset({0, 2, 3}),\n",
              " frozenset({4}),\n",
              " frozenset({0, 4}),\n",
              " frozenset({2, 4}),\n",
              " frozenset({0, 2, 3, 4}),\n",
              " frozenset({1, 3}),\n",
              " frozenset({1, 2, 3}),\n",
              " frozenset({1, 3, 4}),\n",
              " frozenset({0, 3, 4}),\n",
              " frozenset({0, 1}),\n",
              " frozenset({1, 2}),\n",
              " frozenset({0, 1, 2}),\n",
              " frozenset({1, 2, 3, 4}),\n",
              " frozenset({0, 1, 3}),\n",
              " frozenset({0, 1, 4}),\n",
              " frozenset({0, 1, 3, 4}),\n",
              " frozenset({1, 2, 4}),\n",
              " frozenset({0, 1, 2, 3}),\n",
              " frozenset({0, 1, 2, 4}),\n",
              " frozenset({0, 1, 2, 3, 4})}"
            ]
          },
          "metadata": {},
          "execution_count": 9
        }
      ]
    },
    {
      "cell_type": "markdown",
      "source": [
        "#Operations on Set<br>\n",
        "* Union of sets – Union of two sets A and B is a set of all those\n",
        "elements which either belong to A or B or both, it is denoted by A U\n",
        "B. <br>\n",
        "A U B = {x| x ϵ A or x ϵ B}<br><br>\n",
        "* Intersection of sets - Intersection of two sets A and B is a set of all\n",
        "those elements which belong to both A and B, and is denoted by\n",
        "A ⋂ B<br>\n",
        "A ⋂ B = {x| x ϵ A and x ϵ B}<br><br>\n",
        "* Set difference – the set difference of two sets A and B, is the set of all\n",
        "the elements which belongs to A but do not belong to B.<br>\n",
        "A – B = {x| x ϵ A and x ∉ B}<br><br>\n",
        "* Complement of set – Set of all x such that x ∉ A, but x ϵ U. OR U-A<br>\n",
        "A' = {x | x ∉ A & x ϵ U}<br><br>\n",
        "* De Morgan’s law<br>\n",
        " * (A U B)' = A' ⋂ B'\n",
        " * (A ⋂ B)' = A' U B'<br><br>\n",
        "* Partitions of a Set - let A be a set, with n elements. Based on our\n",
        "understanding of equivalent classes, a subdivision of A into non-empty\n",
        "and non-overlapping subset is called a partition of A.<br>\n",
        "A1 U A2 U A3 U ………….. U An = A<br>\n",
        "A1 ⋂ A2 ⋂ A3 ⋂ ………….. ⋂ An = ɸ\n"
      ],
      "metadata": {
        "id": "gHPSCwzwMgz7"
      }
    },
    {
      "cell_type": "code",
      "source": [
        "U={1,2,3,4,5,6}\n",
        "A={1,2,3}\n",
        "B={3,4,5}"
      ],
      "metadata": {
        "id": "bU_T9Nt8bmG0"
      },
      "execution_count": 2,
      "outputs": []
    },
    {
      "cell_type": "code",
      "source": [
        "A.union(B)"
      ],
      "metadata": {
        "colab": {
          "base_uri": "https://localhost:8080/"
        },
        "id": "j0b6XaCRbBTq",
        "outputId": "9d0d73f8-496f-4499-830e-06185eccdc24"
      },
      "execution_count": 3,
      "outputs": [
        {
          "output_type": "execute_result",
          "data": {
            "text/plain": [
              "{1, 2, 3, 4, 5}"
            ]
          },
          "metadata": {},
          "execution_count": 3
        }
      ]
    },
    {
      "cell_type": "code",
      "source": [
        "A.intersection(B)"
      ],
      "metadata": {
        "colab": {
          "base_uri": "https://localhost:8080/"
        },
        "id": "Ao0JK7ZpbE4E",
        "outputId": "2d72d1c3-631b-4cd8-af28-a440d0330e43"
      },
      "execution_count": 4,
      "outputs": [
        {
          "output_type": "execute_result",
          "data": {
            "text/plain": [
              "{3}"
            ]
          },
          "metadata": {},
          "execution_count": 4
        }
      ]
    },
    {
      "cell_type": "code",
      "source": [
        "A.difference(B)"
      ],
      "metadata": {
        "colab": {
          "base_uri": "https://localhost:8080/"
        },
        "id": "AmcnQjnebG7a",
        "outputId": "41a9cebe-0b1e-41df-f383-e8594d3aa36e"
      },
      "execution_count": 5,
      "outputs": [
        {
          "output_type": "execute_result",
          "data": {
            "text/plain": [
              "{1, 2}"
            ]
          },
          "metadata": {},
          "execution_count": 5
        }
      ]
    },
    {
      "cell_type": "code",
      "source": [
        "A_comp=U.difference(A)\n",
        "B_comp=U.difference(B)"
      ],
      "metadata": {
        "id": "V3NJa4vrbJJL"
      },
      "execution_count": 8,
      "outputs": []
    },
    {
      "cell_type": "code",
      "source": [
        "print(A_comp)\n",
        "print(B_comp)"
      ],
      "metadata": {
        "colab": {
          "base_uri": "https://localhost:8080/"
        },
        "id": "UDAb2sotbZoA",
        "outputId": "e8c9ccde-ca0e-4bde-ff93-8943cbda4e1c"
      },
      "execution_count": 9,
      "outputs": [
        {
          "output_type": "stream",
          "name": "stdout",
          "text": [
            "{4, 5, 6}\n",
            "{1, 2, 6}\n"
          ]
        }
      ]
    },
    {
      "cell_type": "code",
      "source": [
        "#De-Morgan's Law\n",
        "print(A_comp.union(B_comp)==U.difference(A.intersection(B)))\n",
        "print(A_comp.intersection(B_comp)==U.difference(A.union(B)))"
      ],
      "metadata": {
        "colab": {
          "base_uri": "https://localhost:8080/"
        },
        "id": "83HpVoKwbgiy",
        "outputId": "8d3eb168-f3f8-4324-cad7-0e2c6b5e64d8"
      },
      "execution_count": 11,
      "outputs": [
        {
          "output_type": "stream",
          "name": "stdout",
          "text": [
            "True\n",
            "True\n"
          ]
        }
      ]
    },
    {
      "cell_type": "code",
      "source": [
        "A_comp.union(B_comp)"
      ],
      "metadata": {
        "colab": {
          "base_uri": "https://localhost:8080/"
        },
        "id": "MQ2VcWcsbkMn",
        "outputId": "75cedbd3-48c1-48a0-f8c2-8a10eca6ef98"
      },
      "execution_count": 12,
      "outputs": [
        {
          "output_type": "execute_result",
          "data": {
            "text/plain": [
              "{1, 2, 4, 5, 6}"
            ]
          },
          "metadata": {},
          "execution_count": 12
        }
      ]
    },
    {
      "cell_type": "code",
      "source": [
        "U.difference(A.intersection(B))"
      ],
      "metadata": {
        "colab": {
          "base_uri": "https://localhost:8080/"
        },
        "id": "THcwj8shbvbO",
        "outputId": "7075782f-0193-498c-8475-3aa5306e2877"
      },
      "execution_count": 13,
      "outputs": [
        {
          "output_type": "execute_result",
          "data": {
            "text/plain": [
              "{1, 2, 4, 5, 6}"
            ]
          },
          "metadata": {},
          "execution_count": 13
        }
      ]
    },
    {
      "cell_type": "code",
      "source": [
        "A_comp.intersection(B_comp)"
      ],
      "metadata": {
        "colab": {
          "base_uri": "https://localhost:8080/"
        },
        "id": "L0raJ1HVbyMh",
        "outputId": "eea29734-fa36-47be-d2a9-7cddf0721258"
      },
      "execution_count": 14,
      "outputs": [
        {
          "output_type": "execute_result",
          "data": {
            "text/plain": [
              "{6}"
            ]
          },
          "metadata": {},
          "execution_count": 14
        }
      ]
    },
    {
      "cell_type": "code",
      "source": [
        "U.difference(A.union(B))"
      ],
      "metadata": {
        "colab": {
          "base_uri": "https://localhost:8080/"
        },
        "id": "nUDOgIcab6NH",
        "outputId": "5fa3d0ab-d5f9-48de-ce87-5a8b269a91cd"
      },
      "execution_count": 4,
      "outputs": [
        {
          "output_type": "execute_result",
          "data": {
            "text/plain": [
              "{6}"
            ]
          },
          "metadata": {},
          "execution_count": 4
        }
      ]
    }
  ]
}