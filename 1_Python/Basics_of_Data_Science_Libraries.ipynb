{
  "nbformat": 4,
  "nbformat_minor": 0,
  "metadata": {
    "colab": {
      "provenance": [],
      "authorship_tag": "ABX9TyN1APolX3OgPvoM+Ofx55+A",
      "include_colab_link": true
    },
    "kernelspec": {
      "name": "python3",
      "display_name": "Python 3"
    },
    "language_info": {
      "name": "python"
    }
  },
  "cells": [
    {
      "cell_type": "markdown",
      "metadata": {
        "id": "view-in-github",
        "colab_type": "text"
      },
      "source": [
        "<a href=\"https://colab.research.google.com/github/Aseem2004/Data_Science/blob/main/1_Python/Basics_of_Data_Science_Libraries.ipynb\" target=\"_parent\"><img src=\"https://colab.research.google.com/assets/colab-badge.svg\" alt=\"Open In Colab\"/></a>"
      ]
    },
    {
      "cell_type": "markdown",
      "source": [
        "#Numpy"
      ],
      "metadata": {
        "id": "X-_IOUecIgqd"
      }
    },
    {
      "cell_type": "code",
      "execution_count": null,
      "metadata": {
        "id": "vK9iTj5KHwMw"
      },
      "outputs": [],
      "source": [
        "import numpy as np"
      ]
    },
    {
      "cell_type": "code",
      "source": [
        "a=np.array([1,2,3])\n",
        "b=np.array((1,2,3),dtype='float')\n",
        "print(a)\n",
        "print(b)\n",
        "print(type(a))"
      ],
      "metadata": {
        "colab": {
          "base_uri": "https://localhost:8080/"
        },
        "id": "U0x54fj2Iktd",
        "outputId": "408dc9b0-3c67-4186-c2a0-d952972538dc"
      },
      "execution_count": null,
      "outputs": [
        {
          "output_type": "stream",
          "name": "stdout",
          "text": [
            "[1 2 3]\n",
            "[1. 2. 3.]\n",
            "<class 'numpy.ndarray'>\n"
          ]
        }
      ]
    },
    {
      "cell_type": "code",
      "source": [
        "a.dtype"
      ],
      "metadata": {
        "colab": {
          "base_uri": "https://localhost:8080/"
        },
        "id": "1LQ3tbhgIuv6",
        "outputId": "d23e835a-4e8b-4029-a6cc-563ce43c0187"
      },
      "execution_count": null,
      "outputs": [
        {
          "output_type": "execute_result",
          "data": {
            "text/plain": [
              "dtype('int64')"
            ]
          },
          "metadata": {},
          "execution_count": 3
        }
      ]
    },
    {
      "cell_type": "code",
      "source": [
        "b.dtype"
      ],
      "metadata": {
        "colab": {
          "base_uri": "https://localhost:8080/"
        },
        "id": "ewDCIZdaIw3b",
        "outputId": "9524fa71-63dc-453e-8d12-d2144a3272a6"
      },
      "execution_count": null,
      "outputs": [
        {
          "output_type": "execute_result",
          "data": {
            "text/plain": [
              "dtype('float64')"
            ]
          },
          "metadata": {},
          "execution_count": 4
        }
      ]
    },
    {
      "cell_type": "markdown",
      "source": [
        "* .ndim() to check for dimensionality of array"
      ],
      "metadata": {
        "id": "ovpyTqSGK_tv"
      }
    },
    {
      "cell_type": "code",
      "source": [
        "a=np.array([[1,2,3],[4,5,6]])\n",
        "print(a)"
      ],
      "metadata": {
        "colab": {
          "base_uri": "https://localhost:8080/"
        },
        "id": "r7QFazzAI7A4",
        "outputId": "9a304a2b-6b9b-4b10-f000-67ad97ad4b88"
      },
      "execution_count": null,
      "outputs": [
        {
          "output_type": "stream",
          "name": "stdout",
          "text": [
            "[[1 2 3]\n",
            " [4 5 6]]\n"
          ]
        }
      ]
    },
    {
      "cell_type": "code",
      "source": [
        "print(a.ndim)"
      ],
      "metadata": {
        "colab": {
          "base_uri": "https://localhost:8080/"
        },
        "id": "WjtecfF7KpwH",
        "outputId": "878dc997-01f8-4ae8-d3c3-0a8ddb611f2d"
      },
      "execution_count": null,
      "outputs": [
        {
          "output_type": "stream",
          "name": "stdout",
          "text": [
            "2\n"
          ]
        }
      ]
    },
    {
      "cell_type": "code",
      "source": [
        "print(a[0][1])\n",
        "#OR\n",
        "print(a[0,1])"
      ],
      "metadata": {
        "colab": {
          "base_uri": "https://localhost:8080/"
        },
        "id": "OIyLuIWxKs3O",
        "outputId": "e3fa6046-d3de-4efd-a6ff-8c866cb18886"
      },
      "execution_count": null,
      "outputs": [
        {
          "output_type": "stream",
          "name": "stdout",
          "text": [
            "2\n",
            "2\n"
          ]
        }
      ]
    },
    {
      "cell_type": "code",
      "source": [
        "b=np.array([[[1,2,3],[4,5,6]],[[7,8,9],[10,11,12]]])\n",
        "print(b.ndim)"
      ],
      "metadata": {
        "colab": {
          "base_uri": "https://localhost:8080/"
        },
        "id": "6nA8GZbSK4h6",
        "outputId": "00e04ea1-6f07-4c80-d835-ec315859bbe8"
      },
      "execution_count": null,
      "outputs": [
        {
          "output_type": "stream",
          "name": "stdout",
          "text": [
            "3\n"
          ]
        }
      ]
    },
    {
      "cell_type": "code",
      "source": [
        "print(b[1,0])"
      ],
      "metadata": {
        "colab": {
          "base_uri": "https://localhost:8080/"
        },
        "id": "mWo_sAHCLOYL",
        "outputId": "dbb02659-5cf3-44a5-a8da-f673869b66a9"
      },
      "execution_count": null,
      "outputs": [
        {
          "output_type": "stream",
          "name": "stdout",
          "text": [
            "[7 8 9]\n"
          ]
        }
      ]
    },
    {
      "cell_type": "code",
      "source": [
        "print(b[1,0,2])"
      ],
      "metadata": {
        "colab": {
          "base_uri": "https://localhost:8080/"
        },
        "id": "rARxeQZ2LS6q",
        "outputId": "67f55953-e3ec-44a7-d92d-4b2848cd3993"
      },
      "execution_count": null,
      "outputs": [
        {
          "output_type": "stream",
          "name": "stdout",
          "text": [
            "9\n"
          ]
        }
      ]
    },
    {
      "cell_type": "code",
      "source": [
        "c=np.array([1])\n",
        "d=np.array(2)\n",
        "print(c.ndim)\n",
        "print(d.ndim)"
      ],
      "metadata": {
        "colab": {
          "base_uri": "https://localhost:8080/"
        },
        "id": "fkrjrbbgQ98H",
        "outputId": "464b3d22-fb8b-4c0e-dd7f-24529ecaf9df"
      },
      "execution_count": null,
      "outputs": [
        {
          "output_type": "stream",
          "name": "stdout",
          "text": [
            "1\n",
            "0\n"
          ]
        }
      ]
    },
    {
      "cell_type": "markdown",
      "source": [
        "* Can't add different number of elements in array."
      ],
      "metadata": {
        "id": "snShqyHrMBME"
      }
    },
    {
      "cell_type": "code",
      "source": [
        "a=np.array([[1,2],[3,4,5]])\n",
        "print(a)"
      ],
      "metadata": {
        "colab": {
          "base_uri": "https://localhost:8080/",
          "height": 176
        },
        "id": "zgoO3Zy3LVf7",
        "outputId": "8b80c6ab-e7ce-49e2-93f6-2297f742e40c"
      },
      "execution_count": null,
      "outputs": [
        {
          "output_type": "error",
          "ename": "ValueError",
          "evalue": "setting an array element with a sequence. The requested array has an inhomogeneous shape after 1 dimensions. The detected shape was (2,) + inhomogeneous part.",
          "traceback": [
            "\u001b[0;31m---------------------------------------------------------------------------\u001b[0m",
            "\u001b[0;31mValueError\u001b[0m                                Traceback (most recent call last)",
            "\u001b[0;32m<ipython-input-12-5fa33c3d49a6>\u001b[0m in \u001b[0;36m<cell line: 1>\u001b[0;34m()\u001b[0m\n\u001b[0;32m----> 1\u001b[0;31m \u001b[0ma\u001b[0m\u001b[0;34m=\u001b[0m\u001b[0mnp\u001b[0m\u001b[0;34m.\u001b[0m\u001b[0marray\u001b[0m\u001b[0;34m(\u001b[0m\u001b[0;34m[\u001b[0m\u001b[0;34m[\u001b[0m\u001b[0;36m1\u001b[0m\u001b[0;34m,\u001b[0m\u001b[0;36m2\u001b[0m\u001b[0;34m]\u001b[0m\u001b[0;34m,\u001b[0m\u001b[0;34m[\u001b[0m\u001b[0;36m3\u001b[0m\u001b[0;34m,\u001b[0m\u001b[0;36m4\u001b[0m\u001b[0;34m,\u001b[0m\u001b[0;36m5\u001b[0m\u001b[0;34m]\u001b[0m\u001b[0;34m]\u001b[0m\u001b[0;34m)\u001b[0m\u001b[0;34m\u001b[0m\u001b[0;34m\u001b[0m\u001b[0m\n\u001b[0m\u001b[1;32m      2\u001b[0m \u001b[0mprint\u001b[0m\u001b[0;34m(\u001b[0m\u001b[0ma\u001b[0m\u001b[0;34m)\u001b[0m\u001b[0;34m\u001b[0m\u001b[0;34m\u001b[0m\u001b[0m\n",
            "\u001b[0;31mValueError\u001b[0m: setting an array element with a sequence. The requested array has an inhomogeneous shape after 1 dimensions. The detected shape was (2,) + inhomogeneous part."
          ]
        }
      ]
    },
    {
      "cell_type": "markdown",
      "source": [
        "* .shape to check how many elements are present in inside layer."
      ],
      "metadata": {
        "id": "fpOiLyesPdfF"
      }
    },
    {
      "cell_type": "code",
      "source": [
        "print(b)"
      ],
      "metadata": {
        "colab": {
          "base_uri": "https://localhost:8080/"
        },
        "id": "ykWc-owNL8Cu",
        "outputId": "cfb220a6-4b5d-4095-ecfa-0b9573823c12"
      },
      "execution_count": null,
      "outputs": [
        {
          "output_type": "stream",
          "name": "stdout",
          "text": [
            "[[[ 1  2  3]\n",
            "  [ 4  5  6]]\n",
            "\n",
            " [[ 7  8  9]\n",
            "  [10 11 12]]]\n"
          ]
        }
      ]
    },
    {
      "cell_type": "code",
      "source": [
        "b.shape\n",
        "#This means there are 2 2D arrays inside 3D array, 2 1D arrays inside it and 3 elements each inside it"
      ],
      "metadata": {
        "colab": {
          "base_uri": "https://localhost:8080/"
        },
        "id": "PpDsNPh-PZuh",
        "outputId": "1afd6e59-45c3-4f30-d377-5a9d4bf9824e"
      },
      "execution_count": null,
      "outputs": [
        {
          "output_type": "execute_result",
          "data": {
            "text/plain": [
              "(2, 2, 3)"
            ]
          },
          "metadata": {},
          "execution_count": 14
        }
      ]
    },
    {
      "cell_type": "code",
      "source": [
        "b.shape[0]"
      ],
      "metadata": {
        "colab": {
          "base_uri": "https://localhost:8080/"
        },
        "id": "cGNElyJmPpiF",
        "outputId": "dbdebaa8-7046-46f0-8b2d-37a302ab56b8"
      },
      "execution_count": null,
      "outputs": [
        {
          "output_type": "execute_result",
          "data": {
            "text/plain": [
              "2"
            ]
          },
          "metadata": {},
          "execution_count": 15
        }
      ]
    },
    {
      "cell_type": "code",
      "source": [
        "b.shape[2]"
      ],
      "metadata": {
        "colab": {
          "base_uri": "https://localhost:8080/"
        },
        "id": "Rsw28MU4QAfB",
        "outputId": "d459c29b-46ec-463b-d087-7a384fb9c64c"
      },
      "execution_count": null,
      "outputs": [
        {
          "output_type": "execute_result",
          "data": {
            "text/plain": [
              "3"
            ]
          },
          "metadata": {},
          "execution_count": 16
        }
      ]
    },
    {
      "cell_type": "markdown",
      "source": [
        "* .size to compute total number of elements in an array"
      ],
      "metadata": {
        "id": "le4pVl_xRSKa"
      }
    },
    {
      "cell_type": "code",
      "source": [
        "print(b)\n",
        "print(\"Size is:\",b.size)"
      ],
      "metadata": {
        "colab": {
          "base_uri": "https://localhost:8080/"
        },
        "id": "f4qcJDl5QVcS",
        "outputId": "f8b6c959-9d5c-4f4d-e728-6ddfa431c5ca"
      },
      "execution_count": null,
      "outputs": [
        {
          "output_type": "stream",
          "name": "stdout",
          "text": [
            "[[[ 1  2  3]\n",
            "  [ 4  5  6]]\n",
            "\n",
            " [[ 7  8  9]\n",
            "  [10 11 12]]]\n",
            "Size is: 12\n"
          ]
        }
      ]
    },
    {
      "cell_type": "code",
      "source": [
        "print(a)\n",
        "print(a.size)"
      ],
      "metadata": {
        "colab": {
          "base_uri": "https://localhost:8080/"
        },
        "id": "WbJLrW7pRd-O",
        "outputId": "3ee30b18-e462-4947-cec6-caaf32bec222"
      },
      "execution_count": null,
      "outputs": [
        {
          "output_type": "stream",
          "name": "stdout",
          "text": [
            "[[1 2 3]\n",
            " [4 5 6]]\n",
            "6\n"
          ]
        }
      ]
    },
    {
      "cell_type": "code",
      "source": [
        "np.zeros((3,4)) #Create an array of zeros"
      ],
      "metadata": {
        "colab": {
          "base_uri": "https://localhost:8080/"
        },
        "id": "ApTuT311RgzB",
        "outputId": "cc903ea1-cbd0-482f-8f9a-4812190de5ef"
      },
      "execution_count": null,
      "outputs": [
        {
          "output_type": "execute_result",
          "data": {
            "text/plain": [
              "array([[0., 0., 0., 0.],\n",
              "       [0., 0., 0., 0.],\n",
              "       [0., 0., 0., 0.]])"
            ]
          },
          "metadata": {},
          "execution_count": 21
        }
      ]
    },
    {
      "cell_type": "code",
      "source": [
        "np.ones((3,4)) #Create an array of ones"
      ],
      "metadata": {
        "id": "ZFSqHHj_Stz9",
        "colab": {
          "base_uri": "https://localhost:8080/"
        },
        "outputId": "98cc36bb-6026-4652-b0a8-61181da9eefe"
      },
      "execution_count": null,
      "outputs": [
        {
          "output_type": "execute_result",
          "data": {
            "text/plain": [
              "array([[1., 1., 1., 1.],\n",
              "       [1., 1., 1., 1.],\n",
              "       [1., 1., 1., 1.]])"
            ]
          },
          "metadata": {},
          "execution_count": 22
        }
      ]
    },
    {
      "cell_type": "markdown",
      "source": [
        "* arange(start,stop,step) to create a range of numbers in the array"
      ],
      "metadata": {
        "id": "J2noQgw2Eoqb"
      }
    },
    {
      "cell_type": "code",
      "source": [
        "np.arange(10)"
      ],
      "metadata": {
        "colab": {
          "base_uri": "https://localhost:8080/"
        },
        "id": "PCA4y0GvDUAD",
        "outputId": "2959e670-bf09-4d8f-aa97-3aef4d2c683e"
      },
      "execution_count": null,
      "outputs": [
        {
          "output_type": "execute_result",
          "data": {
            "text/plain": [
              "array([0, 1, 2, 3, 4, 5, 6, 7, 8, 9])"
            ]
          },
          "metadata": {},
          "execution_count": 23
        }
      ]
    },
    {
      "cell_type": "code",
      "source": [
        "np.arange(1,10,2)"
      ],
      "metadata": {
        "colab": {
          "base_uri": "https://localhost:8080/"
        },
        "id": "F1Jd-GPXEuvw",
        "outputId": "d200fb27-ed48-4f3f-b39b-294e979a20d5"
      },
      "execution_count": null,
      "outputs": [
        {
          "output_type": "execute_result",
          "data": {
            "text/plain": [
              "array([1, 3, 5, 7, 9])"
            ]
          },
          "metadata": {},
          "execution_count": 24
        }
      ]
    },
    {
      "cell_type": "markdown",
      "source": [
        "* random package in numpy"
      ],
      "metadata": {
        "id": "gM5VY0vQFR1z"
      }
    },
    {
      "cell_type": "markdown",
      "source": [
        "1) np.random.permutation to shuffle all the elements in an array"
      ],
      "metadata": {
        "id": "379aod-CFWu-"
      }
    },
    {
      "cell_type": "code",
      "source": [
        "a=np.random.permutation(np.arange(10))\n",
        "print(a)"
      ],
      "metadata": {
        "colab": {
          "base_uri": "https://localhost:8080/"
        },
        "id": "DL9yzTxMEwwq",
        "outputId": "5b701700-ec84-494b-9fa1-49b003eb51e8"
      },
      "execution_count": null,
      "outputs": [
        {
          "output_type": "stream",
          "name": "stdout",
          "text": [
            "[6 3 8 1 2 7 4 0 5 9]\n"
          ]
        }
      ]
    },
    {
      "cell_type": "markdown",
      "source": [
        "2) np.random.randint to generate a random integer between a given range"
      ],
      "metadata": {
        "id": "7xzrMINeF4sc"
      }
    },
    {
      "cell_type": "code",
      "source": [
        "np.random.randint(20,100)"
      ],
      "metadata": {
        "colab": {
          "base_uri": "https://localhost:8080/"
        },
        "id": "fjMGpeFZFmZD",
        "outputId": "b1bd1709-f690-4c42-9d32-c337e7cc573f"
      },
      "execution_count": null,
      "outputs": [
        {
          "output_type": "execute_result",
          "data": {
            "text/plain": [
              "36"
            ]
          },
          "metadata": {},
          "execution_count": 27
        }
      ]
    },
    {
      "cell_type": "markdown",
      "source": [
        "3) np.random.rand() to generate random values between [0,1) but it takes (), single brackets to take size of array"
      ],
      "metadata": {
        "id": "fbMnbwEqRhTL"
      }
    },
    {
      "cell_type": "code",
      "source": [
        "a=np.random.rand(100)\n",
        "print(a)"
      ],
      "metadata": {
        "colab": {
          "base_uri": "https://localhost:8080/"
        },
        "id": "01o-p8bHGBgt",
        "outputId": "c4465bac-2e20-41aa-842d-ab706719d843"
      },
      "execution_count": null,
      "outputs": [
        {
          "output_type": "stream",
          "name": "stdout",
          "text": [
            "[0.74435581 0.94769271 0.97414487 0.85153814 0.30090865 0.24160441\n",
            " 0.41084151 0.89434056 0.64194071 0.42512318 0.36505306 0.86731601\n",
            " 0.43012326 0.42770328 0.25844786 0.81144656 0.01739116 0.53533981\n",
            " 0.85278323 0.61578761 0.44119693 0.66120002 0.10903093 0.41173221\n",
            " 0.04408417 0.51984982 0.52486354 0.49175541 0.78981806 0.28011188\n",
            " 0.46227526 0.94653017 0.09131046 0.49076713 0.34786661 0.09111368\n",
            " 0.97604527 0.43208477 0.17504352 0.95389961 0.02706704 0.60693787\n",
            " 0.9928516  0.95326998 0.16907343 0.11995677 0.34742953 0.74987489\n",
            " 0.30313633 0.56637603 0.23243696 0.63418082 0.02239492 0.84114006\n",
            " 0.79701719 0.04284805 0.33434935 0.09555562 0.11687252 0.59360425\n",
            " 0.88729307 0.79402938 0.13018412 0.07746479 0.09545059 0.35890704\n",
            " 0.18547836 0.07490681 0.73139205 0.01675803 0.98353379 0.30031941\n",
            " 0.5678727  0.33741341 0.83757728 0.75630463 0.0028349  0.16595476\n",
            " 0.2494671  0.01622733 0.66682653 0.49635123 0.05021867 0.13131429\n",
            " 0.96985481 0.11402084 0.00358198 0.87273904 0.15763012 0.21241396\n",
            " 0.07644146 0.23744586 0.76711414 0.32138663 0.12007117 0.64786855\n",
            " 0.05544482 0.72428572 0.2769267  0.5461091 ]\n"
          ]
        }
      ]
    },
    {
      "cell_type": "code",
      "source": [
        "np.random.rand(3,2)"
      ],
      "metadata": {
        "colab": {
          "base_uri": "https://localhost:8080/"
        },
        "id": "E8InhLwFTDC1",
        "outputId": "67d8db75-92d3-41e8-8c46-bf1d54add47b"
      },
      "execution_count": null,
      "outputs": [
        {
          "output_type": "execute_result",
          "data": {
            "text/plain": [
              "array([[0.73972376, 0.95457513],\n",
              "       [0.0967304 , 0.51983971],\n",
              "       [0.96166758, 0.26527624]])"
            ]
          },
          "metadata": {},
          "execution_count": 42
        }
      ]
    },
    {
      "cell_type": "code",
      "source": [
        "import matplotlib.pyplot as plt"
      ],
      "metadata": {
        "id": "onPyYqJrTsm-"
      },
      "execution_count": null,
      "outputs": []
    },
    {
      "cell_type": "code",
      "source": [
        "plt.hist(a)"
      ],
      "metadata": {
        "colab": {
          "base_uri": "https://localhost:8080/",
          "height": 517
        },
        "id": "9a1M9ZzrTxKo",
        "outputId": "9eefe068-20e7-4a6d-ddbf-fbb0af48f038"
      },
      "execution_count": null,
      "outputs": [
        {
          "output_type": "execute_result",
          "data": {
            "text/plain": [
              "(array([18., 12.,  8., 10., 11.,  7.,  7.,  8.,  9., 10.]),\n",
              " array([0.0028349 , 0.10183657, 0.20083824, 0.29983991, 0.39884158,\n",
              "        0.49784325, 0.59684492, 0.69584659, 0.79484826, 0.89384993,\n",
              "        0.9928516 ]),\n",
              " <BarContainer object of 10 artists>)"
            ]
          },
          "metadata": {},
          "execution_count": 45
        },
        {
          "output_type": "display_data",
          "data": {
            "text/plain": [
              "<Figure size 640x480 with 1 Axes>"
            ],
            "image/png": "[encoded data removed]"
          },
          "metadata": {}
        }
      ]
    },
    {
      "cell_type": "markdown",
      "source": [
        "4) np.random.random() to generate random values between [0,1) but it takes (()), two brackets to take size of array"
      ],
      "metadata": {
        "id": "lXoAAi1aTHID"
      }
    },
    {
      "cell_type": "code",
      "source": [
        "np.random.random((3,2))"
      ],
      "metadata": {
        "colab": {
          "base_uri": "https://localhost:8080/"
        },
        "id": "8XPDOYNATEf0",
        "outputId": "c6ec7cbf-f364-49d2-c3a5-a360c137a96e"
      },
      "execution_count": null,
      "outputs": [
        {
          "output_type": "execute_result",
          "data": {
            "text/plain": [
              "array([[0.4841159 , 0.43772604],\n",
              "       [0.68148883, 0.05289787],\n",
              "       [0.19389816, 0.16298219]])"
            ]
          },
          "metadata": {},
          "execution_count": 30
        }
      ]
    },
    {
      "cell_type": "code",
      "source": [
        "a=np.random.random((5))"
      ],
      "metadata": {
        "id": "aWu5E6XZTMvQ"
      },
      "execution_count": null,
      "outputs": []
    },
    {
      "cell_type": "code",
      "source": [
        "plt.hist(a)"
      ],
      "metadata": {
        "colab": {
          "base_uri": "https://localhost:8080/",
          "height": 517
        },
        "id": "R9Z-2dhaTeUl",
        "outputId": "d81e1422-e433-4cac-9b99-fe91c57e2ad6"
      },
      "execution_count": null,
      "outputs": [
        {
          "output_type": "execute_result",
          "data": {
            "text/plain": [
              "(array([1., 1., 1., 0., 0., 0., 0., 1., 0., 1.]),\n",
              " array([0.12676257, 0.18277906, 0.23879555, 0.29481204, 0.35082852,\n",
              "        0.40684501, 0.4628615 , 0.51887799, 0.57489448, 0.63091097,\n",
              "        0.68692746]),\n",
              " <BarContainer object of 10 artists>)"
            ]
          },
          "metadata": {},
          "execution_count": 48
        },
        {
          "output_type": "display_data",
          "data": {
            "text/plain": [
              "<Figure size 640x480 with 1 Axes>"
            ],
            "image/png": "[encoded data removed]"
          },
          "metadata": {}
        }
      ]
    },
    {
      "cell_type": "markdown",
      "source": [
        "5) np.random.randn() to generate random values in a bell shaped curve, gaussian distribution"
      ],
      "metadata": {
        "id": "Dyl3fWgyYo6-"
      }
    },
    {
      "cell_type": "code",
      "source": [
        "a=np.random.randn(100)\n",
        "print(a)\n",
        "plt.hist(a, bins=100)"
      ],
      "metadata": {
        "colab": {
          "base_uri": "https://localhost:8080/",
          "height": 1000
        },
        "id": "7IATSfZQXpM-",
        "outputId": "4496654d-7c17-43b5-fca8-b58eadf66f05"
      },
      "execution_count": null,
      "outputs": [
        {
          "output_type": "stream",
          "name": "stdout",
          "text": [
            "[-1.8616998   1.14130027  1.75400452  1.22682374 -1.12177938 -1.33649351\n",
            " -0.63627806  0.71523348  1.05839233 -0.03045884 -0.79896968  0.32390095\n",
            " -0.2137413  -2.70679767 -1.06776849  0.45920381  1.33173334 -0.31586348\n",
            " -0.50063625  1.31901382 -1.1201283  -0.27683687  1.54289646 -1.7889171\n",
            " -1.26690397 -1.53151192 -0.98336795 -1.27372622  0.44193087 -1.44878165\n",
            " -0.55903681  0.71313026  0.02917282 -0.1028846  -0.43651447  1.22870429\n",
            "  2.08410292  0.9164289  -0.28472354 -0.95395064  0.5387702   1.24380068\n",
            " -0.6090698   0.62931959  0.18541251 -1.51363429 -0.7954081  -1.34359932\n",
            "  1.3137198   1.4863145   0.05893264  0.62673877  0.43337271 -1.41134\n",
            "  0.80313368  0.39966443  0.9670317  -0.86873851 -0.50784294 -0.13198201\n",
            " -1.06991969 -1.59598642  0.03747567  0.82999412 -0.03606068  1.84826514\n",
            " -1.07886916  0.92113426 -0.11516194 -0.21150612 -2.22137518  0.35039718\n",
            "  1.19784001  0.08119954 -0.27624835  1.41602084  1.55197259  0.19640117\n",
            "  1.18582796  0.5059712   0.01203521  0.81810705 -0.61960429 -1.77165868\n",
            "  0.58209467  0.37040559  1.34343693  0.28762619  1.31255001  0.25669823\n",
            " -2.13268229 -0.45965151  0.01485411 -1.45221927 -0.25630943  2.12079229\n",
            " -1.85379181  1.37208591  1.92219442  0.02552263]\n"
          ]
        },
        {
          "output_type": "execute_result",
          "data": {
            "text/plain": [
              "(array([1., 0., 0., 0., 0., 0., 0., 0., 0., 0., 1., 1., 0., 0., 0., 0., 0.,\n",
              "        2., 0., 2., 0., 0., 0., 1., 2., 1., 2., 0., 2., 2., 0., 0., 2., 3.,\n",
              "        0., 1., 1., 0., 1., 2., 0., 0., 1., 2., 1., 2., 1., 1., 0., 1., 4.,\n",
              "        2., 0., 3., 0., 2., 5., 2., 0., 1., 1., 1., 2., 2., 1., 3., 1., 1.,\n",
              "        1., 2., 2., 0., 1., 2., 0., 2., 1., 1., 0., 1., 2., 3., 0., 5., 1.,\n",
              "        1., 1., 0., 2., 0., 0., 0., 1., 0., 1., 1., 0., 0., 0., 2.]),\n",
              " array([-2.70679767, -2.65852177, -2.61024587, -2.56196997, -2.51369407,\n",
              "        -2.46541817, -2.41714227, -2.36886637, -2.32059047, -2.27231457,\n",
              "        -2.22403867, -2.17576278, -2.12748688, -2.07921098, -2.03093508,\n",
              "        -1.98265918, -1.93438328, -1.88610738, -1.83783148, -1.78955558,\n",
              "        -1.74127968, -1.69300378, -1.64472788, -1.59645198, -1.54817608,\n",
              "        -1.49990018, -1.45162428, -1.40334838, -1.35507248, -1.30679658,\n",
              "        -1.25852068, -1.21024478, -1.16196888, -1.11369298, -1.06541708,\n",
              "        -1.01714118, -0.96886528, -0.92058938, -0.87231349, -0.82403759,\n",
              "        -0.77576169, -0.72748579, -0.67920989, -0.63093399, -0.58265809,\n",
              "        -0.53438219, -0.48610629, -0.43783039, -0.38955449, -0.34127859,\n",
              "        -0.29300269, -0.24472679, -0.19645089, -0.14817499, -0.09989909,\n",
              "        -0.05162319, -0.00334729,  0.04492861,  0.09320451,  0.14148041,\n",
              "         0.18975631,  0.23803221,  0.28630811,  0.33458401,  0.38285991,\n",
              "         0.4311358 ,  0.4794117 ,  0.5276876 ,  0.5759635 ,  0.6242394 ,\n",
              "         0.6725153 ,  0.7207912 ,  0.7690671 ,  0.817343  ,  0.8656189 ,\n",
              "         0.9138948 ,  0.9621707 ,  1.0104466 ,  1.0587225 ,  1.1069984 ,\n",
              "         1.1552743 ,  1.2035502 ,  1.2518261 ,  1.300102  ,  1.3483779 ,\n",
              "         1.3966538 ,  1.4449297 ,  1.4932056 ,  1.5414815 ,  1.5897574 ,\n",
              "         1.6380333 ,  1.6863092 ,  1.73458509,  1.78286099,  1.83113689,\n",
              "         1.87941279,  1.92768869,  1.97596459,  2.02424049,  2.07251639,\n",
              "         2.12079229]),\n",
              " <BarContainer object of 100 artists>)"
            ]
          },
          "metadata": {},
          "execution_count": 77
        },
        {
          "output_type": "display_data",
          "data": {
            "text/plain": [
              "<Figure size 640x480 with 1 Axes>"
            ],
            "image/png": "[encoded data removed]"
          },
          "metadata": {}
        }
      ]
    },
    {
      "cell_type": "markdown",
      "source": [
        "* .reshape() to reshape the array into a particular dimension"
      ],
      "metadata": {
        "id": "tN5ZV7gZZgQQ"
      }
    },
    {
      "cell_type": "code",
      "source": [
        "a=np.array(np.arange(100)).reshape(4,25)\n",
        "print(a)"
      ],
      "metadata": {
        "colab": {
          "base_uri": "https://localhost:8080/"
        },
        "id": "LVuVIOvlY4mw",
        "outputId": "75b836af-cedc-4de0-a818-6da4ad43cd03"
      },
      "execution_count": null,
      "outputs": [
        {
          "output_type": "stream",
          "name": "stdout",
          "text": [
            "[[ 0  1  2  3  4  5  6  7  8  9 10 11 12 13 14 15 16 17 18 19 20 21 22 23\n",
            "  24]\n",
            " [25 26 27 28 29 30 31 32 33 34 35 36 37 38 39 40 41 42 43 44 45 46 47 48\n",
            "  49]\n",
            " [50 51 52 53 54 55 56 57 58 59 60 61 62 63 64 65 66 67 68 69 70 71 72 73\n",
            "  74]\n",
            " [75 76 77 78 79 80 81 82 83 84 85 86 87 88 89 90 91 92 93 94 95 96 97 98\n",
            "  99]]\n"
          ]
        }
      ]
    },
    {
      "cell_type": "code",
      "source": [
        "a=np.array(np.arange(100)).reshape(4,5,5)\n",
        "print(a)"
      ],
      "metadata": {
        "colab": {
          "base_uri": "https://localhost:8080/"
        },
        "id": "7mdK1r3kZtZ_",
        "outputId": "63339a49-7b8a-4236-a5e9-fc88490b34ed"
      },
      "execution_count": null,
      "outputs": [
        {
          "output_type": "stream",
          "name": "stdout",
          "text": [
            "[[[ 0  1  2  3  4]\n",
            "  [ 5  6  7  8  9]\n",
            "  [10 11 12 13 14]\n",
            "  [15 16 17 18 19]\n",
            "  [20 21 22 23 24]]\n",
            "\n",
            " [[25 26 27 28 29]\n",
            "  [30 31 32 33 34]\n",
            "  [35 36 37 38 39]\n",
            "  [40 41 42 43 44]\n",
            "  [45 46 47 48 49]]\n",
            "\n",
            " [[50 51 52 53 54]\n",
            "  [55 56 57 58 59]\n",
            "  [60 61 62 63 64]\n",
            "  [65 66 67 68 69]\n",
            "  [70 71 72 73 74]]\n",
            "\n",
            " [[75 76 77 78 79]\n",
            "  [80 81 82 83 84]\n",
            "  [85 86 87 88 89]\n",
            "  [90 91 92 93 94]\n",
            "  [95 96 97 98 99]]]\n"
          ]
        }
      ]
    },
    {
      "cell_type": "code",
      "source": [
        "a=np.array(np.arange(100)).reshape(4,15)\n",
        "print(a)"
      ],
      "metadata": {
        "colab": {
          "base_uri": "https://localhost:8080/",
          "height": 158
        },
        "id": "dFoFzzhkZxEs",
        "outputId": "83edc0bf-7704-4d3c-fa5e-82219a93a693"
      },
      "execution_count": null,
      "outputs": [
        {
          "output_type": "error",
          "ename": "ValueError",
          "evalue": "cannot reshape array of size 100 into shape (4,15)",
          "traceback": [
            "\u001b[0;31m---------------------------------------------------------------------------\u001b[0m",
            "\u001b[0;31mValueError\u001b[0m                                Traceback (most recent call last)",
            "\u001b[0;32m<ipython-input-80-50451a82ef61>\u001b[0m in \u001b[0;36m<cell line: 1>\u001b[0;34m()\u001b[0m\n\u001b[0;32m----> 1\u001b[0;31m \u001b[0ma\u001b[0m\u001b[0;34m=\u001b[0m\u001b[0mnp\u001b[0m\u001b[0;34m.\u001b[0m\u001b[0marray\u001b[0m\u001b[0;34m(\u001b[0m\u001b[0mnp\u001b[0m\u001b[0;34m.\u001b[0m\u001b[0marange\u001b[0m\u001b[0;34m(\u001b[0m\u001b[0;36m100\u001b[0m\u001b[0;34m)\u001b[0m\u001b[0;34m)\u001b[0m\u001b[0;34m.\u001b[0m\u001b[0mreshape\u001b[0m\u001b[0;34m(\u001b[0m\u001b[0;36m4\u001b[0m\u001b[0;34m,\u001b[0m\u001b[0;36m15\u001b[0m\u001b[0;34m)\u001b[0m\u001b[0;34m\u001b[0m\u001b[0;34m\u001b[0m\u001b[0m\n\u001b[0m\u001b[1;32m      2\u001b[0m \u001b[0mprint\u001b[0m\u001b[0;34m(\u001b[0m\u001b[0ma\u001b[0m\u001b[0;34m)\u001b[0m\u001b[0;34m\u001b[0m\u001b[0;34m\u001b[0m\u001b[0m\n",
            "\u001b[0;31mValueError\u001b[0m: cannot reshape array of size 100 into shape (4,15)"
          ]
        }
      ]
    },
    {
      "cell_type": "markdown",
      "source": [
        "* Slicing in numpy <br>\n",
        "In numpy, even if an array is sliced, it refers to the same memory location and changes in sliced array will be reflected in the original array. To avoid this we need to use the copy() function."
      ],
      "metadata": {
        "id": "RWmZkzX81j7z"
      }
    },
    {
      "cell_type": "code",
      "source": [
        "a=np.array([1,2,3,4,5])\n",
        "b=a[0:3]\n",
        "print(b)\n",
        "b[0]=-2\n",
        "print(b)\n",
        "print(a)"
      ],
      "metadata": {
        "colab": {
          "base_uri": "https://localhost:8080/"
        },
        "id": "U0Wr7v7PZywb",
        "outputId": "34bcc7c8-2706-42b5-af5a-594fff81e7c9"
      },
      "execution_count": null,
      "outputs": [
        {
          "output_type": "stream",
          "name": "stdout",
          "text": [
            "[1 2 3]\n",
            "[-2  2  3]\n",
            "[-2  2  3  4  5]\n"
          ]
        }
      ]
    },
    {
      "cell_type": "code",
      "source": [
        "a=np.array([1,2,3,4,5])\n",
        "b=a[0:3].copy()\n",
        "print(b)\n",
        "b[0]=-2\n",
        "print(b)\n",
        "print(a)"
      ],
      "metadata": {
        "colab": {
          "base_uri": "https://localhost:8080/"
        },
        "id": "F60mB3cT18wJ",
        "outputId": "58029ce4-299f-46c2-ba4b-9258992506dd"
      },
      "execution_count": null,
      "outputs": [
        {
          "output_type": "stream",
          "name": "stdout",
          "text": [
            "[1 2 3]\n",
            "[-2  2  3]\n",
            "[1 2 3 4 5]\n"
          ]
        }
      ]
    },
    {
      "cell_type": "markdown",
      "source": [
        "* argwhere() to find index of a particular element in an array. Always returns a 2D array"
      ],
      "metadata": {
        "id": "si2gzTfk4yP6"
      }
    },
    {
      "cell_type": "code",
      "source": [
        "a=np.array([1,2,3,4,5])\n",
        "print(np.argwhere(a==3))"
      ],
      "metadata": {
        "colab": {
          "base_uri": "https://localhost:8080/"
        },
        "id": "FnWL7pYh2DA8",
        "outputId": "13991a44-a3b6-4de4-841c-d8e9a97acc71"
      },
      "execution_count": null,
      "outputs": [
        {
          "output_type": "stream",
          "name": "stdout",
          "text": [
            "[[2]]\n"
          ]
        }
      ]
    },
    {
      "cell_type": "code",
      "source": [
        "a=np.array([[1,2,3],[4,5,6],[7,8,9]])\n",
        "print(np.argwhere(a==7))"
      ],
      "metadata": {
        "colab": {
          "base_uri": "https://localhost:8080/"
        },
        "id": "uaeNZMC743YD",
        "outputId": "bb085582-f39c-4c3b-cb23-aa3fa1a1d73b"
      },
      "execution_count": null,
      "outputs": [
        {
          "output_type": "stream",
          "name": "stdout",
          "text": [
            "[[2 0]]\n"
          ]
        }
      ]
    },
    {
      "cell_type": "code",
      "source": [
        "a=np.array([[1,2,3],[4,5,6],[7,8,9]])\n",
        "print(np.argwhere(a>5))"
      ],
      "metadata": {
        "colab": {
          "base_uri": "https://localhost:8080/"
        },
        "id": "T1yMwB2W49WW",
        "outputId": "584b1fcf-5c54-4b2f-b48b-da69323d0dd9"
      },
      "execution_count": null,
      "outputs": [
        {
          "output_type": "stream",
          "name": "stdout",
          "text": [
            "[[1 2]\n",
            " [2 0]\n",
            " [2 1]\n",
            " [2 2]]\n"
          ]
        }
      ]
    },
    {
      "cell_type": "code",
      "source": [
        "a=np.array([1,2,3,4,5])\n",
        "print(np.argwhere(a==36))"
      ],
      "metadata": {
        "colab": {
          "base_uri": "https://localhost:8080/"
        },
        "id": "hPdocb6H5ETJ",
        "outputId": "3b17b020-f4b0-457a-cb74-fa5c01628a2a"
      },
      "execution_count": null,
      "outputs": [
        {
          "output_type": "stream",
          "name": "stdout",
          "text": [
            "[]\n"
          ]
        }
      ]
    },
    {
      "cell_type": "markdown",
      "source": [
        "* Traversing and accessing an array"
      ],
      "metadata": {
        "id": "bwAMT5js5hcv"
      }
    },
    {
      "cell_type": "code",
      "source": [
        "a=np.round(10*np.random.rand(4,5))\n",
        "a"
      ],
      "metadata": {
        "colab": {
          "base_uri": "https://localhost:8080/"
        },
        "id": "uKx2TbJI5G52",
        "outputId": "298de0cb-7ad7-4041-c20d-cb9e028d5dea"
      },
      "execution_count": null,
      "outputs": [
        {
          "output_type": "execute_result",
          "data": {
            "text/plain": [
              "array([[ 5.,  4.,  2., 10.,  5.],\n",
              "       [ 5.,  0.,  6.,  5.,  2.],\n",
              "       [ 2., 10.,  9.,  9.,  3.],\n",
              "       [ 1.,  1.,  7.,  9.,  9.]])"
            ]
          },
          "metadata": {},
          "execution_count": 90
        }
      ]
    },
    {
      "cell_type": "code",
      "source": [
        "a[0,1] #or a[0][1]"
      ],
      "metadata": {
        "colab": {
          "base_uri": "https://localhost:8080/"
        },
        "id": "zSd2iyVu5r_2",
        "outputId": "d2688336-2449-421b-9a57-311ca02c7fce"
      },
      "execution_count": null,
      "outputs": [
        {
          "output_type": "execute_result",
          "data": {
            "text/plain": [
              "4.0"
            ]
          },
          "metadata": {},
          "execution_count": 98
        }
      ]
    },
    {
      "cell_type": "code",
      "source": [
        "#2nd row\n",
        "a[1,:]"
      ],
      "metadata": {
        "colab": {
          "base_uri": "https://localhost:8080/"
        },
        "id": "jxc4vXcq5vxB",
        "outputId": "307e6ab1-b1cf-4eb9-e72b-cf6a9bdbb993"
      },
      "execution_count": null,
      "outputs": [
        {
          "output_type": "execute_result",
          "data": {
            "text/plain": [
              "array([5., 0., 6., 5., 2.])"
            ]
          },
          "metadata": {},
          "execution_count": 93
        }
      ]
    },
    {
      "cell_type": "code",
      "source": [
        "#3rd column\n",
        "a[:,2]"
      ],
      "metadata": {
        "colab": {
          "base_uri": "https://localhost:8080/"
        },
        "id": "L0wtx_Py515_",
        "outputId": "b04d03b2-702a-4e32-fa7a-bedeb5839f6f"
      },
      "execution_count": null,
      "outputs": [
        {
          "output_type": "execute_result",
          "data": {
            "text/plain": [
              "array([2., 6., 9., 7.])"
            ]
          },
          "metadata": {},
          "execution_count": 96
        }
      ]
    },
    {
      "cell_type": "code",
      "source": [
        "#Sub array\n",
        "a[1:3,2:4]"
      ],
      "metadata": {
        "colab": {
          "base_uri": "https://localhost:8080/"
        },
        "id": "Q2ty9q8454w9",
        "outputId": "82df8049-dbd3-4796-9bff-b7c10613dbec"
      },
      "execution_count": null,
      "outputs": [
        {
          "output_type": "execute_result",
          "data": {
            "text/plain": [
              "array([[6., 5.],\n",
              "       [9., 9.]])"
            ]
          },
          "metadata": {},
          "execution_count": 97
        }
      ]
    },
    {
      "cell_type": "code",
      "source": [
        "#Transpose\n",
        "a.T"
      ],
      "metadata": {
        "colab": {
          "base_uri": "https://localhost:8080/"
        },
        "id": "oaS8RXrc6Fu2",
        "outputId": "9581476c-9698-4fb9-900d-99e8ac885345"
      },
      "execution_count": null,
      "outputs": [
        {
          "output_type": "execute_result",
          "data": {
            "text/plain": [
              "array([[ 5.,  5.,  2.,  1.],\n",
              "       [ 4.,  0., 10.,  1.],\n",
              "       [ 2.,  6.,  9.,  7.],\n",
              "       [10.,  5.,  9.,  9.],\n",
              "       [ 5.,  2.,  3.,  9.]])"
            ]
          },
          "metadata": {},
          "execution_count": 99
        }
      ]
    },
    {
      "cell_type": "code",
      "source": [
        "#Sorting\n",
        "a.sort(axis=0) #based on columns\n",
        "a"
      ],
      "metadata": {
        "colab": {
          "base_uri": "https://localhost:8080/"
        },
        "id": "ZGmtgNdn6xoJ",
        "outputId": "c421f0ad-6b44-476c-dbbd-792345c5af36"
      },
      "execution_count": null,
      "outputs": [
        {
          "output_type": "execute_result",
          "data": {
            "text/plain": [
              "array([[ 1.,  0.,  2.,  5.,  2.],\n",
              "       [ 2.,  1.,  6.,  9.,  3.],\n",
              "       [ 5.,  4.,  7.,  9.,  5.],\n",
              "       [ 5., 10.,  9., 10.,  9.]])"
            ]
          },
          "metadata": {},
          "execution_count": 100
        }
      ]
    },
    {
      "cell_type": "code",
      "source": [
        "a.sort(axis=1, kind='mergesort') #based on rows\n",
        "a"
      ],
      "metadata": {
        "colab": {
          "base_uri": "https://localhost:8080/"
        },
        "id": "EzH5Ve6t60vl",
        "outputId": "9cb20f20-64f9-4f90-8828-d35481641d26"
      },
      "execution_count": null,
      "outputs": [
        {
          "output_type": "execute_result",
          "data": {
            "text/plain": [
              "array([[ 0.,  1.,  2.,  2.,  5.],\n",
              "       [ 1.,  2.,  3.,  6.,  9.],\n",
              "       [ 4.,  5.,  5.,  7.,  9.],\n",
              "       [ 5.,  9.,  9., 10., 10.]])"
            ]
          },
          "metadata": {},
          "execution_count": 106
        }
      ]
    },
    {
      "cell_type": "code",
      "source": [
        "a=np.round(10*np.random.rand(3,4))\n",
        "a"
      ],
      "metadata": {
        "colab": {
          "base_uri": "https://localhost:8080/"
        },
        "id": "-Yfs7zfF621q",
        "outputId": "19707d6d-eb43-483c-d5c2-13e23272d6f9"
      },
      "execution_count": null,
      "outputs": [
        {
          "output_type": "execute_result",
          "data": {
            "text/plain": [
              "array([[8., 3., 4., 8.],\n",
              "       [5., 5., 7., 7.],\n",
              "       [9., 1., 8., 2.]])"
            ]
          },
          "metadata": {},
          "execution_count": 113
        }
      ]
    },
    {
      "cell_type": "code",
      "source": [
        "a.sort()\n",
        "a"
      ],
      "metadata": {
        "colab": {
          "base_uri": "https://localhost:8080/"
        },
        "id": "MH3d2A5B7d9a",
        "outputId": "efaac0d2-17ac-4e34-b7a0-917aabf9f3ac"
      },
      "execution_count": null,
      "outputs": [
        {
          "output_type": "execute_result",
          "data": {
            "text/plain": [
              "array([[3., 4., 8., 8.],\n",
              "       [5., 5., 7., 7.],\n",
              "       [1., 2., 8., 9.]])"
            ]
          },
          "metadata": {},
          "execution_count": 114
        }
      ]
    },
    {
      "cell_type": "markdown",
      "source": [
        "* Masking <br>\n",
        "This allows to create a copy which won't be affected upon changing the original's content. Also we can refer to multiple elements at once which are not continuous. Continuous can be accesed by [:]. <br>\n",
        "Always passed as a 2D array."
      ],
      "metadata": {
        "id": "vf4H1nI58hHa"
      }
    },
    {
      "cell_type": "code",
      "source": [
        "a=np.array([1,2,3,4,5])\n",
        "b=a[[1,2]]\n",
        "print(b)\n",
        "b[0]=1\n",
        "print(b)\n",
        "print(a)"
      ],
      "metadata": {
        "colab": {
          "base_uri": "https://localhost:8080/"
        },
        "id": "ZQpdtY1L7g74",
        "outputId": "fa46f0e5-bc4b-42d2-a76d-497dd53f8bdb"
      },
      "execution_count": null,
      "outputs": [
        {
          "output_type": "stream",
          "name": "stdout",
          "text": [
            "[2 3]\n",
            "[1 3]\n",
            "[1 2 3 4 5]\n"
          ]
        }
      ]
    },
    {
      "cell_type": "code",
      "source": [
        "a[[0,2,4]]"
      ],
      "metadata": {
        "colab": {
          "base_uri": "https://localhost:8080/"
        },
        "id": "HuX1m3tG8mdW",
        "outputId": "01bbc89b-f7c9-4f27-c7a1-c2d3d66d2d72"
      },
      "execution_count": null,
      "outputs": [
        {
          "output_type": "execute_result",
          "data": {
            "text/plain": [
              "array([1, 3, 5])"
            ]
          },
          "metadata": {},
          "execution_count": 126
        }
      ]
    },
    {
      "cell_type": "markdown",
      "source": [
        "* Boolean Masking: picks all the values with True"
      ],
      "metadata": {
        "id": "9jq2R_J0BXZ0"
      }
    },
    {
      "cell_type": "code",
      "source": [
        "a=np.array([1,2,3,4,5])\n",
        "b=a[[True,False,True,False,True]]\n",
        "print(b)"
      ],
      "metadata": {
        "colab": {
          "base_uri": "https://localhost:8080/"
        },
        "id": "A3ktF_P0Agrh",
        "outputId": "915ce406-b8ba-45aa-cc31-73b726e68ecd"
      },
      "execution_count": null,
      "outputs": [
        {
          "output_type": "stream",
          "name": "stdout",
          "text": [
            "[1 3 5]\n"
          ]
        }
      ]
    },
    {
      "cell_type": "markdown",
      "source": [
        "* Conditionals within masking"
      ],
      "metadata": {
        "id": "pSccsAJOBhLm"
      }
    },
    {
      "cell_type": "code",
      "source": [
        "a=np.arange(50)\n",
        "print(a)"
      ],
      "metadata": {
        "colab": {
          "base_uri": "https://localhost:8080/"
        },
        "id": "9hiMUAWuBe2f",
        "outputId": "e31a5211-be92-4eed-ba8d-d794fb447ea5"
      },
      "execution_count": null,
      "outputs": [
        {
          "output_type": "stream",
          "name": "stdout",
          "text": [
            "[ 0  1  2  3  4  5  6  7  8  9 10 11 12 13 14 15 16 17 18 19 20 21 22 23\n",
            " 24 25 26 27 28 29 30 31 32 33 34 35 36 37 38 39 40 41 42 43 44 45 46 47\n",
            " 48 49]\n"
          ]
        }
      ]
    },
    {
      "cell_type": "code",
      "source": [
        "b=a[a>40]\n",
        "b"
      ],
      "metadata": {
        "colab": {
          "base_uri": "https://localhost:8080/"
        },
        "id": "UskW-imIBoWY",
        "outputId": "66ea54a3-c542-4b95-c104-b030ffb3fa5e"
      },
      "execution_count": null,
      "outputs": [
        {
          "output_type": "execute_result",
          "data": {
            "text/plain": [
              "array([41, 42, 43, 44, 45, 46, 47, 48, 49])"
            ]
          },
          "metadata": {},
          "execution_count": 130
        }
      ]
    },
    {
      "cell_type": "code",
      "source": [
        "b=a[(a>30) & (a<40)]\n",
        "b"
      ],
      "metadata": {
        "colab": {
          "base_uri": "https://localhost:8080/"
        },
        "id": "3qeZD51ZBqOE",
        "outputId": "51b8f0c9-6d83-497c-cef2-e6625aaeb0a4"
      },
      "execution_count": null,
      "outputs": [
        {
          "output_type": "execute_result",
          "data": {
            "text/plain": [
              "array([31, 32, 33, 34, 35, 36, 37, 38, 39])"
            ]
          },
          "metadata": {},
          "execution_count": 132
        }
      ]
    },
    {
      "cell_type": "code",
      "source": [
        "#and is only used when both sides are single objects for verifying truth value\n",
        "b=a[(a>30) and (a<40)]\n",
        "b"
      ],
      "metadata": {
        "colab": {
          "base_uri": "https://localhost:8080/",
          "height": 158
        },
        "id": "t5-BVPfyBtdE",
        "outputId": "15001d72-39bf-4722-b276-020bd972c650"
      },
      "execution_count": null,
      "outputs": [
        {
          "output_type": "error",
          "ename": "ValueError",
          "evalue": "The truth value of an array with more than one element is ambiguous. Use a.any() or a.all()",
          "traceback": [
            "\u001b[0;31m---------------------------------------------------------------------------\u001b[0m",
            "\u001b[0;31mValueError\u001b[0m                                Traceback (most recent call last)",
            "\u001b[0;32m<ipython-input-133-e8f66437194f>\u001b[0m in \u001b[0;36m<cell line: 1>\u001b[0;34m()\u001b[0m\n\u001b[0;32m----> 1\u001b[0;31m \u001b[0mb\u001b[0m\u001b[0;34m=\u001b[0m\u001b[0ma\u001b[0m\u001b[0;34m[\u001b[0m\u001b[0;34m(\u001b[0m\u001b[0ma\u001b[0m\u001b[0;34m>\u001b[0m\u001b[0;36m30\u001b[0m\u001b[0;34m)\u001b[0m \u001b[0;32mand\u001b[0m \u001b[0;34m(\u001b[0m\u001b[0ma\u001b[0m\u001b[0;34m<\u001b[0m\u001b[0;36m40\u001b[0m\u001b[0;34m)\u001b[0m\u001b[0;34m]\u001b[0m\u001b[0;34m\u001b[0m\u001b[0;34m\u001b[0m\u001b[0m\n\u001b[0m\u001b[1;32m      2\u001b[0m \u001b[0mb\u001b[0m\u001b[0;34m\u001b[0m\u001b[0;34m\u001b[0m\u001b[0m\n",
            "\u001b[0;31mValueError\u001b[0m: The truth value of an array with more than one element is ambiguous. Use a.any() or a.all()"
          ]
        }
      ]
    },
    {
      "cell_type": "code",
      "source": [
        "b=a[(a>30) | (a<40)]\n",
        "b"
      ],
      "metadata": {
        "colab": {
          "base_uri": "https://localhost:8080/"
        },
        "id": "1cRBnN94B4i-",
        "outputId": "b0ec23c9-28b3-4bf0-924f-82d02e32bf54"
      },
      "execution_count": null,
      "outputs": [
        {
          "output_type": "execute_result",
          "data": {
            "text/plain": [
              "array([ 0,  1,  2,  3,  4,  5,  6,  7,  8,  9, 10, 11, 12, 13, 14, 15, 16,\n",
              "       17, 18, 19, 20, 21, 22, 23, 24, 25, 26, 27, 28, 29, 30, 31, 32, 33,\n",
              "       34, 35, 36, 37, 38, 39, 40, 41, 42, 43, 44, 45, 46, 47, 48, 49])"
            ]
          },
          "metadata": {},
          "execution_count": 134
        }
      ]
    },
    {
      "cell_type": "code",
      "source": [
        "b=a[~(a<40)]\n",
        "b"
      ],
      "metadata": {
        "colab": {
          "base_uri": "https://localhost:8080/"
        },
        "id": "1qC6q6RCDT-P",
        "outputId": "e00555fa-708f-477d-ba12-d48ea6fa55a8"
      },
      "execution_count": null,
      "outputs": [
        {
          "output_type": "execute_result",
          "data": {
            "text/plain": [
              "array([40, 41, 42, 43, 44, 45, 46, 47, 48, 49])"
            ]
          },
          "metadata": {},
          "execution_count": 135
        }
      ]
    },
    {
      "cell_type": "markdown",
      "source": [
        "* Broadcasting"
      ],
      "metadata": {
        "id": "AJfhSq59D-Ko"
      }
    },
    {
      "cell_type": "code",
      "source": [
        "a=np.array([[1,2],[3,4]])\n",
        "a=a+5\n",
        "a"
      ],
      "metadata": {
        "colab": {
          "base_uri": "https://localhost:8080/"
        },
        "id": "DIaTSPLzDaqh",
        "outputId": "5e34f1c8-f29a-4f36-c78d-f1b80966bbfd"
      },
      "execution_count": null,
      "outputs": [
        {
          "output_type": "execute_result",
          "data": {
            "text/plain": [
              "array([[6, 7],\n",
              "       [8, 9]])"
            ]
          },
          "metadata": {},
          "execution_count": 143
        }
      ]
    },
    {
      "cell_type": "code",
      "source": [],
      "metadata": {
        "id": "7BQsFqhREFCK"
      },
      "execution_count": null,
      "outputs": []
    }
  ]
}