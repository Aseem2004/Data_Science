{
  "nbformat": 4,
  "nbformat_minor": 0,
  "metadata": {
    "colab": {
      "provenance": [],
      "authorship_tag": "ABX9TyMG4uGsloPAHqSemtRltdMj"
    },
    "kernelspec": {
      "name": "python3",
      "display_name": "Python 3"
    },
    "language_info": {
      "name": "python"
    }
  },
  "cells": [
    {
      "cell_type": "markdown",
      "source": [
        "#Python For Data Science"
      ],
      "metadata": {
        "id": "0NWZotxQ0-da"
      }
    },
    {
      "cell_type": "code",
      "execution_count": null,
      "metadata": {
        "colab": {
          "base_uri": "https://localhost:8080/"
        },
        "id": "M7PSDsGv01IC",
        "outputId": "c3a4bfa2-106a-4848-ec64-753629b4ff2b"
      },
      "outputs": [
        {
          "output_type": "stream",
          "name": "stdout",
          "text": [
            "Hello World\n"
          ]
        }
      ],
      "source": [
        "print(\"Hello World\")\n"
      ]
    },
    {
      "cell_type": "markdown",
      "source": [
        "#Variables\n"
      ],
      "metadata": {
        "id": "Oi8DWzpH1TeC"
      }
    },
    {
      "cell_type": "code",
      "source": [
        "x=5\n",
        "%whos"
      ],
      "metadata": {
        "colab": {
          "base_uri": "https://localhost:8080/"
        },
        "id": "FXZJB9XL1dUE",
        "outputId": "87e332be-fbd4-4353-c71a-9e0e39015189"
      },
      "execution_count": null,
      "outputs": [
        {
          "output_type": "stream",
          "name": "stdout",
          "text": [
            "Variable   Type       Data/Info\n",
            "-------------------------------\n",
            "a          float      2.0\n",
            "b          str        abcd\n",
            "p          complex    (3-2j)\n",
            "x          int        5\n"
          ]
        }
      ]
    },
    {
      "cell_type": "code",
      "source": [
        "print(type(x))"
      ],
      "metadata": {
        "colab": {
          "base_uri": "https://localhost:8080/"
        },
        "id": "1U2I4NX_1iuP",
        "outputId": "9eb1c2df-0a30-4fd9-a4f5-b86e06249628"
      },
      "execution_count": null,
      "outputs": [
        {
          "output_type": "stream",
          "name": "stdout",
          "text": [
            "<class 'int'>\n"
          ]
        }
      ]
    },
    {
      "cell_type": "code",
      "source": [
        "x=3.6\n",
        "%whos"
      ],
      "metadata": {
        "colab": {
          "base_uri": "https://localhost:8080/"
        },
        "id": "MgM59Uyz1iwd",
        "outputId": "5c6b072b-744b-401f-fe92-fb7e52a010b6"
      },
      "execution_count": null,
      "outputs": [
        {
          "output_type": "stream",
          "name": "stdout",
          "text": [
            "Variable   Type       Data/Info\n",
            "-------------------------------\n",
            "a          float      2.0\n",
            "b          str        abcd\n",
            "p          complex    (3-2j)\n",
            "x          float      3.6\n"
          ]
        }
      ]
    },
    {
      "cell_type": "code",
      "source": [
        "y=9\n",
        "a,b=2.0,\"abcd\"\n",
        "p=3-2j"
      ],
      "metadata": {
        "id": "JyuWAYqG1iyb"
      },
      "execution_count": null,
      "outputs": []
    },
    {
      "cell_type": "code",
      "source": [
        "%whos"
      ],
      "metadata": {
        "colab": {
          "base_uri": "https://localhost:8080/"
        },
        "id": "8wriEG1K1i0Z",
        "outputId": "e7d2d27c-ae42-4ca3-bff9-d1295f804d22"
      },
      "execution_count": null,
      "outputs": [
        {
          "output_type": "stream",
          "name": "stdout",
          "text": [
            "Variable   Type       Data/Info\n",
            "-------------------------------\n",
            "a          float      2.0\n",
            "b          str        abcd\n",
            "p          complex    (3-2j)\n",
            "x          float      3.6\n",
            "y          int        9\n"
          ]
        }
      ]
    },
    {
      "cell_type": "code",
      "source": [
        "del y\n",
        "print(y)"
      ],
      "metadata": {
        "colab": {
          "base_uri": "https://localhost:8080/",
          "height": 158
        },
        "id": "JmIJetPV1i2X",
        "outputId": "192488c6-2fee-493a-a91d-012780250e74"
      },
      "execution_count": null,
      "outputs": [
        {
          "output_type": "error",
          "ename": "NameError",
          "evalue": "name 'y' is not defined",
          "traceback": [
            "\u001b[0;31m---------------------------------------------------------------------------\u001b[0m",
            "\u001b[0;31mNameError\u001b[0m                                 Traceback (most recent call last)",
            "\u001b[0;32m<ipython-input-27-175577d196dc>\u001b[0m in \u001b[0;36m<cell line: 2>\u001b[0;34m()\u001b[0m\n\u001b[1;32m      1\u001b[0m \u001b[0;32mdel\u001b[0m \u001b[0my\u001b[0m\u001b[0;34m\u001b[0m\u001b[0;34m\u001b[0m\u001b[0m\n\u001b[0;32m----> 2\u001b[0;31m \u001b[0mprint\u001b[0m\u001b[0;34m(\u001b[0m\u001b[0my\u001b[0m\u001b[0;34m)\u001b[0m\u001b[0;34m\u001b[0m\u001b[0;34m\u001b[0m\u001b[0m\n\u001b[0m",
            "\u001b[0;31mNameError\u001b[0m: name 'y' is not defined"
          ]
        }
      ]
    },
    {
      "cell_type": "code",
      "source": [
        "%whos"
      ],
      "metadata": {
        "colab": {
          "base_uri": "https://localhost:8080/"
        },
        "id": "eB-vIBiJ1i5x",
        "outputId": "45fda4cf-6b52-4eb3-b03c-b153cf9ef9dc"
      },
      "execution_count": null,
      "outputs": [
        {
          "output_type": "stream",
          "name": "stdout",
          "text": [
            "Variable   Type       Data/Info\n",
            "-------------------------------\n",
            "a          float      2.0\n",
            "b          str        abcd\n",
            "p          complex    (3-2j)\n",
            "x          float      3.6\n"
          ]
        }
      ]
    },
    {
      "cell_type": "markdown",
      "source": [
        "#Operators\n",
        "\n",
        "<table>\n",
        "<tr>\n",
        "<td>Symbol</td>\n",
        "<td>Task</td>\n",
        "</tr>\n",
        "<tr>\n",
        "<td>+</td>\n",
        "<td>Addition</td>\n",
        "</tr>\n",
        "<tr>\n",
        "<td>-</td>\n",
        "<td>Subtraction</td>\n",
        "</tr>\n",
        "<tr>\n",
        "<td>/</td>\n",
        "<td>Division</td>\n",
        "</tr>\n",
        "<tr>\n",
        "<td>*</td>\n",
        "<td>Multiplication</td>\n",
        "</tr>\n",
        "<tr>\n",
        "<td>//</td>\n",
        "<td>Floor Division</td>\n",
        "</tr>\n",
        "<tr>\n",
        "<td>%</td>\n",
        "<td>Mod</td>\n",
        "</tr>\n",
        "<tr>\n",
        "<td>**</td>\n",
        "<td>Power</td>\n",
        "</tr>\n",
        "</table>"
      ],
      "metadata": {
        "id": "_3QGLCR_-oWh"
      }
    },
    {
      "cell_type": "code",
      "source": [
        "print(13+3)\n",
        "print(13-3)\n",
        "print(13/3)\n",
        "print(13*3)\n",
        "print(13//3)\n",
        "print(13%3)\n",
        "print(13**3)"
      ],
      "metadata": {
        "colab": {
          "base_uri": "https://localhost:8080/"
        },
        "id": "ubFHDWAd-v0p",
        "outputId": "53214ddd-64ae-4aa1-eb25-e1af6373a81c"
      },
      "execution_count": null,
      "outputs": [
        {
          "output_type": "stream",
          "name": "stdout",
          "text": [
            "16\n",
            "10\n",
            "4.333333333333333\n",
            "39\n",
            "4\n",
            "1\n",
            "2197\n"
          ]
        }
      ]
    },
    {
      "cell_type": "code",
      "source": [
        "print(((12**7+8)*(3%2-8))//7)"
      ],
      "metadata": {
        "colab": {
          "base_uri": "https://localhost:8080/"
        },
        "id": "NpY5NJ7iAhnP",
        "outputId": "09c756b3-9b3b-4e1b-ec27-7f35e48c3b65"
      },
      "execution_count": null,
      "outputs": [
        {
          "output_type": "stream",
          "name": "stdout",
          "text": [
            "-35831816\n"
          ]
        }
      ]
    },
    {
      "cell_type": "code",
      "source": [
        "s1=\"hello\"\n",
        "s2=\"world\"\n",
        "print(s1+\" \"+s2)"
      ],
      "metadata": {
        "colab": {
          "base_uri": "https://localhost:8080/"
        },
        "id": "l_ScybpAAhpW",
        "outputId": "807d7f53-3460-4d20-df5c-137029c63c63"
      },
      "execution_count": null,
      "outputs": [
        {
          "output_type": "stream",
          "name": "stdout",
          "text": [
            "hello world\n"
          ]
        }
      ]
    },
    {
      "cell_type": "markdown",
      "source": [
        "* Variables can only start with [a-z], [A,Z] and _ <br>\n",
        "* Use camel case"
      ],
      "metadata": {
        "id": "tjnTsC55zOto"
      }
    },
    {
      "cell_type": "markdown",
      "source": [
        "#Bool"
      ],
      "metadata": {
        "id": "UcI2vd4W269_"
      }
    },
    {
      "cell_type": "code",
      "source": [
        "a=True\n",
        "b=True\n",
        "c=False\n",
        "print(a and b)\n",
        "print(a or b)\n",
        "print(not c)\n",
        "print(a and c)"
      ],
      "metadata": {
        "id": "4HIHaAd7Ahsn",
        "colab": {
          "base_uri": "https://localhost:8080/"
        },
        "outputId": "3ad87c7b-391b-4624-8b55-03089a4a8419"
      },
      "execution_count": null,
      "outputs": [
        {
          "output_type": "stream",
          "name": "stdout",
          "text": [
            "True\n",
            "True\n",
            "True\n",
            "False\n"
          ]
        }
      ]
    },
    {
      "cell_type": "code",
      "source": [
        "print(not((a and b) or (b and c)))"
      ],
      "metadata": {
        "colab": {
          "base_uri": "https://localhost:8080/"
        },
        "id": "rRP7-S5f3ZIj",
        "outputId": "1089584c-fafa-45ef-dce8-ea1c75df9914"
      },
      "execution_count": null,
      "outputs": [
        {
          "output_type": "stream",
          "name": "stdout",
          "text": [
            "False\n"
          ]
        }
      ]
    },
    {
      "cell_type": "code",
      "source": [
        "False and False or True\n",
        "# Here and is applied first"
      ],
      "metadata": {
        "colab": {
          "base_uri": "https://localhost:8080/"
        },
        "id": "0tjTBJEJBqLW",
        "outputId": "1f61da56-f194-4bd3-938b-a664b5ac535b"
      },
      "execution_count": null,
      "outputs": [
        {
          "output_type": "execute_result",
          "data": {
            "text/plain": [
              "True"
            ]
          },
          "metadata": {},
          "execution_count": 3
        }
      ]
    },
    {
      "cell_type": "code",
      "source": [
        "True or False and False\n",
        "# Here also and is applied first"
      ],
      "metadata": {
        "colab": {
          "base_uri": "https://localhost:8080/"
        },
        "id": "91sn5Z8XCAXA",
        "outputId": "1a88877e-62bc-4475-afe6-5aa1306c74cf"
      },
      "execution_count": null,
      "outputs": [
        {
          "output_type": "execute_result",
          "data": {
            "text/plain": [
              "True"
            ]
          },
          "metadata": {},
          "execution_count": 5
        }
      ]
    },
    {
      "cell_type": "markdown",
      "source": [
        "* Precedence: and>or"
      ],
      "metadata": {
        "id": "l5PgpmpOCRLN"
      }
    },
    {
      "cell_type": "markdown",
      "source": [
        "#Comparisons\n",
        "<table>\n",
        "<tr>\n",
        "<td>Symbol</td>\n",
        "<td>Task</td>\n",
        "</tr>\n",
        "<tr>\n",
        "<td>==</td>\n",
        "<td>Equal to</td>\n",
        "</tr>\n",
        "<tr>\n",
        "<td>!=</td>\n",
        "<td>Equal to</td>\n",
        "</tr>\n",
        "<tr>\n",
        "<td><</td>\n",
        "<td>Less than</td>\n",
        "</tr>\n",
        "<tr>\n",
        "<td>></td>\n",
        "<td>Greater than</td>\n",
        "</tr>\n",
        "<tr>\n",
        "<td><=</td>\n",
        "<td>Less than or equal to</td>\n",
        "</tr>\n",
        "<tr>\n",
        "<td>>=</td>\n",
        "<td>Greater than or equal to</td>\n",
        "</table>\n",
        "<br>\n",
        "They return bool value i.e. True or False"
      ],
      "metadata": {
        "id": "5L-2uJmQ_VEn"
      }
    },
    {
      "cell_type": "code",
      "source": [
        "print(2==3)\n",
        "print(2!=3)\n",
        "print(2<3)\n",
        "print(2>3)\n",
        "print(2<=3)\n",
        "print(2>=3)"
      ],
      "metadata": {
        "colab": {
          "base_uri": "https://localhost:8080/"
        },
        "id": "YhzECxwiAFj5",
        "outputId": "09d12bf9-fed4-467e-8536-04e2d6280180"
      },
      "execution_count": null,
      "outputs": [
        {
          "output_type": "stream",
          "name": "stdout",
          "text": [
            "False\n",
            "True\n",
            "True\n",
            "False\n",
            "True\n",
            "False\n"
          ]
        }
      ]
    },
    {
      "cell_type": "code",
      "source": [
        "print(3==3.0)"
      ],
      "metadata": {
        "colab": {
          "base_uri": "https://localhost:8080/"
        },
        "id": "T9T7aBUnBj_f",
        "outputId": "f7f181fc-5a40-46af-c64d-daee8b1a07c9"
      },
      "execution_count": null,
      "outputs": [
        {
          "output_type": "stream",
          "name": "stdout",
          "text": [
            "True\n"
          ]
        }
      ]
    },
    {
      "cell_type": "markdown",
      "source": [
        "#Some Useful Functions\n",
        "* round()"
      ],
      "metadata": {
        "id": "l7iupYdrvPhB"
      }
    },
    {
      "cell_type": "code",
      "source": [
        "print(round(4.556))\n",
        "print(round(4.345))\n",
        "print(round(4.556389,3))"
      ],
      "metadata": {
        "id": "2qEE-ln3BkTg",
        "colab": {
          "base_uri": "https://localhost:8080/"
        },
        "outputId": "a739af97-b99e-4ad0-dd4a-6effed36e882"
      },
      "execution_count": null,
      "outputs": [
        {
          "output_type": "stream",
          "name": "stdout",
          "text": [
            "5\n",
            "4\n",
            "4.556\n"
          ]
        }
      ]
    },
    {
      "cell_type": "markdown",
      "source": [
        "* divmod()"
      ],
      "metadata": {
        "id": "fB7Mja6qwJmr"
      }
    },
    {
      "cell_type": "code",
      "source": [
        "B = divmod(27,5)\n",
        "print(B)\n",
        "type(B)"
      ],
      "metadata": {
        "id": "fBSAsNyMBkU8",
        "colab": {
          "base_uri": "https://localhost:8080/"
        },
        "outputId": "50e1dd17-d67f-4e23-9abd-9e7c30216738"
      },
      "execution_count": null,
      "outputs": [
        {
          "output_type": "stream",
          "name": "stdout",
          "text": [
            "(5, 2)\n"
          ]
        },
        {
          "output_type": "execute_result",
          "data": {
            "text/plain": [
              "tuple"
            ]
          },
          "metadata": {},
          "execution_count": 2
        }
      ]
    },
    {
      "cell_type": "code",
      "source": [
        "B[0]"
      ],
      "metadata": {
        "id": "I89Y7jjIBkYc",
        "colab": {
          "base_uri": "https://localhost:8080/"
        },
        "outputId": "21dd764e-5b15-40a1-b617-cccf5794be64"
      },
      "execution_count": null,
      "outputs": [
        {
          "output_type": "execute_result",
          "data": {
            "text/plain": [
              "5"
            ]
          },
          "metadata": {},
          "execution_count": 4
        }
      ]
    },
    {
      "cell_type": "code",
      "source": [
        "B[1]"
      ],
      "metadata": {
        "colab": {
          "base_uri": "https://localhost:8080/"
        },
        "id": "uqwSClIgwXtS",
        "outputId": "fab9ccb2-b7f3-4fb5-de38-1ec66005ef5c"
      },
      "execution_count": null,
      "outputs": [
        {
          "output_type": "execute_result",
          "data": {
            "text/plain": [
              "2"
            ]
          },
          "metadata": {},
          "execution_count": 5
        }
      ]
    },
    {
      "cell_type": "markdown",
      "source": [
        "* isinstance()"
      ],
      "metadata": {
        "id": "DmpMCZiGLrTW"
      }
    },
    {
      "cell_type": "code",
      "source": [
        "isinstance(3,int)"
      ],
      "metadata": {
        "colab": {
          "base_uri": "https://localhost:8080/"
        },
        "id": "CD0y4K2JLtuA",
        "outputId": "2a0fe5b0-e27d-4b1b-d4de-6f65535fcb9a"
      },
      "execution_count": null,
      "outputs": [
        {
          "output_type": "execute_result",
          "data": {
            "text/plain": [
              "True"
            ]
          },
          "metadata": {},
          "execution_count": 1
        }
      ]
    },
    {
      "cell_type": "code",
      "source": [
        "isinstance(3.4,(int))"
      ],
      "metadata": {
        "colab": {
          "base_uri": "https://localhost:8080/"
        },
        "id": "Kql4NDluLxEY",
        "outputId": "6d86e623-f97d-4e86-b2f5-df555ffa8342"
      },
      "execution_count": null,
      "outputs": [
        {
          "output_type": "execute_result",
          "data": {
            "text/plain": [
              "False"
            ]
          },
          "metadata": {},
          "execution_count": 2
        }
      ]
    },
    {
      "cell_type": "code",
      "source": [
        "isinstance(2+3j,(int,float,str,complex))"
      ],
      "metadata": {
        "colab": {
          "base_uri": "https://localhost:8080/"
        },
        "id": "c0Q_tMkQLxH6",
        "outputId": "5ff63035-317f-4f91-f6f8-e404fed22cca"
      },
      "execution_count": null,
      "outputs": [
        {
          "output_type": "execute_result",
          "data": {
            "text/plain": [
              "True"
            ]
          },
          "metadata": {},
          "execution_count": 3
        }
      ]
    },
    {
      "cell_type": "markdown",
      "source": [
        "* pow()"
      ],
      "metadata": {
        "id": "sxkDvFxpMR_Z"
      }
    },
    {
      "cell_type": "code",
      "source": [
        "pow(2,4)"
      ],
      "metadata": {
        "colab": {
          "base_uri": "https://localhost:8080/"
        },
        "id": "qpSA9CFBMT2h",
        "outputId": "9766997e-e8ee-4731-d353-8443adc40cd4"
      },
      "execution_count": null,
      "outputs": [
        {
          "output_type": "execute_result",
          "data": {
            "text/plain": [
              "16"
            ]
          },
          "metadata": {},
          "execution_count": 4
        }
      ]
    },
    {
      "cell_type": "code",
      "source": [
        "pow(2,4,7)"
      ],
      "metadata": {
        "colab": {
          "base_uri": "https://localhost:8080/"
        },
        "id": "egoFCye4MT6C",
        "outputId": "5540ffa0-2c76-46ad-93db-4b6f5509b35d"
      },
      "execution_count": null,
      "outputs": [
        {
          "output_type": "execute_result",
          "data": {
            "text/plain": [
              "2"
            ]
          },
          "metadata": {},
          "execution_count": 5
        }
      ]
    },
    {
      "cell_type": "markdown",
      "source": [
        "* input()"
      ],
      "metadata": {
        "id": "SYkJT7foNF7s"
      }
    },
    {
      "cell_type": "code",
      "source": [
        "x=input(\"Enter a number: \")"
      ],
      "metadata": {
        "colab": {
          "base_uri": "https://localhost:8080/"
        },
        "id": "ws-NjGxvNHfQ",
        "outputId": "bd9cf1cb-b3fd-4a5e-a5b1-f4795d770b84"
      },
      "execution_count": null,
      "outputs": [
        {
          "name": "stdout",
          "output_type": "stream",
          "text": [
            "Enter a number: 12\n"
          ]
        }
      ]
    },
    {
      "cell_type": "code",
      "source": [
        "type(x)"
      ],
      "metadata": {
        "colab": {
          "base_uri": "https://localhost:8080/"
        },
        "id": "ro0RdyHCNHgl",
        "outputId": "b9a1cd80-bd76-4057-f54c-67455eaa1413"
      },
      "execution_count": null,
      "outputs": [
        {
          "output_type": "execute_result",
          "data": {
            "text/plain": [
              "str"
            ]
          },
          "metadata": {},
          "execution_count": 8
        }
      ]
    },
    {
      "cell_type": "code",
      "source": [
        "x=int(x)\n",
        "type(x)"
      ],
      "metadata": {
        "colab": {
          "base_uri": "https://localhost:8080/"
        },
        "id": "lI9RO2OeOZoN",
        "outputId": "a081bd97-f84e-4790-83c4-152686c39823"
      },
      "execution_count": null,
      "outputs": [
        {
          "output_type": "execute_result",
          "data": {
            "text/plain": [
              "int"
            ]
          },
          "metadata": {},
          "execution_count": 9
        }
      ]
    },
    {
      "cell_type": "code",
      "source": [
        "a=float(input(\"Enter a real number: \"))"
      ],
      "metadata": {
        "colab": {
          "base_uri": "https://localhost:8080/"
        },
        "id": "Gv8Y-o95OZrp",
        "outputId": "39c241d8-8151-4d0f-ff2a-16a6cea63bc6"
      },
      "execution_count": null,
      "outputs": [
        {
          "name": "stdout",
          "output_type": "stream",
          "text": [
            "Enter a real number: 1.2\n"
          ]
        }
      ]
    },
    {
      "cell_type": "code",
      "source": [
        "type(a)"
      ],
      "metadata": {
        "colab": {
          "base_uri": "https://localhost:8080/"
        },
        "id": "v1vp24wXNHkA",
        "outputId": "bfe4876b-56ec-44ff-aa1d-0e7561cc93a5"
      },
      "execution_count": null,
      "outputs": [
        {
          "output_type": "execute_result",
          "data": {
            "text/plain": [
              "float"
            ]
          },
          "metadata": {},
          "execution_count": 12
        }
      ]
    },
    {
      "cell_type": "code",
      "source": [
        "b=float(input(\"Enter a real number: \"))"
      ],
      "metadata": {
        "colab": {
          "base_uri": "https://localhost:8080/",
          "height": 158
        },
        "id": "Q-QbC5W5OrHB",
        "outputId": "7030a99d-27fc-4a17-e746-2b464621bb03"
      },
      "execution_count": null,
      "outputs": [
        {
          "name": "stdout",
          "output_type": "stream",
          "text": [
            "Enter a real number: xyz\n"
          ]
        },
        {
          "output_type": "error",
          "ename": "ValueError",
          "evalue": "could not convert string to float: 'xyz'",
          "traceback": [
            "\u001b[0;31m---------------------------------------------------------------------------\u001b[0m",
            "\u001b[0;31mValueError\u001b[0m                                Traceback (most recent call last)",
            "\u001b[0;32m<ipython-input-13-77a83f654d1d>\u001b[0m in \u001b[0;36m<cell line: 1>\u001b[0;34m()\u001b[0m\n\u001b[0;32m----> 1\u001b[0;31m \u001b[0mb\u001b[0m\u001b[0;34m=\u001b[0m\u001b[0mfloat\u001b[0m\u001b[0;34m(\u001b[0m\u001b[0minput\u001b[0m\u001b[0;34m(\u001b[0m\u001b[0;34m\"Enter a real number: \"\u001b[0m\u001b[0;34m)\u001b[0m\u001b[0;34m)\u001b[0m\u001b[0;34m\u001b[0m\u001b[0;34m\u001b[0m\u001b[0m\n\u001b[0m",
            "\u001b[0;31mValueError\u001b[0m: could not convert string to float: 'xyz'"
          ]
        }
      ]
    },
    {
      "cell_type": "markdown",
      "source": [
        "#How to know what a function is meant for\n",
        "\n"
      ],
      "metadata": {
        "id": "MLw5Z6i-Oz_5"
      }
    },
    {
      "cell_type": "code",
      "source": [
        "help(isinstance)\n",
        "# isinstance? will also yield the same"
      ],
      "metadata": {
        "colab": {
          "base_uri": "https://localhost:8080/"
        },
        "id": "WdCGGTMpPPbD",
        "outputId": "2e4a99c9-5f0e-413a-eea2-ef41a2686ff5"
      },
      "execution_count": null,
      "outputs": [
        {
          "output_type": "stream",
          "name": "stdout",
          "text": [
            "Help on built-in function isinstance in module builtins:\n",
            "\n",
            "isinstance(obj, class_or_tuple, /)\n",
            "    Return whether an object is an instance of a class or of a subclass thereof.\n",
            "    \n",
            "    A tuple, as in ``isinstance(x, (A, B, ...))``, may be given as the target to\n",
            "    check against. This is equivalent to ``isinstance(x, A) or isinstance(x, B)\n",
            "    or ...`` etc.\n",
            "\n"
          ]
        }
      ]
    },
    {
      "cell_type": "code",
      "source": [
        "help(pow)\n",
        "# pow? will also yield the same"
      ],
      "metadata": {
        "colab": {
          "base_uri": "https://localhost:8080/"
        },
        "id": "TKuG9peZPcIq",
        "outputId": "c050553d-c8a9-4512-d250-86eb0b353fe7"
      },
      "execution_count": null,
      "outputs": [
        {
          "output_type": "stream",
          "name": "stdout",
          "text": [
            "Help on built-in function pow in module builtins:\n",
            "\n",
            "pow(base, exp, mod=None)\n",
            "    Equivalent to base**exp with 2 arguments or base**exp % mod with 3 arguments\n",
            "    \n",
            "    Some types, such as ints, are able to use a more efficient algorithm when\n",
            "    invoked using the three argument form.\n",
            "\n"
          ]
        }
      ]
    },
    {
      "cell_type": "markdown",
      "source": [
        "#Control Flow (Conditionals)"
      ],
      "metadata": {
        "id": "kOv04YaPScIJ"
      }
    },
    {
      "cell_type": "code",
      "source": [
        "a=int(input())\n",
        "b=int(input())\n",
        "if(a>b):\n",
        "  print(\"Bigger is\",a)\n",
        "  print(\"I am still inside if condition\")\n",
        "print(\"I am outside the if condition\")"
      ],
      "metadata": {
        "colab": {
          "base_uri": "https://localhost:8080/"
        },
        "id": "7STATvQGSgpd",
        "outputId": "1d6e797e-d07c-4d12-e885-09d083819b9f"
      },
      "execution_count": null,
      "outputs": [
        {
          "output_type": "stream",
          "name": "stdout",
          "text": [
            "10\n",
            "5\n",
            "Bigger is 10\n",
            "I am still inside if condition\n",
            "I am outside the if condition\n"
          ]
        }
      ]
    },
    {
      "cell_type": "code",
      "source": [
        "a=int(input())\n",
        "b=int(input())\n",
        "if(a>b):\n",
        "  print(\"Bigger is\",a)\n",
        "elif(b>a):\n",
        "  print(\"Bigger is\",b)\n",
        "else:\n",
        "  print(\"Equal\")"
      ],
      "metadata": {
        "colab": {
          "base_uri": "https://localhost:8080/"
        },
        "id": "DsDPkxISSgrh",
        "outputId": "3842572a-4cfd-4a04-c4ae-6954de6198e5"
      },
      "execution_count": null,
      "outputs": [
        {
          "output_type": "stream",
          "name": "stdout",
          "text": [
            "10\n",
            "10\n",
            "Equal\n"
          ]
        }
      ]
    },
    {
      "cell_type": "code",
      "source": [
        "a=5\n",
        "b=10\n",
        "print(\"A\") if a>b else print(\"B\") if b>a else print(\"Equal\")"
      ],
      "metadata": {
        "colab": {
          "base_uri": "https://localhost:8080/"
        },
        "id": "re4DtBrOSgtN",
        "outputId": "7cd766da-3944-4786-ae37-737192ce372b"
      },
      "execution_count": null,
      "outputs": [
        {
          "output_type": "stream",
          "name": "stdout",
          "text": [
            "B\n"
          ]
        }
      ]
    },
    {
      "cell_type": "code",
      "source": [
        "a=int(input())\n",
        "if a>10:\n",
        "    print(\">10\")\n",
        "elif not(a>10):\n",
        "    print(\"Else part\")"
      ],
      "metadata": {
        "colab": {
          "base_uri": "https://localhost:8080/"
        },
        "id": "6xXqiaAGSgwt",
        "outputId": "ff0eedb7-098c-4d64-be05-3c27181c8e2b"
      },
      "execution_count": null,
      "outputs": [
        {
          "output_type": "stream",
          "name": "stdout",
          "text": [
            "4\n",
            "Else part\n"
          ]
        }
      ]
    },
    {
      "cell_type": "code",
      "source": [
        "n=int(input())\n",
        "if n>10:\n",
        "  print(\"Larger than 10\")\n",
        "  if(n>20):\n",
        "    print(\"Larger than 20\")\n",
        "  else:\n",
        "    print(\"Less than 20\")"
      ],
      "metadata": {
        "colab": {
          "base_uri": "https://localhost:8080/"
        },
        "id": "c253v6UrX45j",
        "outputId": "be4ff8dc-6127-45fd-b5e6-1c2ca6a64a98"
      },
      "execution_count": null,
      "outputs": [
        {
          "output_type": "stream",
          "name": "stdout",
          "text": [
            "12\n",
            "Larger than 10\n",
            "Less than 20\n"
          ]
        }
      ]
    },
    {
      "cell_type": "code",
      "source": [
        "'''User will enter a floating point number let say 238.915. Your task is to find out the integer portion before the point (in this case 238) and then check if that integer portion\n",
        "is an even number or not?'''\n",
        "\n",
        "x=float(input())\n",
        "y=round(x)\n",
        "\n",
        "if x>0:\n",
        "  if y>x:\n",
        "    intPart=y-1\n",
        "  else:\n",
        "    intPart=y\n",
        "else:\n",
        "  if y<x:\n",
        "    intPart=y+1\n",
        "  else:\n",
        "    intPart=y\n",
        "\n",
        "if intPart%2==0:\n",
        "  print(\"Even\")\n",
        "else:\n",
        "  print(\"Odd\")\n"
      ],
      "metadata": {
        "colab": {
          "base_uri": "https://localhost:8080/"
        },
        "id": "5GmRpbm9X4_a",
        "outputId": "f3e95528-d538-4cac-c9ba-9f8c87e3e204"
      },
      "execution_count": null,
      "outputs": [
        {
          "output_type": "stream",
          "name": "stdout",
          "text": [
            "32.5\n",
            "Even\n"
          ]
        }
      ]
    },
    {
      "cell_type": "markdown",
      "source": [
        "#While Loop"
      ],
      "metadata": {
        "id": "MURz9ef9fLbd"
      }
    },
    {
      "cell_type": "code",
      "source": [
        "n=int(input())\n",
        "print(\"\\n\")\n",
        "i=1\n",
        "while i<=n:\n",
        "  print(i)\n",
        "  i+=1\n",
        "print(\"Done\")"
      ],
      "metadata": {
        "id": "Re9RaiN7dl4S",
        "colab": {
          "base_uri": "https://localhost:8080/"
        },
        "outputId": "40607c24-8aec-4010-e79b-0d62a7b67bf1"
      },
      "execution_count": null,
      "outputs": [
        {
          "output_type": "stream",
          "name": "stdout",
          "text": [
            "3\n",
            "\n",
            "\n",
            "1\n",
            "2\n",
            "3\n",
            "Done\n"
          ]
        }
      ]
    },
    {
      "cell_type": "code",
      "source": [
        "n=10\n",
        "i=1\n",
        "while True:\n",
        "    if i%3==0:\n",
        "        print(i)\n",
        "        print(\"Break encountered\")\n",
        "        break\n",
        "    else:\n",
        "        print(i)\n",
        "        i=i+1"
      ],
      "metadata": {
        "colab": {
          "base_uri": "https://localhost:8080/"
        },
        "id": "wCvCfGqkfIWV",
        "outputId": "0adf8b9b-c0f4-476c-d25f-92ef34cd348e"
      },
      "execution_count": null,
      "outputs": [
        {
          "output_type": "stream",
          "name": "stdout",
          "text": [
            "1\n",
            "2\n",
            "3\n",
            "Break encountered\n"
          ]
        }
      ]
    },
    {
      "cell_type": "code",
      "source": [
        "n=10\n",
        "i=1\n",
        "while True:\n",
        "    if i%3!=0:\n",
        "        print(\"Inside if\")\n",
        "        i+=1\n",
        "        continue\n",
        "    print(\"Something (that will not be printed because of continue until condition is not satisfied after 2 iterations)\")\n",
        "    break"
      ],
      "metadata": {
        "colab": {
          "base_uri": "https://localhost:8080/"
        },
        "id": "16suOKMFmtzg",
        "outputId": "270c3a48-edb5-484f-931d-fe4d6a0e18b4"
      },
      "execution_count": null,
      "outputs": [
        {
          "output_type": "stream",
          "name": "stdout",
          "text": [
            "Inside if\n",
            "Inside if\n",
            "Something (that will not be printed because of continue until condition is not satisfied after 2 iterations)\n"
          ]
        }
      ]
    },
    {
      "cell_type": "markdown",
      "source": [
        "#For Loop"
      ],
      "metadata": {
        "id": "c1Eem5lGrO_f"
      }
    },
    {
      "cell_type": "code",
      "source": [
        "for i in range(6):\n",
        "  print(i)"
      ],
      "metadata": {
        "colab": {
          "base_uri": "https://localhost:8080/"
        },
        "id": "wLwR3TVjrQ9E",
        "outputId": "c3bd26d6-9045-4a2e-e221-61fa1b903a7b"
      },
      "execution_count": null,
      "outputs": [
        {
          "output_type": "stream",
          "name": "stdout",
          "text": [
            "0\n",
            "1\n",
            "2\n",
            "3\n",
            "4\n",
            "5\n"
          ]
        }
      ]
    },
    {
      "cell_type": "code",
      "source": [
        "for i in range(1,6,2):\n",
        "  print(i)"
      ],
      "metadata": {
        "colab": {
          "base_uri": "https://localhost:8080/"
        },
        "id": "-31xAO5DrZve",
        "outputId": "ae27f38e-c3c4-46b6-a22f-050e1a59ffc5"
      },
      "execution_count": null,
      "outputs": [
        {
          "output_type": "stream",
          "name": "stdout",
          "text": [
            "1\n",
            "3\n",
            "5\n"
          ]
        }
      ]
    },
    {
      "cell_type": "markdown",
      "source": [
        "* else inside for loop"
      ],
      "metadata": {
        "id": "cmIVO5kKvzkv"
      }
    },
    {
      "cell_type": "code",
      "source": [
        "L=[1,2,3,4,5]\n",
        "for i in L:\n",
        "  print(i)\n",
        "else:\n",
        "  print(\"Done\")"
      ],
      "metadata": {
        "colab": {
          "base_uri": "https://localhost:8080/"
        },
        "id": "dLF7jOgHvzV7",
        "outputId": "679c916a-8aee-4d7e-dad9-295c25ffadb3"
      },
      "execution_count": null,
      "outputs": [
        {
          "output_type": "stream",
          "name": "stdout",
          "text": [
            "1\n",
            "2\n",
            "3\n",
            "4\n",
            "5\n",
            "Done\n"
          ]
        }
      ]
    },
    {
      "cell_type": "code",
      "source": [
        "L=[1,2,3,4,5]\n",
        "for i in L:\n",
        "  print(i)\n",
        "  if(i==3):\n",
        "    break\n",
        "else:\n",
        "  print(\"Done\")"
      ],
      "metadata": {
        "colab": {
          "base_uri": "https://localhost:8080/"
        },
        "id": "ohqrd84cwELF",
        "outputId": "ddf7c51b-5894-44ec-9c2e-f7c35dece6a2"
      },
      "execution_count": null,
      "outputs": [
        {
          "output_type": "stream",
          "name": "stdout",
          "text": [
            "1\n",
            "2\n",
            "3\n"
          ]
        }
      ]
    },
    {
      "cell_type": "code",
      "source": [
        "'''Given a list, sort it'''\n",
        "L=[5,4,2,9,-1,7]\n",
        "sorted=[]\n",
        "mini=L[0]\n",
        "\n",
        "for i in range(len(L)):\n",
        "  for j in range(len(L)):\n",
        "    if L[j]>L[i]:\n",
        "      temp=L[i]\n",
        "      L[i]=L[j]\n",
        "      L[j]=temp\n",
        "\n",
        "print(L)"
      ],
      "metadata": {
        "colab": {
          "base_uri": "https://localhost:8080/"
        },
        "id": "9u7urBD557HW",
        "outputId": "5ed61c32-3e09-439e-88fc-8cfbf122154e"
      },
      "execution_count": null,
      "outputs": [
        {
          "output_type": "stream",
          "name": "stdout",
          "text": [
            "[-1, 2, 4, 5, 7, 9]\n"
          ]
        }
      ]
    },
    {
      "cell_type": "markdown",
      "source": [
        "#Functions"
      ],
      "metadata": {
        "id": "6L_HA2v0Dd6_"
      }
    },
    {
      "cell_type": "code",
      "source": [
        "def Barcelona():\n",
        "  print(\"Visca el Barca\")\n",
        "  print(\"Visca el Catalunya\")"
      ],
      "metadata": {
        "id": "bCrr1ZvHGYQh"
      },
      "execution_count": null,
      "outputs": []
    },
    {
      "cell_type": "code",
      "source": [
        "Barcelona()"
      ],
      "metadata": {
        "colab": {
          "base_uri": "https://localhost:8080/"
        },
        "id": "M-xAJMD_GYT9",
        "outputId": "217c3ba5-078c-4fed-9545-502bd365f63b"
      },
      "execution_count": null,
      "outputs": [
        {
          "output_type": "stream",
          "name": "stdout",
          "text": [
            "Visca el Barca\n",
            "Visca el Catalunya\n"
          ]
        }
      ]
    },
    {
      "cell_type": "code",
      "source": [
        "def hello():\n",
        "  '''This is a docstring (documenation string) that tells what a function does'''\n",
        "  print(\"Hello World\")"
      ],
      "metadata": {
        "id": "nYC6ekjtHzXu"
      },
      "execution_count": null,
      "outputs": []
    },
    {
      "cell_type": "code",
      "source": [
        "help(hello)"
      ],
      "metadata": {
        "colab": {
          "base_uri": "https://localhost:8080/"
        },
        "id": "nqu-JK9jH8om",
        "outputId": "51b3a012-2ae9-451f-e5df-abc0511e3ddd"
      },
      "execution_count": null,
      "outputs": [
        {
          "output_type": "stream",
          "name": "stdout",
          "text": [
            "Help on function hello in module __main__:\n",
            "\n",
            "hello()\n",
            "    This is a doc string that tells what a function does\n",
            "\n"
          ]
        }
      ]
    },
    {
      "cell_type": "code",
      "source": [
        "print(hello.__doc__)"
      ],
      "metadata": {
        "colab": {
          "base_uri": "https://localhost:8080/"
        },
        "id": "aQHP-y_pH-W2",
        "outputId": "54a5a210-b2ee-4122-a385-f012df468f0c"
      },
      "execution_count": null,
      "outputs": [
        {
          "output_type": "stream",
          "name": "stdout",
          "text": [
            "This is a doc string that tells what a function does\n"
          ]
        }
      ]
    },
    {
      "cell_type": "code",
      "source": [
        "def printMsg(msg):\n",
        "  if(isinstance(msg,str)):\n",
        "    print(msg)\n",
        "  else:\n",
        "    print(\"Your input is not a string\")\n",
        "    print(\"Here is the type of what you have supplied\",type(msg))"
      ],
      "metadata": {
        "id": "e9xnC8E-MS-X"
      },
      "execution_count": null,
      "outputs": []
    },
    {
      "cell_type": "code",
      "source": [
        "printMsg(\"Hi there\")"
      ],
      "metadata": {
        "colab": {
          "base_uri": "https://localhost:8080/"
        },
        "id": "LH1M5QxjMTA_",
        "outputId": "fc8d04d1-7eda-4508-8676-c82ffaaf9f3f"
      },
      "execution_count": null,
      "outputs": [
        {
          "output_type": "stream",
          "name": "stdout",
          "text": [
            "Hi there\n"
          ]
        }
      ]
    },
    {
      "cell_type": "code",
      "source": [
        "printMsg(3)"
      ],
      "metadata": {
        "colab": {
          "base_uri": "https://localhost:8080/"
        },
        "id": "4pl5sgZWMTDx",
        "outputId": "0ee4d7bd-5e6e-41fd-f5b1-5a2f85933a2b"
      },
      "execution_count": null,
      "outputs": [
        {
          "output_type": "stream",
          "name": "stdout",
          "text": [
            "Your input is not a string\n",
            "Here is the type of what you have supplied <class 'int'>\n"
          ]
        }
      ]
    },
    {
      "cell_type": "code",
      "source": [
        "def mypow(a,b):\n",
        "  print(pow(a,b))"
      ],
      "metadata": {
        "id": "d0bD2ER7PBGG"
      },
      "execution_count": null,
      "outputs": []
    },
    {
      "cell_type": "code",
      "source": [
        "mypow(2,7)"
      ],
      "metadata": {
        "colab": {
          "base_uri": "https://localhost:8080/"
        },
        "id": "-FUbXc2cPHXn",
        "outputId": "d977f800-44f0-4072-c300-4a6f5344ae0a"
      },
      "execution_count": null,
      "outputs": [
        {
          "output_type": "stream",
          "name": "stdout",
          "text": [
            "128\n"
          ]
        }
      ]
    },
    {
      "cell_type": "code",
      "source": [
        "mypow(2)"
      ],
      "metadata": {
        "colab": {
          "base_uri": "https://localhost:8080/",
          "height": 141
        },
        "id": "NRaO-HfWP2s1",
        "outputId": "fd6465b7-26e4-455c-e0ee-28647267ed24"
      },
      "execution_count": null,
      "outputs": [
        {
          "output_type": "error",
          "ename": "TypeError",
          "evalue": "mypow() missing 1 required positional argument: 'b'",
          "traceback": [
            "\u001b[0;31m---------------------------------------------------------------------------\u001b[0m",
            "\u001b[0;31mTypeError\u001b[0m                                 Traceback (most recent call last)",
            "\u001b[0;32m<ipython-input-90-1ecd0d892fe1>\u001b[0m in \u001b[0;36m<cell line: 1>\u001b[0;34m()\u001b[0m\n\u001b[0;32m----> 1\u001b[0;31m \u001b[0mmypow\u001b[0m\u001b[0;34m(\u001b[0m\u001b[0;36m2\u001b[0m\u001b[0;34m)\u001b[0m\u001b[0;34m\u001b[0m\u001b[0;34m\u001b[0m\u001b[0m\n\u001b[0m",
            "\u001b[0;31mTypeError\u001b[0m: mypow() missing 1 required positional argument: 'b'"
          ]
        }
      ]
    },
    {
      "cell_type": "code",
      "source": [
        "mypow(\"J\",2)"
      ],
      "metadata": {
        "colab": {
          "base_uri": "https://localhost:8080/",
          "height": 211
        },
        "id": "I5YZxBSAQY6l",
        "outputId": "8e4ce177-bf6f-4f64-c160-eba09700ea76"
      },
      "execution_count": null,
      "outputs": [
        {
          "output_type": "error",
          "ename": "TypeError",
          "evalue": "unsupported operand type(s) for ** or pow(): 'str' and 'int'",
          "traceback": [
            "\u001b[0;31m---------------------------------------------------------------------------\u001b[0m",
            "\u001b[0;31mTypeError\u001b[0m                                 Traceback (most recent call last)",
            "\u001b[0;32m<ipython-input-93-c4dac3e65e21>\u001b[0m in \u001b[0;36m<cell line: 1>\u001b[0;34m()\u001b[0m\n\u001b[0;32m----> 1\u001b[0;31m \u001b[0mmypow\u001b[0m\u001b[0;34m(\u001b[0m\u001b[0;34m\"J\"\u001b[0m\u001b[0;34m,\u001b[0m\u001b[0;36m2\u001b[0m\u001b[0;34m)\u001b[0m\u001b[0;34m\u001b[0m\u001b[0;34m\u001b[0m\u001b[0m\n\u001b[0m",
            "\u001b[0;32m<ipython-input-86-fafe465f950d>\u001b[0m in \u001b[0;36mmypow\u001b[0;34m(a, b)\u001b[0m\n\u001b[1;32m      1\u001b[0m \u001b[0;32mdef\u001b[0m \u001b[0mmypow\u001b[0m\u001b[0;34m(\u001b[0m\u001b[0ma\u001b[0m\u001b[0;34m,\u001b[0m\u001b[0mb\u001b[0m\u001b[0;34m)\u001b[0m\u001b[0;34m:\u001b[0m\u001b[0;34m\u001b[0m\u001b[0;34m\u001b[0m\u001b[0m\n\u001b[0;32m----> 2\u001b[0;31m   \u001b[0mprint\u001b[0m\u001b[0;34m(\u001b[0m\u001b[0mpow\u001b[0m\u001b[0;34m(\u001b[0m\u001b[0ma\u001b[0m\u001b[0;34m,\u001b[0m\u001b[0mb\u001b[0m\u001b[0;34m)\u001b[0m\u001b[0;34m)\u001b[0m\u001b[0;34m\u001b[0m\u001b[0;34m\u001b[0m\u001b[0m\n\u001b[0m",
            "\u001b[0;31mTypeError\u001b[0m: unsupported operand type(s) for ** or pow(): 'str' and 'int'"
          ]
        }
      ]
    },
    {
      "cell_type": "code",
      "source": [
        "mypow(1,2,3)"
      ],
      "metadata": {
        "colab": {
          "base_uri": "https://localhost:8080/",
          "height": 141
        },
        "id": "jIVUxbxzQY-K",
        "outputId": "da2af965-98f1-4266-aa2b-0d12ce47e5d1"
      },
      "execution_count": null,
      "outputs": [
        {
          "output_type": "error",
          "ename": "TypeError",
          "evalue": "mypow() takes 2 positional arguments but 3 were given",
          "traceback": [
            "\u001b[0;31m---------------------------------------------------------------------------\u001b[0m",
            "\u001b[0;31mTypeError\u001b[0m                                 Traceback (most recent call last)",
            "\u001b[0;32m<ipython-input-94-820ea4e23323>\u001b[0m in \u001b[0;36m<cell line: 1>\u001b[0;34m()\u001b[0m\n\u001b[0;32m----> 1\u001b[0;31m \u001b[0mmypow\u001b[0m\u001b[0;34m(\u001b[0m\u001b[0;36m1\u001b[0m\u001b[0;34m,\u001b[0m\u001b[0;36m2\u001b[0m\u001b[0;34m,\u001b[0m\u001b[0;36m3\u001b[0m\u001b[0;34m)\u001b[0m\u001b[0;34m\u001b[0m\u001b[0;34m\u001b[0m\u001b[0m\n\u001b[0m",
            "\u001b[0;31mTypeError\u001b[0m: mypow() takes 2 positional arguments but 3 were given"
          ]
        }
      ]
    },
    {
      "cell_type": "markdown",
      "source": [
        "* Ordering of input arguments"
      ],
      "metadata": {
        "id": "iu5jJmi6Rx9B"
      }
    },
    {
      "cell_type": "code",
      "source": [
        "def f(a,b,c):\n",
        "  print(\"A:\",a, \" B:\",b, \" C:\",c)"
      ],
      "metadata": {
        "id": "A-iiinEhR15Q"
      },
      "execution_count": null,
      "outputs": []
    },
    {
      "cell_type": "code",
      "source": [
        "f(1,2,3)\n",
        "f(2,3,1)"
      ],
      "metadata": {
        "colab": {
          "base_uri": "https://localhost:8080/"
        },
        "id": "L_atY0TBR18v",
        "outputId": "d1c1e463-99ac-4c62-a2f0-49dae9b24ad6"
      },
      "execution_count": null,
      "outputs": [
        {
          "output_type": "stream",
          "name": "stdout",
          "text": [
            "A: 1  B: 2  C: 3\n",
            "A: 2  B: 3  C: 1\n"
          ]
        }
      ]
    },
    {
      "cell_type": "code",
      "source": [
        "f(a=1,b=2,c=3)\n",
        "f(b=2,c=3,a=1)"
      ],
      "metadata": {
        "colab": {
          "base_uri": "https://localhost:8080/"
        },
        "id": "bVzhvuIvS1hG",
        "outputId": "61592e67-891e-4bbb-a8af-ab6c33ff605d"
      },
      "execution_count": null,
      "outputs": [
        {
          "output_type": "stream",
          "name": "stdout",
          "text": [
            "A: 1  B: 2  C: 3\n",
            "A: 1  B: 2  C: 3\n"
          ]
        }
      ]
    },
    {
      "cell_type": "markdown",
      "source": [
        "* Local vs Global variables"
      ],
      "metadata": {
        "id": "u1EGz_1aUzSn"
      }
    },
    {
      "cell_type": "code",
      "source": [
        "def f():\n",
        "  print(a)\n",
        "a=10\n",
        "f()"
      ],
      "metadata": {
        "colab": {
          "base_uri": "https://localhost:8080/"
        },
        "id": "d_-AI9lfTpwy",
        "outputId": "1e1af381-4968-46c4-9c29-04503e543de9"
      },
      "execution_count": null,
      "outputs": [
        {
          "output_type": "stream",
          "name": "stdout",
          "text": [
            "10\n"
          ]
        }
      ]
    },
    {
      "cell_type": "code",
      "source": [
        "a=10\n",
        "def f():\n",
        "  a=2\n",
        "  print(a)\n",
        "f()\n",
        "print(a)"
      ],
      "metadata": {
        "colab": {
          "base_uri": "https://localhost:8080/"
        },
        "id": "46C2wL49Tp0I",
        "outputId": "97c2c32a-cd57-4166-9331-584c795582d7"
      },
      "execution_count": null,
      "outputs": [
        {
          "output_type": "stream",
          "name": "stdout",
          "text": [
            "2\n",
            "10\n"
          ]
        }
      ]
    },
    {
      "cell_type": "markdown",
      "source": [
        "* return statement"
      ],
      "metadata": {
        "id": "PvI51dQOU5Eb"
      }
    },
    {
      "cell_type": "code",
      "source": [
        "def add(a,b):\n",
        "  return a+b"
      ],
      "metadata": {
        "id": "cutVzvbFTp4E"
      },
      "execution_count": null,
      "outputs": []
    },
    {
      "cell_type": "code",
      "source": [
        "c=add(2,3)\n",
        "print(c)"
      ],
      "metadata": {
        "colab": {
          "base_uri": "https://localhost:8080/"
        },
        "id": "CstY-qeGWGfB",
        "outputId": "8f83bda8-78b7-4d2c-e03e-1c67f4d609d5"
      },
      "execution_count": null,
      "outputs": [
        {
          "output_type": "stream",
          "name": "stdout",
          "text": [
            "5\n"
          ]
        }
      ]
    },
    {
      "cell_type": "code",
      "source": [
        "print(add(4,3))"
      ],
      "metadata": {
        "colab": {
          "base_uri": "https://localhost:8080/"
        },
        "id": "QKgMZV8HWJnT",
        "outputId": "c868b0c3-1717-49ad-e0b0-c91bd3009309"
      },
      "execution_count": null,
      "outputs": [
        {
          "output_type": "stream",
          "name": "stdout",
          "text": [
            "7\n"
          ]
        }
      ]
    },
    {
      "cell_type": "code",
      "source": [
        "def r():\n",
        "  a=5\n",
        "  b=7\n",
        "  c=\"x\"\n",
        "  return a,b,c"
      ],
      "metadata": {
        "id": "CnFzM3DWXXdS"
      },
      "execution_count": null,
      "outputs": []
    },
    {
      "cell_type": "code",
      "source": [
        "r()"
      ],
      "metadata": {
        "colab": {
          "base_uri": "https://localhost:8080/"
        },
        "id": "B1wV_weyXaxV",
        "outputId": "e4ed3864-521b-43c9-f763-3f4ec9f0bdd0"
      },
      "execution_count": null,
      "outputs": [
        {
          "output_type": "execute_result",
          "data": {
            "text/plain": [
              "(5, 7, 'x')"
            ]
          },
          "metadata": {},
          "execution_count": 6
        }
      ]
    },
    {
      "cell_type": "markdown",
      "source": [
        "* None Data type"
      ],
      "metadata": {
        "id": "2VPEILUeWQJP"
      }
    },
    {
      "cell_type": "code",
      "source": [
        "def f():\n",
        "  a=4"
      ],
      "metadata": {
        "id": "D6boRymwWPsq"
      },
      "execution_count": null,
      "outputs": []
    },
    {
      "cell_type": "code",
      "source": [
        "print(f())"
      ],
      "metadata": {
        "colab": {
          "base_uri": "https://localhost:8080/"
        },
        "id": "xESLNmNNWXVz",
        "outputId": "24cc8be3-f8de-42e9-9763-2ebaea8c57ba"
      },
      "execution_count": null,
      "outputs": [
        {
          "output_type": "stream",
          "name": "stdout",
          "text": [
            "None\n"
          ]
        }
      ]
    },
    {
      "cell_type": "code",
      "source": [
        "type(f())"
      ],
      "metadata": {
        "colab": {
          "base_uri": "https://localhost:8080/"
        },
        "id": "fBrFLEb8Wdja",
        "outputId": "9e5d87ed-7238-4e21-acd3-4ae6055176de"
      },
      "execution_count": null,
      "outputs": [
        {
          "output_type": "execute_result",
          "data": {
            "text/plain": [
              "NoneType"
            ]
          },
          "metadata": {},
          "execution_count": 130
        }
      ]
    },
    {
      "cell_type": "code",
      "source": [
        "def g():\n",
        "  a=8\n",
        "  b=5\n",
        "  print(\"Hi\")\n",
        "  return a+b\n",
        "  print(\"Bye\")"
      ],
      "metadata": {
        "id": "pE9XotbQWulS"
      },
      "execution_count": null,
      "outputs": []
    },
    {
      "cell_type": "code",
      "source": [
        "g()"
      ],
      "metadata": {
        "colab": {
          "base_uri": "https://localhost:8080/"
        },
        "id": "u9BvkgPgW3DI",
        "outputId": "32500486-4799-4250-8015-30d678e2415f"
      },
      "execution_count": null,
      "outputs": [
        {
          "output_type": "stream",
          "name": "stdout",
          "text": [
            "Hi\n"
          ]
        },
        {
          "output_type": "execute_result",
          "data": {
            "text/plain": [
              "13"
            ]
          },
          "metadata": {},
          "execution_count": 136
        }
      ]
    },
    {
      "cell_type": "markdown",
      "source": [
        "#Variable number of input arguments\n",
        "* args()- variable number of arguments {*}\n",
        "* kwargs()- variable number of keyword arguments {**}\n"
      ],
      "metadata": {
        "id": "gW2m3KpgeZeb"
      }
    },
    {
      "cell_type": "code",
      "source": [
        "def sum(*args):\n",
        "  s=0\n",
        "  for i in range(len(args)):\n",
        "    s+=args[i]\n",
        "  return s"
      ],
      "metadata": {
        "id": "VTbaisXyed-Q"
      },
      "execution_count": null,
      "outputs": []
    },
    {
      "cell_type": "code",
      "source": [
        "sum(1,2,3,4,5)"
      ],
      "metadata": {
        "colab": {
          "base_uri": "https://localhost:8080/"
        },
        "id": "yffstsNyeeq7",
        "outputId": "19d20a7e-4954-45c7-9c55-24fe6a30b6f5"
      },
      "execution_count": null,
      "outputs": [
        {
          "output_type": "execute_result",
          "data": {
            "text/plain": [
              "15"
            ]
          },
          "metadata": {},
          "execution_count": 9
        }
      ]
    },
    {
      "cell_type": "code",
      "source": [
        "sum(1,-4,7)"
      ],
      "metadata": {
        "colab": {
          "base_uri": "https://localhost:8080/"
        },
        "id": "d18Qbfd0etCb",
        "outputId": "fd1799fd-d6db-43bf-c3cd-52e6ae70aeb2"
      },
      "execution_count": null,
      "outputs": [
        {
          "output_type": "execute_result",
          "data": {
            "text/plain": [
              "4"
            ]
          },
          "metadata": {},
          "execution_count": 10
        }
      ]
    },
    {
      "cell_type": "code",
      "source": [
        "def fun(**kwargs):\n",
        "  for k in kwargs:\n",
        "    print(k,\":\",kwargs[k])"
      ],
      "metadata": {
        "id": "midXbOlCezKX"
      },
      "execution_count": null,
      "outputs": []
    },
    {
      "cell_type": "code",
      "source": [
        "fun(c=1,b=2,a=3)"
      ],
      "metadata": {
        "colab": {
          "base_uri": "https://localhost:8080/"
        },
        "id": "C81s6m9Cf74c",
        "outputId": "c273076b-b5c2-4433-fc85-ed23229a118d"
      },
      "execution_count": null,
      "outputs": [
        {
          "output_type": "stream",
          "name": "stdout",
          "text": [
            "c : 1\n",
            "b : 2\n",
            "a : 3\n"
          ]
        }
      ]
    },
    {
      "cell_type": "code",
      "source": [
        "def f(a,*args):\n",
        "  for i in args:\n",
        "    print(i)\n",
        "\n",
        "f(1,2,3,4,5)\n",
        "# 1 is assigned to a which is not a part of args"
      ],
      "metadata": {
        "colab": {
          "base_uri": "https://localhost:8080/"
        },
        "id": "_HbOW536CTBZ",
        "outputId": "7ef294f0-c375-47b0-ab1d-dc566578f187"
      },
      "execution_count": null,
      "outputs": [
        {
          "output_type": "stream",
          "name": "stdout",
          "text": [
            "2\n",
            "3\n",
            "4\n",
            "5\n"
          ]
        }
      ]
    },
    {
      "cell_type": "code",
      "source": [
        "def f(a,*args,**kwargs):\n",
        "  print(a)\n",
        "  for i in args:\n",
        "    print(i)\n",
        "  for k in kwargs:\n",
        "    print(k,\":\",kwargs[k])\n",
        "\n",
        "f(1,2,3,4,c=\"Five\",d=\"Six\")"
      ],
      "metadata": {
        "colab": {
          "base_uri": "https://localhost:8080/"
        },
        "id": "dSIwLhP9d6JB",
        "outputId": "478ff9ba-5a0c-4672-9f40-9b1833e43b73"
      },
      "execution_count": null,
      "outputs": [
        {
          "output_type": "stream",
          "name": "stdout",
          "text": [
            "1\n",
            "2\n",
            "3\n",
            "4\n",
            "c : Five\n",
            "d : Six\n"
          ]
        }
      ]
    },
    {
      "cell_type": "markdown",
      "source": [
        "#Default value of arguments"
      ],
      "metadata": {
        "id": "RYgRB3RMiCy9"
      }
    },
    {
      "cell_type": "code",
      "source": [
        "def f(a=6):\n",
        "  print(a)"
      ],
      "metadata": {
        "id": "O7doDUpaiM4k"
      },
      "execution_count": null,
      "outputs": []
    },
    {
      "cell_type": "code",
      "source": [
        "f(2)"
      ],
      "metadata": {
        "colab": {
          "base_uri": "https://localhost:8080/"
        },
        "id": "oqMwEQxwiNER",
        "outputId": "70b41a2b-5107-4382-936b-9350253f91f8"
      },
      "execution_count": null,
      "outputs": [
        {
          "output_type": "stream",
          "name": "stdout",
          "text": [
            "2\n"
          ]
        }
      ]
    },
    {
      "cell_type": "code",
      "source": [
        "f()"
      ],
      "metadata": {
        "colab": {
          "base_uri": "https://localhost:8080/"
        },
        "id": "yi88MmRPiTFd",
        "outputId": "d0b109b1-827d-42d0-ddf6-c5dc58f5f108"
      },
      "execution_count": null,
      "outputs": [
        {
          "output_type": "stream",
          "name": "stdout",
          "text": [
            "6\n"
          ]
        }
      ]
    },
    {
      "cell_type": "markdown",
      "source": [
        "#Call by value vs Call by reference\n",
        "* In python mutable data types are called by reference like lists and immutable like tuples are called by value"
      ],
      "metadata": {
        "id": "nGtWLOLdiWJI"
      }
    },
    {
      "cell_type": "code",
      "source": [
        "a=[3,4,5]\n",
        "b=a\n",
        "b[0]=1\n",
        "print(a)"
      ],
      "metadata": {
        "colab": {
          "base_uri": "https://localhost:8080/"
        },
        "id": "pGFUPPiKe3b8",
        "outputId": "baa9471a-4fc1-4c52-af4d-606f01c3005b"
      },
      "execution_count": null,
      "outputs": [
        {
          "output_type": "stream",
          "name": "stdout",
          "text": [
            "[1, 4, 5]\n"
          ]
        }
      ]
    },
    {
      "cell_type": "code",
      "source": [
        "#Call by value for string\n",
        "def f(string):\n",
        "  string=\"Inside function\"\n",
        "  print(string)\n",
        "\n",
        "string=\"Outside function\"\n",
        "f(string)\n",
        "print(string)\n"
      ],
      "metadata": {
        "colab": {
          "base_uri": "https://localhost:8080/"
        },
        "id": "u6CNUDcvgIBy",
        "outputId": "1259b6ee-61a2-47b9-cb6d-4a99a9f8d7c1"
      },
      "execution_count": null,
      "outputs": [
        {
          "output_type": "stream",
          "name": "stdout",
          "text": [
            "Inside function\n",
            "Outside function\n"
          ]
        }
      ]
    },
    {
      "cell_type": "code",
      "source": [
        "#Call by refernece for list\n",
        "def f(list):\n",
        "  list.append(10)\n",
        "  print(list)\n",
        "\n",
        "list=[4,5,6]\n",
        "f(list)\n",
        "print(list)"
      ],
      "metadata": {
        "colab": {
          "base_uri": "https://localhost:8080/"
        },
        "id": "pOW_lD_wjHkG",
        "outputId": "ce995ebc-5375-497d-f403-18a2ac3c6d9c"
      },
      "execution_count": null,
      "outputs": [
        {
          "output_type": "stream",
          "name": "stdout",
          "text": [
            "[4, 5, 6, 10]\n",
            "[4, 5, 6, 10]\n"
          ]
        }
      ]
    },
    {
      "cell_type": "markdown",
      "source": [
        "#Modules\n",
        "* Created a module elsewhere and uploaded it here\n",
        "* Then ran the !cp address command to copy the address\n",
        "* Then you can import your module"
      ],
      "metadata": {
        "id": "vGw7JVTK6eFl"
      }
    },
    {
      "cell_type": "code",
      "source": [
        "!cp /content/module.py"
      ],
      "metadata": {
        "id": "EH3OOMum8eu7",
        "colab": {
          "base_uri": "https://localhost:8080/"
        },
        "outputId": "9f3b91c3-503f-4bb0-97c8-9773c3a4e34a"
      },
      "execution_count": null,
      "outputs": [
        {
          "output_type": "stream",
          "name": "stdout",
          "text": [
            "cp: missing destination file operand after '/content/module.py'\n",
            "Try 'cp --help' for more information.\n"
          ]
        }
      ]
    },
    {
      "cell_type": "code",
      "source": [
        "import module"
      ],
      "metadata": {
        "id": "4Z6x0d8O966f"
      },
      "execution_count": null,
      "outputs": []
    },
    {
      "cell_type": "code",
      "source": [
        "help(module)"
      ],
      "metadata": {
        "colab": {
          "base_uri": "https://localhost:8080/"
        },
        "id": "z5H3QOrJCd4v",
        "outputId": "6ee24158-ecf7-4ede-d29d-d88419029cbd"
      },
      "execution_count": null,
      "outputs": [
        {
          "output_type": "stream",
          "name": "stdout",
          "text": [
            "Help on module module:\n",
            "\n",
            "NAME\n",
            "    module - Module.ipynb\n",
            "\n",
            "DESCRIPTION\n",
            "    Automatically generated by Colab.\n",
            "    \n",
            "    Original file is located at\n",
            "        https://colab.research.google.com/drive/1AIEpspLB4usBxRyxqaqpgbuHs9pprU2o\n",
            "\n",
            "FUNCTIONS\n",
            "    add(*args)\n",
            "    \n",
            "    checkIfNumeric(*args)\n",
            "\n",
            "FILE\n",
            "    /content/module.py\n",
            "\n",
            "\n"
          ]
        }
      ]
    },
    {
      "cell_type": "code",
      "source": [
        "module.add(3,3,4,13,6,34)"
      ],
      "metadata": {
        "colab": {
          "base_uri": "https://localhost:8080/"
        },
        "id": "y_Tm4FGOCKQx",
        "outputId": "ed5b09e6-0111-4000-f6b5-823ef3a0734f"
      },
      "execution_count": null,
      "outputs": [
        {
          "output_type": "execute_result",
          "data": {
            "text/plain": [
              "63"
            ]
          },
          "metadata": {},
          "execution_count": 71
        }
      ]
    },
    {
      "cell_type": "code",
      "source": [
        "module.checkIfNumeric(1,2,3)"
      ],
      "metadata": {
        "colab": {
          "base_uri": "https://localhost:8080/"
        },
        "id": "i4R-zoh1CNbk",
        "outputId": "348cab69-1510-4938-c059-8d57e21e93ef"
      },
      "execution_count": null,
      "outputs": [
        {
          "output_type": "execute_result",
          "data": {
            "text/plain": [
              "True"
            ]
          },
          "metadata": {},
          "execution_count": 72
        }
      ]
    },
    {
      "cell_type": "code",
      "source": [
        "from module import add"
      ],
      "metadata": {
        "id": "dQc5AnRNCUIY"
      },
      "execution_count": null,
      "outputs": []
    },
    {
      "cell_type": "code",
      "source": [
        "add(1,2,3)"
      ],
      "metadata": {
        "colab": {
          "base_uri": "https://localhost:8080/"
        },
        "id": "wnq7oBeTC0fx",
        "outputId": "f278d3b4-6536-43db-9e25-4b71b9308034"
      },
      "execution_count": null,
      "outputs": [
        {
          "output_type": "execute_result",
          "data": {
            "text/plain": [
              "6"
            ]
          },
          "metadata": {},
          "execution_count": 83
        }
      ]
    }
  ]
}