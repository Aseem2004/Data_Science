{
  "nbformat": 4,
  "nbformat_minor": 0,
  "metadata": {
    "colab": {
      "provenance": [],
      "authorship_tag": "ABX9TyPKs7jb89+NtLkg8AeFDYS+"
    },
    "kernelspec": {
      "name": "python3",
      "display_name": "Python 3"
    },
    "language_info": {
      "name": "python"
    }
  },
  "cells": [
    {
      "cell_type": "markdown",
      "source": [
        "#Python For Data Science"
      ],
      "metadata": {
        "id": "0NWZotxQ0-da"
      }
    },
    {
      "cell_type": "code",
      "execution_count": null,
      "metadata": {
        "colab": {
          "base_uri": "https://localhost:8080/"
        },
        "id": "M7PSDsGv01IC",
        "outputId": "c3a4bfa2-106a-4848-ec64-753629b4ff2b"
      },
      "outputs": [
        {
          "output_type": "stream",
          "name": "stdout",
          "text": [
            "Hello World\n"
          ]
        }
      ],
      "source": [
        "print(\"Hello World\")\n"
      ]
    },
    {
      "cell_type": "markdown",
      "source": [
        "#Variables\n"
      ],
      "metadata": {
        "id": "Oi8DWzpH1TeC"
      }
    },
    {
      "cell_type": "code",
      "source": [
        "x=5\n",
        "%whos"
      ],
      "metadata": {
        "colab": {
          "base_uri": "https://localhost:8080/"
        },
        "id": "FXZJB9XL1dUE",
        "outputId": "87e332be-fbd4-4353-c71a-9e0e39015189"
      },
      "execution_count": null,
      "outputs": [
        {
          "output_type": "stream",
          "name": "stdout",
          "text": [
            "Variable   Type       Data/Info\n",
            "-------------------------------\n",
            "a          float      2.0\n",
            "b          str        abcd\n",
            "p          complex    (3-2j)\n",
            "x          int        5\n"
          ]
        }
      ]
    },
    {
      "cell_type": "code",
      "source": [
        "print(type(x))"
      ],
      "metadata": {
        "colab": {
          "base_uri": "https://localhost:8080/"
        },
        "id": "1U2I4NX_1iuP",
        "outputId": "9eb1c2df-0a30-4fd9-a4f5-b86e06249628"
      },
      "execution_count": null,
      "outputs": [
        {
          "output_type": "stream",
          "name": "stdout",
          "text": [
            "<class 'int'>\n"
          ]
        }
      ]
    },
    {
      "cell_type": "code",
      "source": [
        "x=3.6\n",
        "%whos"
      ],
      "metadata": {
        "colab": {
          "base_uri": "https://localhost:8080/"
        },
        "id": "MgM59Uyz1iwd",
        "outputId": "5c6b072b-744b-401f-fe92-fb7e52a010b6"
      },
      "execution_count": null,
      "outputs": [
        {
          "output_type": "stream",
          "name": "stdout",
          "text": [
            "Variable   Type       Data/Info\n",
            "-------------------------------\n",
            "a          float      2.0\n",
            "b          str        abcd\n",
            "p          complex    (3-2j)\n",
            "x          float      3.6\n"
          ]
        }
      ]
    },
    {
      "cell_type": "code",
      "source": [
        "y=9\n",
        "a,b=2.0,\"abcd\"\n",
        "p=3-2j"
      ],
      "metadata": {
        "id": "JyuWAYqG1iyb"
      },
      "execution_count": null,
      "outputs": []
    },
    {
      "cell_type": "code",
      "source": [
        "%whos"
      ],
      "metadata": {
        "colab": {
          "base_uri": "https://localhost:8080/"
        },
        "id": "8wriEG1K1i0Z",
        "outputId": "e7d2d27c-ae42-4ca3-bff9-d1295f804d22"
      },
      "execution_count": null,
      "outputs": [
        {
          "output_type": "stream",
          "name": "stdout",
          "text": [
            "Variable   Type       Data/Info\n",
            "-------------------------------\n",
            "a          float      2.0\n",
            "b          str        abcd\n",
            "p          complex    (3-2j)\n",
            "x          float      3.6\n",
            "y          int        9\n"
          ]
        }
      ]
    },
    {
      "cell_type": "code",
      "source": [
        "del y\n",
        "print(y)"
      ],
      "metadata": {
        "colab": {
          "base_uri": "https://localhost:8080/",
          "height": 158
        },
        "id": "JmIJetPV1i2X",
        "outputId": "192488c6-2fee-493a-a91d-012780250e74"
      },
      "execution_count": null,
      "outputs": [
        {
          "output_type": "error",
          "ename": "NameError",
          "evalue": "name 'y' is not defined",
          "traceback": [
            "\u001b[0;31m---------------------------------------------------------------------------\u001b[0m",
            "\u001b[0;31mNameError\u001b[0m                                 Traceback (most recent call last)",
            "\u001b[0;32m<ipython-input-27-175577d196dc>\u001b[0m in \u001b[0;36m<cell line: 2>\u001b[0;34m()\u001b[0m\n\u001b[1;32m      1\u001b[0m \u001b[0;32mdel\u001b[0m \u001b[0my\u001b[0m\u001b[0;34m\u001b[0m\u001b[0;34m\u001b[0m\u001b[0m\n\u001b[0;32m----> 2\u001b[0;31m \u001b[0mprint\u001b[0m\u001b[0;34m(\u001b[0m\u001b[0my\u001b[0m\u001b[0;34m)\u001b[0m\u001b[0;34m\u001b[0m\u001b[0;34m\u001b[0m\u001b[0m\n\u001b[0m",
            "\u001b[0;31mNameError\u001b[0m: name 'y' is not defined"
          ]
        }
      ]
    },
    {
      "cell_type": "code",
      "source": [
        "%whos"
      ],
      "metadata": {
        "colab": {
          "base_uri": "https://localhost:8080/"
        },
        "id": "eB-vIBiJ1i5x",
        "outputId": "45fda4cf-6b52-4eb3-b03c-b153cf9ef9dc"
      },
      "execution_count": null,
      "outputs": [
        {
          "output_type": "stream",
          "name": "stdout",
          "text": [
            "Variable   Type       Data/Info\n",
            "-------------------------------\n",
            "a          float      2.0\n",
            "b          str        abcd\n",
            "p          complex    (3-2j)\n",
            "x          float      3.6\n"
          ]
        }
      ]
    },
    {
      "cell_type": "markdown",
      "source": [
        "#Operators\n",
        "\n",
        "<table>\n",
        "<tr>\n",
        "<td>Symbol</td>\n",
        "<td>Task</td>\n",
        "</tr>\n",
        "<tr>\n",
        "<td>+</td>\n",
        "<td>Addition</td>\n",
        "</tr>\n",
        "<tr>\n",
        "<td>-</td>\n",
        "<td>Subtraction</td>\n",
        "</tr>\n",
        "<tr>\n",
        "<td>/</td>\n",
        "<td>Division</td>\n",
        "</tr>\n",
        "<tr>\n",
        "<td>*</td>\n",
        "<td>Multiplication</td>\n",
        "</tr>\n",
        "<tr>\n",
        "<td>//</td>\n",
        "<td>Floor Division</td>\n",
        "</tr>\n",
        "<tr>\n",
        "<td>%</td>\n",
        "<td>Mod</td>\n",
        "</tr>\n",
        "<tr>\n",
        "<td>**</td>\n",
        "<td>Power</td>\n",
        "</tr>\n",
        "</table>"
      ],
      "metadata": {
        "id": "_3QGLCR_-oWh"
      }
    },
    {
      "cell_type": "code",
      "source": [
        "print(13+3)\n",
        "print(13-3)\n",
        "print(13/3)\n",
        "print(13*3)\n",
        "print(13//3)\n",
        "print(13%3)\n",
        "print(13**3)"
      ],
      "metadata": {
        "colab": {
          "base_uri": "https://localhost:8080/"
        },
        "id": "ubFHDWAd-v0p",
        "outputId": "53214ddd-64ae-4aa1-eb25-e1af6373a81c"
      },
      "execution_count": null,
      "outputs": [
        {
          "output_type": "stream",
          "name": "stdout",
          "text": [
            "16\n",
            "10\n",
            "4.333333333333333\n",
            "39\n",
            "4\n",
            "1\n",
            "2197\n"
          ]
        }
      ]
    },
    {
      "cell_type": "code",
      "source": [
        "print(((12**7+8)*(3%2-8))//7)"
      ],
      "metadata": {
        "colab": {
          "base_uri": "https://localhost:8080/"
        },
        "id": "NpY5NJ7iAhnP",
        "outputId": "09c756b3-9b3b-4e1b-ec27-7f35e48c3b65"
      },
      "execution_count": null,
      "outputs": [
        {
          "output_type": "stream",
          "name": "stdout",
          "text": [
            "-35831816\n"
          ]
        }
      ]
    },
    {
      "cell_type": "code",
      "source": [
        "s1=\"hello\"\n",
        "s2=\"world\"\n",
        "print(s1+\" \"+s2)"
      ],
      "metadata": {
        "colab": {
          "base_uri": "https://localhost:8080/"
        },
        "id": "l_ScybpAAhpW",
        "outputId": "807d7f53-3460-4d20-df5c-137029c63c63"
      },
      "execution_count": null,
      "outputs": [
        {
          "output_type": "stream",
          "name": "stdout",
          "text": [
            "hello world\n"
          ]
        }
      ]
    },
    {
      "cell_type": "markdown",
      "source": [
        "* Variables can only start with [a-z], [A,Z] and _ <br>\n",
        "* Use camel case"
      ],
      "metadata": {
        "id": "tjnTsC55zOto"
      }
    },
    {
      "cell_type": "markdown",
      "source": [
        "#Bool"
      ],
      "metadata": {
        "id": "UcI2vd4W269_"
      }
    },
    {
      "cell_type": "code",
      "source": [
        "a=True\n",
        "b=True\n",
        "c=False\n",
        "print(a and b)\n",
        "print(a or b)\n",
        "print(not c)\n",
        "print(a and c)"
      ],
      "metadata": {
        "id": "4HIHaAd7Ahsn",
        "colab": {
          "base_uri": "https://localhost:8080/"
        },
        "outputId": "3ad87c7b-391b-4624-8b55-03089a4a8419"
      },
      "execution_count": null,
      "outputs": [
        {
          "output_type": "stream",
          "name": "stdout",
          "text": [
            "True\n",
            "True\n",
            "True\n",
            "False\n"
          ]
        }
      ]
    },
    {
      "cell_type": "code",
      "source": [
        "print(not((a and b) or (b and c)))"
      ],
      "metadata": {
        "colab": {
          "base_uri": "https://localhost:8080/"
        },
        "id": "rRP7-S5f3ZIj",
        "outputId": "1089584c-fafa-45ef-dce8-ea1c75df9914"
      },
      "execution_count": null,
      "outputs": [
        {
          "output_type": "stream",
          "name": "stdout",
          "text": [
            "False\n"
          ]
        }
      ]
    },
    {
      "cell_type": "code",
      "source": [
        "False and False or True\n",
        "# Here and is applied first"
      ],
      "metadata": {
        "colab": {
          "base_uri": "https://localhost:8080/"
        },
        "id": "0tjTBJEJBqLW",
        "outputId": "1f61da56-f194-4bd3-938b-a664b5ac535b"
      },
      "execution_count": null,
      "outputs": [
        {
          "output_type": "execute_result",
          "data": {
            "text/plain": [
              "True"
            ]
          },
          "metadata": {},
          "execution_count": 3
        }
      ]
    },
    {
      "cell_type": "code",
      "source": [
        "True or False and False\n",
        "# Here also and is applied first"
      ],
      "metadata": {
        "colab": {
          "base_uri": "https://localhost:8080/"
        },
        "id": "91sn5Z8XCAXA",
        "outputId": "1a88877e-62bc-4475-afe6-5aa1306c74cf"
      },
      "execution_count": null,
      "outputs": [
        {
          "output_type": "execute_result",
          "data": {
            "text/plain": [
              "True"
            ]
          },
          "metadata": {},
          "execution_count": 5
        }
      ]
    },
    {
      "cell_type": "markdown",
      "source": [
        "* Precedence: and>or"
      ],
      "metadata": {
        "id": "l5PgpmpOCRLN"
      }
    },
    {
      "cell_type": "markdown",
      "source": [
        "#Comparisons\n",
        "<table>\n",
        "<tr>\n",
        "<td>Symbol</td>\n",
        "<td>Task</td>\n",
        "</tr>\n",
        "<tr>\n",
        "<td>==</td>\n",
        "<td>Equal to</td>\n",
        "</tr>\n",
        "<tr>\n",
        "<td>!=</td>\n",
        "<td>Equal to</td>\n",
        "</tr>\n",
        "<tr>\n",
        "<td><</td>\n",
        "<td>Less than</td>\n",
        "</tr>\n",
        "<tr>\n",
        "<td>></td>\n",
        "<td>Greater than</td>\n",
        "</tr>\n",
        "<tr>\n",
        "<td><=</td>\n",
        "<td>Less than or equal to</td>\n",
        "</tr>\n",
        "<tr>\n",
        "<td>>=</td>\n",
        "<td>Greater than or equal to</td>\n",
        "</table>\n",
        "<br>\n",
        "They return bool value i.e. True or False"
      ],
      "metadata": {
        "id": "5L-2uJmQ_VEn"
      }
    },
    {
      "cell_type": "code",
      "source": [
        "print(2==3)\n",
        "print(2!=3)\n",
        "print(2<3)\n",
        "print(2>3)\n",
        "print(2<=3)\n",
        "print(2>=3)"
      ],
      "metadata": {
        "colab": {
          "base_uri": "https://localhost:8080/"
        },
        "id": "YhzECxwiAFj5",
        "outputId": "09d12bf9-fed4-467e-8536-04e2d6280180"
      },
      "execution_count": null,
      "outputs": [
        {
          "output_type": "stream",
          "name": "stdout",
          "text": [
            "False\n",
            "True\n",
            "True\n",
            "False\n",
            "True\n",
            "False\n"
          ]
        }
      ]
    },
    {
      "cell_type": "code",
      "source": [
        "print(3==3.0)"
      ],
      "metadata": {
        "colab": {
          "base_uri": "https://localhost:8080/"
        },
        "id": "T9T7aBUnBj_f",
        "outputId": "f7f181fc-5a40-46af-c64d-daee8b1a07c9"
      },
      "execution_count": null,
      "outputs": [
        {
          "output_type": "stream",
          "name": "stdout",
          "text": [
            "True\n"
          ]
        }
      ]
    },
    {
      "cell_type": "markdown",
      "source": [
        "#Some Useful Functions\n",
        "* round()"
      ],
      "metadata": {
        "id": "l7iupYdrvPhB"
      }
    },
    {
      "cell_type": "code",
      "source": [
        "print(round(4.556))\n",
        "print(round(4.345))\n",
        "print(round(4.556389,3))"
      ],
      "metadata": {
        "id": "2qEE-ln3BkTg",
        "colab": {
          "base_uri": "https://localhost:8080/"
        },
        "outputId": "a739af97-b99e-4ad0-dd4a-6effed36e882"
      },
      "execution_count": 1,
      "outputs": [
        {
          "output_type": "stream",
          "name": "stdout",
          "text": [
            "5\n",
            "4\n",
            "4.556\n"
          ]
        }
      ]
    },
    {
      "cell_type": "markdown",
      "source": [
        "* divmod()"
      ],
      "metadata": {
        "id": "fB7Mja6qwJmr"
      }
    },
    {
      "cell_type": "code",
      "source": [
        "B = divmod(27,5)\n",
        "print(B)\n",
        "type(B)"
      ],
      "metadata": {
        "id": "fBSAsNyMBkU8",
        "colab": {
          "base_uri": "https://localhost:8080/"
        },
        "outputId": "50e1dd17-d67f-4e23-9abd-9e7c30216738"
      },
      "execution_count": 2,
      "outputs": [
        {
          "output_type": "stream",
          "name": "stdout",
          "text": [
            "(5, 2)\n"
          ]
        },
        {
          "output_type": "execute_result",
          "data": {
            "text/plain": [
              "tuple"
            ]
          },
          "metadata": {},
          "execution_count": 2
        }
      ]
    },
    {
      "cell_type": "code",
      "source": [
        "B[0]"
      ],
      "metadata": {
        "id": "I89Y7jjIBkYc",
        "colab": {
          "base_uri": "https://localhost:8080/"
        },
        "outputId": "21dd764e-5b15-40a1-b617-cccf5794be64"
      },
      "execution_count": 4,
      "outputs": [
        {
          "output_type": "execute_result",
          "data": {
            "text/plain": [
              "5"
            ]
          },
          "metadata": {},
          "execution_count": 4
        }
      ]
    },
    {
      "cell_type": "code",
      "source": [
        "B[1]"
      ],
      "metadata": {
        "colab": {
          "base_uri": "https://localhost:8080/"
        },
        "id": "uqwSClIgwXtS",
        "outputId": "fab9ccb2-b7f3-4fb5-de38-1ec66005ef5c"
      },
      "execution_count": 5,
      "outputs": [
        {
          "output_type": "execute_result",
          "data": {
            "text/plain": [
              "2"
            ]
          },
          "metadata": {},
          "execution_count": 5
        }
      ]
    },
    {
      "cell_type": "markdown",
      "source": [
        "* isinstance()"
      ],
      "metadata": {
        "id": "DmpMCZiGLrTW"
      }
    },
    {
      "cell_type": "code",
      "source": [
        "isinstance(3,int)"
      ],
      "metadata": {
        "colab": {
          "base_uri": "https://localhost:8080/"
        },
        "id": "CD0y4K2JLtuA",
        "outputId": "2a0fe5b0-e27d-4b1b-d4de-6f65535fcb9a"
      },
      "execution_count": 1,
      "outputs": [
        {
          "output_type": "execute_result",
          "data": {
            "text/plain": [
              "True"
            ]
          },
          "metadata": {},
          "execution_count": 1
        }
      ]
    },
    {
      "cell_type": "code",
      "source": [
        "isinstance(3.4,(int))"
      ],
      "metadata": {
        "colab": {
          "base_uri": "https://localhost:8080/"
        },
        "id": "Kql4NDluLxEY",
        "outputId": "6d86e623-f97d-4e86-b2f5-df555ffa8342"
      },
      "execution_count": 2,
      "outputs": [
        {
          "output_type": "execute_result",
          "data": {
            "text/plain": [
              "False"
            ]
          },
          "metadata": {},
          "execution_count": 2
        }
      ]
    },
    {
      "cell_type": "code",
      "source": [
        "isinstance(2+3j,(int,float,str,complex))"
      ],
      "metadata": {
        "colab": {
          "base_uri": "https://localhost:8080/"
        },
        "id": "c0Q_tMkQLxH6",
        "outputId": "5ff63035-317f-4f91-f6f8-e404fed22cca"
      },
      "execution_count": 3,
      "outputs": [
        {
          "output_type": "execute_result",
          "data": {
            "text/plain": [
              "True"
            ]
          },
          "metadata": {},
          "execution_count": 3
        }
      ]
    },
    {
      "cell_type": "markdown",
      "source": [
        "* pow()"
      ],
      "metadata": {
        "id": "sxkDvFxpMR_Z"
      }
    },
    {
      "cell_type": "code",
      "source": [
        "pow(2,4)"
      ],
      "metadata": {
        "colab": {
          "base_uri": "https://localhost:8080/"
        },
        "id": "qpSA9CFBMT2h",
        "outputId": "9766997e-e8ee-4731-d353-8443adc40cd4"
      },
      "execution_count": 4,
      "outputs": [
        {
          "output_type": "execute_result",
          "data": {
            "text/plain": [
              "16"
            ]
          },
          "metadata": {},
          "execution_count": 4
        }
      ]
    },
    {
      "cell_type": "code",
      "source": [
        "pow(2,4,7)"
      ],
      "metadata": {
        "colab": {
          "base_uri": "https://localhost:8080/"
        },
        "id": "egoFCye4MT6C",
        "outputId": "5540ffa0-2c76-46ad-93db-4b6f5509b35d"
      },
      "execution_count": 5,
      "outputs": [
        {
          "output_type": "execute_result",
          "data": {
            "text/plain": [
              "2"
            ]
          },
          "metadata": {},
          "execution_count": 5
        }
      ]
    },
    {
      "cell_type": "markdown",
      "source": [
        "* input()"
      ],
      "metadata": {
        "id": "SYkJT7foNF7s"
      }
    },
    {
      "cell_type": "code",
      "source": [
        "x=input(\"Enter a number: \")"
      ],
      "metadata": {
        "colab": {
          "base_uri": "https://localhost:8080/"
        },
        "id": "ws-NjGxvNHfQ",
        "outputId": "bd9cf1cb-b3fd-4a5e-a5b1-f4795d770b84"
      },
      "execution_count": 7,
      "outputs": [
        {
          "name": "stdout",
          "output_type": "stream",
          "text": [
            "Enter a number: 12\n"
          ]
        }
      ]
    },
    {
      "cell_type": "code",
      "source": [
        "type(x)"
      ],
      "metadata": {
        "colab": {
          "base_uri": "https://localhost:8080/"
        },
        "id": "ro0RdyHCNHgl",
        "outputId": "b9a1cd80-bd76-4057-f54c-67455eaa1413"
      },
      "execution_count": 8,
      "outputs": [
        {
          "output_type": "execute_result",
          "data": {
            "text/plain": [
              "str"
            ]
          },
          "metadata": {},
          "execution_count": 8
        }
      ]
    },
    {
      "cell_type": "code",
      "source": [
        "x=int(x)\n",
        "type(x)"
      ],
      "metadata": {
        "colab": {
          "base_uri": "https://localhost:8080/"
        },
        "id": "lI9RO2OeOZoN",
        "outputId": "a081bd97-f84e-4790-83c4-152686c39823"
      },
      "execution_count": 9,
      "outputs": [
        {
          "output_type": "execute_result",
          "data": {
            "text/plain": [
              "int"
            ]
          },
          "metadata": {},
          "execution_count": 9
        }
      ]
    },
    {
      "cell_type": "code",
      "source": [
        "a=float(input(\"Enter a real number: \"))"
      ],
      "metadata": {
        "colab": {
          "base_uri": "https://localhost:8080/"
        },
        "id": "Gv8Y-o95OZrp",
        "outputId": "39c241d8-8151-4d0f-ff2a-16a6cea63bc6"
      },
      "execution_count": 11,
      "outputs": [
        {
          "name": "stdout",
          "output_type": "stream",
          "text": [
            "Enter a real number: 1.2\n"
          ]
        }
      ]
    },
    {
      "cell_type": "code",
      "source": [
        "type(a)"
      ],
      "metadata": {
        "colab": {
          "base_uri": "https://localhost:8080/"
        },
        "id": "v1vp24wXNHkA",
        "outputId": "bfe4876b-56ec-44ff-aa1d-0e7561cc93a5"
      },
      "execution_count": 12,
      "outputs": [
        {
          "output_type": "execute_result",
          "data": {
            "text/plain": [
              "float"
            ]
          },
          "metadata": {},
          "execution_count": 12
        }
      ]
    },
    {
      "cell_type": "code",
      "source": [
        "b=float(input(\"Enter a real number: \"))"
      ],
      "metadata": {
        "colab": {
          "base_uri": "https://localhost:8080/",
          "height": 158
        },
        "id": "Q-QbC5W5OrHB",
        "outputId": "7030a99d-27fc-4a17-e746-2b464621bb03"
      },
      "execution_count": 13,
      "outputs": [
        {
          "name": "stdout",
          "output_type": "stream",
          "text": [
            "Enter a real number: xyz\n"
          ]
        },
        {
          "output_type": "error",
          "ename": "ValueError",
          "evalue": "could not convert string to float: 'xyz'",
          "traceback": [
            "\u001b[0;31m---------------------------------------------------------------------------\u001b[0m",
            "\u001b[0;31mValueError\u001b[0m                                Traceback (most recent call last)",
            "\u001b[0;32m<ipython-input-13-77a83f654d1d>\u001b[0m in \u001b[0;36m<cell line: 1>\u001b[0;34m()\u001b[0m\n\u001b[0;32m----> 1\u001b[0;31m \u001b[0mb\u001b[0m\u001b[0;34m=\u001b[0m\u001b[0mfloat\u001b[0m\u001b[0;34m(\u001b[0m\u001b[0minput\u001b[0m\u001b[0;34m(\u001b[0m\u001b[0;34m\"Enter a real number: \"\u001b[0m\u001b[0;34m)\u001b[0m\u001b[0;34m)\u001b[0m\u001b[0;34m\u001b[0m\u001b[0;34m\u001b[0m\u001b[0m\n\u001b[0m",
            "\u001b[0;31mValueError\u001b[0m: could not convert string to float: 'xyz'"
          ]
        }
      ]
    },
    {
      "cell_type": "markdown",
      "source": [
        "#How to know what a function is meant for\n",
        "\n"
      ],
      "metadata": {
        "id": "MLw5Z6i-Oz_5"
      }
    },
    {
      "cell_type": "code",
      "source": [
        "help(isinstance)\n",
        "# isinstance? will also yield the same"
      ],
      "metadata": {
        "colab": {
          "base_uri": "https://localhost:8080/"
        },
        "id": "WdCGGTMpPPbD",
        "outputId": "2e4a99c9-5f0e-413a-eea2-ef41a2686ff5"
      },
      "execution_count": 16,
      "outputs": [
        {
          "output_type": "stream",
          "name": "stdout",
          "text": [
            "Help on built-in function isinstance in module builtins:\n",
            "\n",
            "isinstance(obj, class_or_tuple, /)\n",
            "    Return whether an object is an instance of a class or of a subclass thereof.\n",
            "    \n",
            "    A tuple, as in ``isinstance(x, (A, B, ...))``, may be given as the target to\n",
            "    check against. This is equivalent to ``isinstance(x, A) or isinstance(x, B)\n",
            "    or ...`` etc.\n",
            "\n"
          ]
        }
      ]
    },
    {
      "cell_type": "code",
      "source": [
        "help(pow)\n",
        "# pow? will also yield the same"
      ],
      "metadata": {
        "colab": {
          "base_uri": "https://localhost:8080/"
        },
        "id": "TKuG9peZPcIq",
        "outputId": "c050553d-c8a9-4512-d250-86eb0b353fe7"
      },
      "execution_count": 17,
      "outputs": [
        {
          "output_type": "stream",
          "name": "stdout",
          "text": [
            "Help on built-in function pow in module builtins:\n",
            "\n",
            "pow(base, exp, mod=None)\n",
            "    Equivalent to base**exp with 2 arguments or base**exp % mod with 3 arguments\n",
            "    \n",
            "    Some types, such as ints, are able to use a more efficient algorithm when\n",
            "    invoked using the three argument form.\n",
            "\n"
          ]
        }
      ]
    },
    {
      "cell_type": "markdown",
      "source": [
        "#Control Flow (Conditionals)"
      ],
      "metadata": {
        "id": "kOv04YaPScIJ"
      }
    },
    {
      "cell_type": "code",
      "source": [
        "a=int(input())\n",
        "b=int(input())\n",
        "if(a>b):\n",
        "  print(\"Bigger is\",a)\n",
        "  print(\"I am still inside if condition\")\n",
        "print(\"I am outside the if condition\")"
      ],
      "metadata": {
        "colab": {
          "base_uri": "https://localhost:8080/"
        },
        "id": "7STATvQGSgpd",
        "outputId": "1d6e797e-d07c-4d12-e885-09d083819b9f"
      },
      "execution_count": 20,
      "outputs": [
        {
          "output_type": "stream",
          "name": "stdout",
          "text": [
            "10\n",
            "5\n",
            "Bigger is 10\n",
            "I am still inside if condition\n",
            "I am outside the if condition\n"
          ]
        }
      ]
    },
    {
      "cell_type": "code",
      "source": [
        "a=int(input())\n",
        "b=int(input())\n",
        "if(a>b):\n",
        "  print(\"Bigger is\",a)\n",
        "elif(b>a):\n",
        "  print(\"Bigger is\",b)\n",
        "else:\n",
        "  print(\"Equal\")"
      ],
      "metadata": {
        "colab": {
          "base_uri": "https://localhost:8080/"
        },
        "id": "DsDPkxISSgrh",
        "outputId": "3842572a-4cfd-4a04-c4ae-6954de6198e5"
      },
      "execution_count": 21,
      "outputs": [
        {
          "output_type": "stream",
          "name": "stdout",
          "text": [
            "10\n",
            "10\n",
            "Equal\n"
          ]
        }
      ]
    },
    {
      "cell_type": "code",
      "source": [
        "a=5\n",
        "b=10\n",
        "print(\"A\") if a>b else print(\"B\") if b>a else print(\"Equal\")"
      ],
      "metadata": {
        "colab": {
          "base_uri": "https://localhost:8080/"
        },
        "id": "re4DtBrOSgtN",
        "outputId": "7cd766da-3944-4786-ae37-737192ce372b"
      },
      "execution_count": 22,
      "outputs": [
        {
          "output_type": "stream",
          "name": "stdout",
          "text": [
            "B\n"
          ]
        }
      ]
    },
    {
      "cell_type": "code",
      "source": [
        "a=int(input())\n",
        "if a>10:\n",
        "    print(\">10\")\n",
        "elif not(a>10):\n",
        "    print(\"Else part\")"
      ],
      "metadata": {
        "colab": {
          "base_uri": "https://localhost:8080/"
        },
        "id": "6xXqiaAGSgwt",
        "outputId": "ff0eedb7-098c-4d64-be05-3c27181c8e2b"
      },
      "execution_count": 1,
      "outputs": [
        {
          "output_type": "stream",
          "name": "stdout",
          "text": [
            "4\n",
            "Else part\n"
          ]
        }
      ]
    },
    {
      "cell_type": "code",
      "source": [
        "n=int(input())\n",
        "if n>10:\n",
        "  print(\"Larger than 10\")\n",
        "  if(n>20):\n",
        "    print(\"Larger than 20\")\n",
        "  else:\n",
        "    print(\"Less than 20\")"
      ],
      "metadata": {
        "colab": {
          "base_uri": "https://localhost:8080/"
        },
        "id": "c253v6UrX45j",
        "outputId": "be4ff8dc-6127-45fd-b5e6-1c2ca6a64a98"
      },
      "execution_count": 3,
      "outputs": [
        {
          "output_type": "stream",
          "name": "stdout",
          "text": [
            "12\n",
            "Larger than 10\n",
            "Less than 20\n"
          ]
        }
      ]
    },
    {
      "cell_type": "code",
      "source": [
        "'''User will enter a floating point number let say 238.915. Your task is to find out the integer portion before the point (in this case 238) and then check if that integer portion\n",
        "is an even number or not?'''\n",
        "\n",
        "x=float(input())\n",
        "y=round(x)\n",
        "\n",
        "if x>0:\n",
        "  if y>x:\n",
        "    intPart=y-1\n",
        "  else:\n",
        "    intPart=y\n",
        "else:\n",
        "  if y<x:\n",
        "    intPart=y+1\n",
        "  else:\n",
        "    intPart=y\n",
        "\n",
        "if intPart%2==0:\n",
        "  print(\"Even\")\n",
        "else:\n",
        "  print(\"Odd\")\n"
      ],
      "metadata": {
        "colab": {
          "base_uri": "https://localhost:8080/"
        },
        "id": "5GmRpbm9X4_a",
        "outputId": "cd8895ef-6b6c-4029-fcc3-9727e57269f0"
      },
      "execution_count": 6,
      "outputs": [
        {
          "output_type": "stream",
          "name": "stdout",
          "text": [
            "32.65\n",
            "Even\n"
          ]
        }
      ]
    },
    {
      "cell_type": "code",
      "source": [],
      "metadata": {
        "id": "Re9RaiN7dl4S"
      },
      "execution_count": null,
      "outputs": []
    }
  ]
}