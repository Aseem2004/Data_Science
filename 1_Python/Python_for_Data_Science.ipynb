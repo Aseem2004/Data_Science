{
  "nbformat": 4,
  "nbformat_minor": 0,
  "metadata": {
    "colab": {
      "provenance": [],
      "authorship_tag": "ABX9TyPjZkspCOIiENsUKCG7Otiy"
    },
    "kernelspec": {
      "name": "python3",
      "display_name": "Python 3"
    },
    "language_info": {
      "name": "python"
    }
  },
  "cells": [
    {
      "cell_type": "markdown",
      "source": [
        "#Python For Data Science"
      ],
      "metadata": {
        "id": "0NWZotxQ0-da"
      }
    },
    {
      "cell_type": "code",
      "execution_count": null,
      "metadata": {
        "colab": {
          "base_uri": "https://localhost:8080/"
        },
        "id": "M7PSDsGv01IC",
        "outputId": "a5f60b9f-f776-42ea-da82-904709aecd0b"
      },
      "outputs": [
        {
          "output_type": "stream",
          "name": "stdout",
          "text": [
            "Hello World\n"
          ]
        }
      ],
      "source": [
        "print(\"Hello World\")\n"
      ]
    },
    {
      "cell_type": "markdown",
      "source": [
        "#Variables\n"
      ],
      "metadata": {
        "id": "Oi8DWzpH1TeC"
      }
    },
    {
      "cell_type": "code",
      "source": [
        "x=5\n",
        "%whos"
      ],
      "metadata": {
        "colab": {
          "base_uri": "https://localhost:8080/"
        },
        "id": "FXZJB9XL1dUE",
        "outputId": "e091cf26-7acf-43d8-8f19-426719c2c74d"
      },
      "execution_count": null,
      "outputs": [
        {
          "output_type": "stream",
          "name": "stdout",
          "text": [
            "Variable   Type        Data/Info\n",
            "--------------------------------\n",
            "a          tuple       n=3\n",
            "add        function    <function add at 0x7bc37bc9f2e0>\n",
            "b          tuple       n=3\n",
            "f          function    <function f at 0x7bc3bfba0940>\n",
            "fun        function    <function fun at 0x7bc3ae8c1e10>\n",
            "intPart    int         32\n",
            "l          list        n=3\n",
            "list       list        n=4\n",
            "module     module      <module 'module' from '/content/module.py'>\n",
            "s          list        n=1\n",
            "string     str         Outside function\n",
            "sys        module      <module 'sys' (built-in)>\n",
            "x          int         5\n",
            "y          int         32\n"
          ]
        }
      ]
    },
    {
      "cell_type": "code",
      "source": [
        "print(type(x))"
      ],
      "metadata": {
        "colab": {
          "base_uri": "https://localhost:8080/"
        },
        "id": "1U2I4NX_1iuP",
        "outputId": "a1689801-42f4-4d36-dd16-2483b10e0d24"
      },
      "execution_count": null,
      "outputs": [
        {
          "output_type": "stream",
          "name": "stdout",
          "text": [
            "<class 'int'>\n"
          ]
        }
      ]
    },
    {
      "cell_type": "code",
      "source": [
        "x=3.6\n",
        "%whos"
      ],
      "metadata": {
        "colab": {
          "base_uri": "https://localhost:8080/"
        },
        "id": "MgM59Uyz1iwd",
        "outputId": "07a6a6bd-adb4-4646-ec0d-bd4c58f1a4ac"
      },
      "execution_count": null,
      "outputs": [
        {
          "output_type": "stream",
          "name": "stdout",
          "text": [
            "Variable   Type        Data/Info\n",
            "--------------------------------\n",
            "a          tuple       n=3\n",
            "add        function    <function add at 0x7bc37bc9f2e0>\n",
            "b          tuple       n=3\n",
            "f          function    <function f at 0x7bc3bfba0940>\n",
            "fun        function    <function fun at 0x7bc3ae8c1e10>\n",
            "intPart    int         32\n",
            "l          list        n=3\n",
            "list       list        n=4\n",
            "module     module      <module 'module' from '/content/module.py'>\n",
            "s          list        n=1\n",
            "string     str         Outside function\n",
            "sys        module      <module 'sys' (built-in)>\n",
            "x          float       3.6\n",
            "y          int         32\n"
          ]
        }
      ]
    },
    {
      "cell_type": "code",
      "source": [
        "y=9\n",
        "a,b=2.0,\"abcd\"\n",
        "p=3-2j"
      ],
      "metadata": {
        "id": "JyuWAYqG1iyb"
      },
      "execution_count": null,
      "outputs": []
    },
    {
      "cell_type": "code",
      "source": [
        "%whos"
      ],
      "metadata": {
        "colab": {
          "base_uri": "https://localhost:8080/"
        },
        "id": "8wriEG1K1i0Z",
        "outputId": "a41d9a95-0609-4789-d02d-356e3a9b50bb"
      },
      "execution_count": null,
      "outputs": [
        {
          "output_type": "stream",
          "name": "stdout",
          "text": [
            "Variable   Type        Data/Info\n",
            "--------------------------------\n",
            "a          float       2.0\n",
            "add        function    <function add at 0x7bc37bc9f2e0>\n",
            "b          str         abcd\n",
            "f          function    <function f at 0x7bc3bfba0940>\n",
            "fun        function    <function fun at 0x7bc3ae8c1e10>\n",
            "intPart    int         32\n",
            "l          list        n=3\n",
            "list       list        n=4\n",
            "module     module      <module 'module' from '/content/module.py'>\n",
            "p          complex     (3-2j)\n",
            "s          list        n=1\n",
            "string     str         Outside function\n",
            "sys        module      <module 'sys' (built-in)>\n",
            "x          float       3.6\n",
            "y          int         9\n"
          ]
        }
      ]
    },
    {
      "cell_type": "code",
      "source": [
        "del y\n",
        "print(y)"
      ],
      "metadata": {
        "colab": {
          "base_uri": "https://localhost:8080/",
          "height": 158
        },
        "id": "JmIJetPV1i2X",
        "outputId": "fd9170c1-a583-4b5e-a034-c5355c8fbb18"
      },
      "execution_count": null,
      "outputs": [
        {
          "output_type": "error",
          "ename": "NameError",
          "evalue": "name 'y' is not defined",
          "traceback": [
            "\u001b[0;31m---------------------------------------------------------------------------\u001b[0m",
            "\u001b[0;31mNameError\u001b[0m                                 Traceback (most recent call last)",
            "\u001b[0;32m<ipython-input-92-175577d196dc>\u001b[0m in \u001b[0;36m<cell line: 2>\u001b[0;34m()\u001b[0m\n\u001b[1;32m      1\u001b[0m \u001b[0;32mdel\u001b[0m \u001b[0my\u001b[0m\u001b[0;34m\u001b[0m\u001b[0;34m\u001b[0m\u001b[0m\n\u001b[0;32m----> 2\u001b[0;31m \u001b[0mprint\u001b[0m\u001b[0;34m(\u001b[0m\u001b[0my\u001b[0m\u001b[0;34m)\u001b[0m\u001b[0;34m\u001b[0m\u001b[0;34m\u001b[0m\u001b[0m\n\u001b[0m",
            "\u001b[0;31mNameError\u001b[0m: name 'y' is not defined"
          ]
        }
      ]
    },
    {
      "cell_type": "code",
      "source": [
        "%whos"
      ],
      "metadata": {
        "colab": {
          "base_uri": "https://localhost:8080/"
        },
        "id": "eB-vIBiJ1i5x",
        "outputId": "46a2f187-daea-4db0-fb6e-202569d0b2d8"
      },
      "execution_count": null,
      "outputs": [
        {
          "output_type": "stream",
          "name": "stdout",
          "text": [
            "Variable   Type        Data/Info\n",
            "--------------------------------\n",
            "a          float       2.0\n",
            "add        function    <function add at 0x7bc37bc9f2e0>\n",
            "b          str         abcd\n",
            "f          function    <function f at 0x7bc3bfba0940>\n",
            "fun        function    <function fun at 0x7bc3ae8c1e10>\n",
            "intPart    int         32\n",
            "l          list        n=3\n",
            "list       list        n=4\n",
            "module     module      <module 'module' from '/content/module.py'>\n",
            "p          complex     (3-2j)\n",
            "s          list        n=1\n",
            "string     str         Outside function\n",
            "sys        module      <module 'sys' (built-in)>\n",
            "x          float       3.6\n"
          ]
        }
      ]
    },
    {
      "cell_type": "markdown",
      "source": [
        "#Operators\n",
        "\n",
        "<table>\n",
        "<tr>\n",
        "<td>Symbol</td>\n",
        "<td>Task</td>\n",
        "</tr>\n",
        "<tr>\n",
        "<td>+</td>\n",
        "<td>Addition</td>\n",
        "</tr>\n",
        "<tr>\n",
        "<td>-</td>\n",
        "<td>Subtraction</td>\n",
        "</tr>\n",
        "<tr>\n",
        "<td>/</td>\n",
        "<td>Division</td>\n",
        "</tr>\n",
        "<tr>\n",
        "<td>*</td>\n",
        "<td>Multiplication</td>\n",
        "</tr>\n",
        "<tr>\n",
        "<td>//</td>\n",
        "<td>Floor Division</td>\n",
        "</tr>\n",
        "<tr>\n",
        "<td>%</td>\n",
        "<td>Mod</td>\n",
        "</tr>\n",
        "<tr>\n",
        "<td>**</td>\n",
        "<td>Power</td>\n",
        "</tr>\n",
        "</table>"
      ],
      "metadata": {
        "id": "_3QGLCR_-oWh"
      }
    },
    {
      "cell_type": "code",
      "source": [
        "print(13+3)\n",
        "print(13-3)\n",
        "print(13/3)\n",
        "print(13*3)\n",
        "print(13//3)\n",
        "print(13%3)\n",
        "print(13**3)"
      ],
      "metadata": {
        "colab": {
          "base_uri": "https://localhost:8080/"
        },
        "id": "ubFHDWAd-v0p",
        "outputId": "2ee5a426-ceb5-4567-a16d-c96111d93545"
      },
      "execution_count": null,
      "outputs": [
        {
          "output_type": "stream",
          "name": "stdout",
          "text": [
            "16\n",
            "10\n",
            "4.333333333333333\n",
            "39\n",
            "4\n",
            "1\n",
            "2197\n"
          ]
        }
      ]
    },
    {
      "cell_type": "code",
      "source": [
        "print(((12**7+8)*(3%2-8))//7)"
      ],
      "metadata": {
        "colab": {
          "base_uri": "https://localhost:8080/"
        },
        "id": "NpY5NJ7iAhnP",
        "outputId": "5e8cd020-cc9f-4556-8ab2-6a1d1f094344"
      },
      "execution_count": null,
      "outputs": [
        {
          "output_type": "stream",
          "name": "stdout",
          "text": [
            "-35831816\n"
          ]
        }
      ]
    },
    {
      "cell_type": "code",
      "source": [
        "s1=\"hello\"\n",
        "s2=\"world\"\n",
        "print(s1+\" \"+s2)"
      ],
      "metadata": {
        "colab": {
          "base_uri": "https://localhost:8080/"
        },
        "id": "l_ScybpAAhpW",
        "outputId": "add11fba-99e2-43f3-87b1-c3948e5d12f9"
      },
      "execution_count": null,
      "outputs": [
        {
          "output_type": "stream",
          "name": "stdout",
          "text": [
            "hello world\n"
          ]
        }
      ]
    },
    {
      "cell_type": "markdown",
      "source": [
        "* Variables can only start with [a-z], [A,Z] and _ <br>\n",
        "* Use camel case"
      ],
      "metadata": {
        "id": "tjnTsC55zOto"
      }
    },
    {
      "cell_type": "markdown",
      "source": [
        "#Bool"
      ],
      "metadata": {
        "id": "UcI2vd4W269_"
      }
    },
    {
      "cell_type": "code",
      "source": [
        "a=True\n",
        "b=True\n",
        "c=False\n",
        "print(a and b)\n",
        "print(a or b)\n",
        "print(not c)\n",
        "print(a and c)"
      ],
      "metadata": {
        "id": "4HIHaAd7Ahsn",
        "colab": {
          "base_uri": "https://localhost:8080/"
        },
        "outputId": "83a11329-ee18-47ec-a6e8-ad492677ee2d"
      },
      "execution_count": null,
      "outputs": [
        {
          "output_type": "stream",
          "name": "stdout",
          "text": [
            "True\n",
            "True\n",
            "True\n",
            "False\n"
          ]
        }
      ]
    },
    {
      "cell_type": "code",
      "source": [
        "print(not((a and b) or (b and c)))"
      ],
      "metadata": {
        "colab": {
          "base_uri": "https://localhost:8080/"
        },
        "id": "rRP7-S5f3ZIj",
        "outputId": "fc36561f-fe02-4b28-ceed-b57b1262937e"
      },
      "execution_count": null,
      "outputs": [
        {
          "output_type": "stream",
          "name": "stdout",
          "text": [
            "False\n"
          ]
        }
      ]
    },
    {
      "cell_type": "code",
      "source": [
        "False and False or True\n",
        "# Here and is applied first"
      ],
      "metadata": {
        "colab": {
          "base_uri": "https://localhost:8080/"
        },
        "id": "0tjTBJEJBqLW",
        "outputId": "20c24417-6241-4b0f-9080-a9a31c684dd6"
      },
      "execution_count": null,
      "outputs": [
        {
          "output_type": "execute_result",
          "data": {
            "text/plain": [
              "True"
            ]
          },
          "metadata": {},
          "execution_count": 99
        }
      ]
    },
    {
      "cell_type": "code",
      "source": [
        "True or False and False\n",
        "# Here also and is applied first"
      ],
      "metadata": {
        "colab": {
          "base_uri": "https://localhost:8080/"
        },
        "id": "91sn5Z8XCAXA",
        "outputId": "e2abfe41-97fe-4996-897b-b940e45ae4f9"
      },
      "execution_count": null,
      "outputs": [
        {
          "output_type": "execute_result",
          "data": {
            "text/plain": [
              "True"
            ]
          },
          "metadata": {},
          "execution_count": 100
        }
      ]
    },
    {
      "cell_type": "markdown",
      "source": [
        "* Precedence: and>or"
      ],
      "metadata": {
        "id": "l5PgpmpOCRLN"
      }
    },
    {
      "cell_type": "markdown",
      "source": [
        "#Comparisons\n",
        "<table>\n",
        "<tr>\n",
        "<td>Symbol</td>\n",
        "<td>Task</td>\n",
        "</tr>\n",
        "<tr>\n",
        "<td>==</td>\n",
        "<td>Equal to</td>\n",
        "</tr>\n",
        "<tr>\n",
        "<td>!=</td>\n",
        "<td>Equal to</td>\n",
        "</tr>\n",
        "<tr>\n",
        "<td><</td>\n",
        "<td>Less than</td>\n",
        "</tr>\n",
        "<tr>\n",
        "<td>></td>\n",
        "<td>Greater than</td>\n",
        "</tr>\n",
        "<tr>\n",
        "<td><=</td>\n",
        "<td>Less than or equal to</td>\n",
        "</tr>\n",
        "<tr>\n",
        "<td>>=</td>\n",
        "<td>Greater than or equal to</td>\n",
        "</table>\n",
        "<br>\n",
        "They return bool value i.e. True or False"
      ],
      "metadata": {
        "id": "5L-2uJmQ_VEn"
      }
    },
    {
      "cell_type": "code",
      "source": [
        "print(2==3)\n",
        "print(2!=3)\n",
        "print(2<3)\n",
        "print(2>3)\n",
        "print(2<=3)\n",
        "print(2>=3)"
      ],
      "metadata": {
        "colab": {
          "base_uri": "https://localhost:8080/"
        },
        "id": "YhzECxwiAFj5",
        "outputId": "0f16d00f-b4e3-4a16-8462-06c7f87b2311"
      },
      "execution_count": null,
      "outputs": [
        {
          "output_type": "stream",
          "name": "stdout",
          "text": [
            "False\n",
            "True\n",
            "True\n",
            "False\n",
            "True\n",
            "False\n"
          ]
        }
      ]
    },
    {
      "cell_type": "code",
      "source": [
        "print(3==3.0)"
      ],
      "metadata": {
        "colab": {
          "base_uri": "https://localhost:8080/"
        },
        "id": "T9T7aBUnBj_f",
        "outputId": "48b4f946-59e7-4b67-eb6e-1fd9de6f708a"
      },
      "execution_count": null,
      "outputs": [
        {
          "output_type": "stream",
          "name": "stdout",
          "text": [
            "True\n"
          ]
        }
      ]
    },
    {
      "cell_type": "markdown",
      "source": [
        "#Some Useful Functions\n",
        "* round() -"
      ],
      "metadata": {
        "id": "l7iupYdrvPhB"
      }
    },
    {
      "cell_type": "code",
      "source": [
        "print(round(4.556))\n",
        "print(round(4.345))\n",
        "print(round(4.556389,3))"
      ],
      "metadata": {
        "id": "2qEE-ln3BkTg",
        "colab": {
          "base_uri": "https://localhost:8080/"
        },
        "outputId": "4393ebde-6adf-4264-ffab-27c0f6e9e153"
      },
      "execution_count": null,
      "outputs": [
        {
          "output_type": "stream",
          "name": "stdout",
          "text": [
            "5\n",
            "4\n",
            "4.556\n"
          ]
        }
      ]
    },
    {
      "cell_type": "markdown",
      "source": [
        "* divmod()"
      ],
      "metadata": {
        "id": "fB7Mja6qwJmr"
      }
    },
    {
      "cell_type": "code",
      "source": [
        "B = divmod(27,5)\n",
        "print(B)\n",
        "type(B)"
      ],
      "metadata": {
        "id": "fBSAsNyMBkU8",
        "colab": {
          "base_uri": "https://localhost:8080/"
        },
        "outputId": "8f07970f-8543-476b-8354-155aaab31c68"
      },
      "execution_count": null,
      "outputs": [
        {
          "output_type": "stream",
          "name": "stdout",
          "text": [
            "(5, 2)\n"
          ]
        },
        {
          "output_type": "execute_result",
          "data": {
            "text/plain": [
              "tuple"
            ]
          },
          "metadata": {},
          "execution_count": 104
        }
      ]
    },
    {
      "cell_type": "code",
      "source": [
        "B[0]"
      ],
      "metadata": {
        "id": "I89Y7jjIBkYc",
        "colab": {
          "base_uri": "https://localhost:8080/"
        },
        "outputId": "2866fafa-7a92-484c-9aff-854ec16eeaeb"
      },
      "execution_count": null,
      "outputs": [
        {
          "output_type": "execute_result",
          "data": {
            "text/plain": [
              "5"
            ]
          },
          "metadata": {},
          "execution_count": 105
        }
      ]
    },
    {
      "cell_type": "code",
      "source": [
        "B[1]"
      ],
      "metadata": {
        "colab": {
          "base_uri": "https://localhost:8080/"
        },
        "id": "uqwSClIgwXtS",
        "outputId": "33b7381b-7eb8-45a2-fc85-942af834b841"
      },
      "execution_count": null,
      "outputs": [
        {
          "output_type": "execute_result",
          "data": {
            "text/plain": [
              "2"
            ]
          },
          "metadata": {},
          "execution_count": 106
        }
      ]
    },
    {
      "cell_type": "markdown",
      "source": [
        "* isinstance()"
      ],
      "metadata": {
        "id": "DmpMCZiGLrTW"
      }
    },
    {
      "cell_type": "code",
      "source": [
        "isinstance(3,int)"
      ],
      "metadata": {
        "colab": {
          "base_uri": "https://localhost:8080/"
        },
        "id": "CD0y4K2JLtuA",
        "outputId": "fc1a7269-4f08-42b9-d226-9503cda12504"
      },
      "execution_count": null,
      "outputs": [
        {
          "output_type": "execute_result",
          "data": {
            "text/plain": [
              "True"
            ]
          },
          "metadata": {},
          "execution_count": 107
        }
      ]
    },
    {
      "cell_type": "code",
      "source": [
        "isinstance(3.4,(int))"
      ],
      "metadata": {
        "colab": {
          "base_uri": "https://localhost:8080/"
        },
        "id": "Kql4NDluLxEY",
        "outputId": "825516d2-9f4c-4a39-f1d6-ec648186bd54"
      },
      "execution_count": null,
      "outputs": [
        {
          "output_type": "execute_result",
          "data": {
            "text/plain": [
              "False"
            ]
          },
          "metadata": {},
          "execution_count": 108
        }
      ]
    },
    {
      "cell_type": "code",
      "source": [
        "isinstance(2+3j,(int,float,str,complex))"
      ],
      "metadata": {
        "colab": {
          "base_uri": "https://localhost:8080/"
        },
        "id": "c0Q_tMkQLxH6",
        "outputId": "72de5a53-f92d-4718-ea81-d2c3d178998e"
      },
      "execution_count": null,
      "outputs": [
        {
          "output_type": "execute_result",
          "data": {
            "text/plain": [
              "True"
            ]
          },
          "metadata": {},
          "execution_count": 109
        }
      ]
    },
    {
      "cell_type": "markdown",
      "source": [
        "* pow()"
      ],
      "metadata": {
        "id": "sxkDvFxpMR_Z"
      }
    },
    {
      "cell_type": "code",
      "source": [
        "pow(2,4)"
      ],
      "metadata": {
        "colab": {
          "base_uri": "https://localhost:8080/"
        },
        "id": "qpSA9CFBMT2h",
        "outputId": "b158ee79-86c3-47fb-ea24-541eff3b7e2e"
      },
      "execution_count": null,
      "outputs": [
        {
          "output_type": "execute_result",
          "data": {
            "text/plain": [
              "16"
            ]
          },
          "metadata": {},
          "execution_count": 110
        }
      ]
    },
    {
      "cell_type": "code",
      "source": [
        "pow(2,4,7)"
      ],
      "metadata": {
        "colab": {
          "base_uri": "https://localhost:8080/"
        },
        "id": "egoFCye4MT6C",
        "outputId": "c1afce49-7ab3-44c5-d0b6-231ca4b69941"
      },
      "execution_count": null,
      "outputs": [
        {
          "output_type": "execute_result",
          "data": {
            "text/plain": [
              "2"
            ]
          },
          "metadata": {},
          "execution_count": 111
        }
      ]
    },
    {
      "cell_type": "markdown",
      "source": [
        "* input()"
      ],
      "metadata": {
        "id": "SYkJT7foNF7s"
      }
    },
    {
      "cell_type": "code",
      "source": [
        "x=input(\"Enter a number: \")"
      ],
      "metadata": {
        "colab": {
          "base_uri": "https://localhost:8080/"
        },
        "id": "ws-NjGxvNHfQ",
        "outputId": "9671d81b-b8fa-493f-845c-e38af8efd612"
      },
      "execution_count": null,
      "outputs": [
        {
          "name": "stdout",
          "output_type": "stream",
          "text": [
            "Enter a number: 2\n"
          ]
        }
      ]
    },
    {
      "cell_type": "code",
      "source": [
        "type(x)"
      ],
      "metadata": {
        "colab": {
          "base_uri": "https://localhost:8080/"
        },
        "id": "ro0RdyHCNHgl",
        "outputId": "d35bf82e-a82b-45ba-d116-86272a7bbd36"
      },
      "execution_count": null,
      "outputs": [
        {
          "output_type": "execute_result",
          "data": {
            "text/plain": [
              "str"
            ]
          },
          "metadata": {},
          "execution_count": 113
        }
      ]
    },
    {
      "cell_type": "code",
      "source": [
        "x=int(x)\n",
        "type(x)"
      ],
      "metadata": {
        "colab": {
          "base_uri": "https://localhost:8080/"
        },
        "id": "lI9RO2OeOZoN",
        "outputId": "33427bcc-0a92-4acf-a47d-d7f0096665d1"
      },
      "execution_count": null,
      "outputs": [
        {
          "output_type": "execute_result",
          "data": {
            "text/plain": [
              "int"
            ]
          },
          "metadata": {},
          "execution_count": 114
        }
      ]
    },
    {
      "cell_type": "code",
      "source": [
        "a=float(input(\"Enter a real number: \"))"
      ],
      "metadata": {
        "colab": {
          "base_uri": "https://localhost:8080/"
        },
        "id": "Gv8Y-o95OZrp",
        "outputId": "f55c4b7e-4388-4bc9-c328-5ff65b33a250"
      },
      "execution_count": null,
      "outputs": [
        {
          "name": "stdout",
          "output_type": "stream",
          "text": [
            "Enter a real number: 3\n"
          ]
        }
      ]
    },
    {
      "cell_type": "code",
      "source": [
        "type(a)"
      ],
      "metadata": {
        "colab": {
          "base_uri": "https://localhost:8080/"
        },
        "id": "v1vp24wXNHkA",
        "outputId": "5d4a0ba5-fdc3-4f32-bf1a-9eb8c5009928"
      },
      "execution_count": null,
      "outputs": [
        {
          "output_type": "execute_result",
          "data": {
            "text/plain": [
              "float"
            ]
          },
          "metadata": {},
          "execution_count": 116
        }
      ]
    },
    {
      "cell_type": "code",
      "source": [
        "b=float(input(\"Enter a real number: \"))"
      ],
      "metadata": {
        "colab": {
          "base_uri": "https://localhost:8080/",
          "height": 158
        },
        "id": "Q-QbC5W5OrHB",
        "outputId": "ca4ba677-1538-43c5-da65-1e9fa16a8217"
      },
      "execution_count": null,
      "outputs": [
        {
          "name": "stdout",
          "output_type": "stream",
          "text": [
            "Enter a real number: xyz\n"
          ]
        },
        {
          "output_type": "error",
          "ename": "ValueError",
          "evalue": "could not convert string to float: 'xyz'",
          "traceback": [
            "\u001b[0;31m---------------------------------------------------------------------------\u001b[0m",
            "\u001b[0;31mValueError\u001b[0m                                Traceback (most recent call last)",
            "\u001b[0;32m<ipython-input-119-77a83f654d1d>\u001b[0m in \u001b[0;36m<cell line: 1>\u001b[0;34m()\u001b[0m\n\u001b[0;32m----> 1\u001b[0;31m \u001b[0mb\u001b[0m\u001b[0;34m=\u001b[0m\u001b[0mfloat\u001b[0m\u001b[0;34m(\u001b[0m\u001b[0minput\u001b[0m\u001b[0;34m(\u001b[0m\u001b[0;34m\"Enter a real number: \"\u001b[0m\u001b[0;34m)\u001b[0m\u001b[0;34m)\u001b[0m\u001b[0;34m\u001b[0m\u001b[0;34m\u001b[0m\u001b[0m\n\u001b[0m",
            "\u001b[0;31mValueError\u001b[0m: could not convert string to float: 'xyz'"
          ]
        }
      ]
    },
    {
      "cell_type": "markdown",
      "source": [
        "#How to know what a function is meant for\n",
        "\n"
      ],
      "metadata": {
        "id": "MLw5Z6i-Oz_5"
      }
    },
    {
      "cell_type": "code",
      "source": [
        "help(isinstance)\n",
        "# isinstance? will also yield the same"
      ],
      "metadata": {
        "colab": {
          "base_uri": "https://localhost:8080/"
        },
        "id": "WdCGGTMpPPbD",
        "outputId": "ac23b6b5-7aa3-4f43-ebb6-d63f0eee402a"
      },
      "execution_count": null,
      "outputs": [
        {
          "output_type": "stream",
          "name": "stdout",
          "text": [
            "Help on built-in function isinstance in module builtins:\n",
            "\n",
            "isinstance(obj, class_or_tuple, /)\n",
            "    Return whether an object is an instance of a class or of a subclass thereof.\n",
            "    \n",
            "    A tuple, as in ``isinstance(x, (A, B, ...))``, may be given as the target to\n",
            "    check against. This is equivalent to ``isinstance(x, A) or isinstance(x, B)\n",
            "    or ...`` etc.\n",
            "\n"
          ]
        }
      ]
    },
    {
      "cell_type": "code",
      "source": [
        "help(pow)\n",
        "# pow? will also yield the same"
      ],
      "metadata": {
        "colab": {
          "base_uri": "https://localhost:8080/"
        },
        "id": "TKuG9peZPcIq",
        "outputId": "8849656d-3753-46f4-9f1e-9589f83348b8"
      },
      "execution_count": null,
      "outputs": [
        {
          "output_type": "stream",
          "name": "stdout",
          "text": [
            "Help on built-in function pow in module builtins:\n",
            "\n",
            "pow(base, exp, mod=None)\n",
            "    Equivalent to base**exp with 2 arguments or base**exp % mod with 3 arguments\n",
            "    \n",
            "    Some types, such as ints, are able to use a more efficient algorithm when\n",
            "    invoked using the three argument form.\n",
            "\n"
          ]
        }
      ]
    },
    {
      "cell_type": "markdown",
      "source": [
        "#Control Flow (Conditionals)"
      ],
      "metadata": {
        "id": "kOv04YaPScIJ"
      }
    },
    {
      "cell_type": "code",
      "source": [
        "a=int(input())\n",
        "b=int(input())\n",
        "if(a>b):\n",
        "  print(\"Bigger is\",a)\n",
        "  print(\"I am still inside if condition\")\n",
        "print(\"I am outside the if condition\")"
      ],
      "metadata": {
        "colab": {
          "base_uri": "https://localhost:8080/"
        },
        "id": "7STATvQGSgpd",
        "outputId": "bb6e56d9-8b6d-484b-f5d6-33ad7a1dcb7a"
      },
      "execution_count": null,
      "outputs": [
        {
          "output_type": "stream",
          "name": "stdout",
          "text": [
            "10\n",
            "5\n",
            "Bigger is 10\n",
            "I am still inside if condition\n",
            "I am outside the if condition\n"
          ]
        }
      ]
    },
    {
      "cell_type": "code",
      "source": [
        "a=int(input())\n",
        "b=int(input())\n",
        "if(a>b):\n",
        "  print(\"Bigger is\",a)\n",
        "elif(b>a):\n",
        "  print(\"Bigger is\",b)\n",
        "else:\n",
        "  print(\"Equal\")"
      ],
      "metadata": {
        "colab": {
          "base_uri": "https://localhost:8080/"
        },
        "id": "DsDPkxISSgrh",
        "outputId": "aeb09869-440d-40a5-a6a9-cec1fbbff338"
      },
      "execution_count": null,
      "outputs": [
        {
          "output_type": "stream",
          "name": "stdout",
          "text": [
            "10\n",
            "10\n",
            "Equal\n"
          ]
        }
      ]
    },
    {
      "cell_type": "code",
      "source": [
        "a=5\n",
        "b=10\n",
        "print(\"A\") if a>b else print(\"B\") if b>a else print(\"Equal\")"
      ],
      "metadata": {
        "colab": {
          "base_uri": "https://localhost:8080/"
        },
        "id": "re4DtBrOSgtN",
        "outputId": "ec4da6e8-2b67-4f3f-f94b-77cbe9d63583"
      },
      "execution_count": null,
      "outputs": [
        {
          "output_type": "stream",
          "name": "stdout",
          "text": [
            "B\n"
          ]
        }
      ]
    },
    {
      "cell_type": "code",
      "source": [
        "a=int(input())\n",
        "if a>10:\n",
        "    print(\">10\")\n",
        "elif not(a>10):\n",
        "    print(\"Else part\")"
      ],
      "metadata": {
        "colab": {
          "base_uri": "https://localhost:8080/"
        },
        "id": "6xXqiaAGSgwt",
        "outputId": "23c5f42c-eb18-446c-d5fe-6c7fa52f4a7d"
      },
      "execution_count": null,
      "outputs": [
        {
          "output_type": "stream",
          "name": "stdout",
          "text": [
            "4\n",
            "Else part\n"
          ]
        }
      ]
    },
    {
      "cell_type": "code",
      "source": [
        "n=int(input())\n",
        "if n>10:\n",
        "  print(\"Larger than 10\")\n",
        "  if(n>20):\n",
        "    print(\"Larger than 20\")\n",
        "  else:\n",
        "    print(\"Less than 20\")"
      ],
      "metadata": {
        "colab": {
          "base_uri": "https://localhost:8080/"
        },
        "id": "c253v6UrX45j",
        "outputId": "08d3e8a7-55dc-413a-af15-85494cf226fa"
      },
      "execution_count": null,
      "outputs": [
        {
          "output_type": "stream",
          "name": "stdout",
          "text": [
            "12\n",
            "Larger than 10\n",
            "Less than 20\n"
          ]
        }
      ]
    },
    {
      "cell_type": "code",
      "source": [
        "x=float(input())\n",
        "y=round(x)\n",
        "\n",
        "if x>0:\n",
        "  if y>x:\n",
        "    intPart=y-1\n",
        "  else:\n",
        "    intPart=y\n",
        "else:\n",
        "  if y<x:\n",
        "    intPart=y+1\n",
        "  else:\n",
        "    intPart=y\n",
        "\n",
        "if intPart%2==0:\n",
        "  print(\"Even\")\n",
        "else:\n",
        "  print(\"Odd\")\n"
      ],
      "metadata": {
        "colab": {
          "base_uri": "https://localhost:8080/"
        },
        "id": "dovTz9A_dNVG",
        "outputId": "464fbc4e-f473-4059-a405-8ec6d43408dc"
      },
      "execution_count": null,
      "outputs": [
        {
          "output_type": "stream",
          "name": "stdout",
          "text": [
            "32.5\n",
            "Even\n"
          ]
        }
      ]
    },
    {
      "cell_type": "markdown",
      "source": [
        "#While Loop"
      ],
      "metadata": {
        "id": "MURz9ef9fLbd"
      }
    },
    {
      "cell_type": "code",
      "source": [
        "n=int(input())\n",
        "print(\"\\n\")\n",
        "i=1\n",
        "while i<=n:\n",
        "  print(i)\n",
        "  i+=1\n",
        "print(\"Done\")"
      ],
      "metadata": {
        "id": "Re9RaiN7dl4S",
        "colab": {
          "base_uri": "https://localhost:8080/"
        },
        "outputId": "c9542fb5-e8ba-46cf-f0b5-c02e4f1b7849"
      },
      "execution_count": null,
      "outputs": [
        {
          "output_type": "stream",
          "name": "stdout",
          "text": [
            "3\n",
            "\n",
            "\n",
            "1\n",
            "2\n",
            "3\n",
            "Done\n"
          ]
        }
      ]
    },
    {
      "cell_type": "code",
      "source": [
        "n=10\n",
        "i=1\n",
        "while True:\n",
        "    if i%3==0:\n",
        "        print(i)\n",
        "        print(\"Break encountered\")\n",
        "        break\n",
        "    else:\n",
        "        print(i)\n",
        "        i=i+1"
      ],
      "metadata": {
        "colab": {
          "base_uri": "https://localhost:8080/"
        },
        "id": "wCvCfGqkfIWV",
        "outputId": "dab408c0-82fa-4b3e-b91c-a2f3084e2c5f"
      },
      "execution_count": null,
      "outputs": [
        {
          "output_type": "stream",
          "name": "stdout",
          "text": [
            "1\n",
            "2\n",
            "3\n",
            "Break encountered\n"
          ]
        }
      ]
    },
    {
      "cell_type": "code",
      "source": [
        "n=10\n",
        "i=1\n",
        "while True:\n",
        "    if i%3!=0:\n",
        "        print(\"Inside if\")\n",
        "        i+=1\n",
        "        continue\n",
        "    print(\"Something (that will not be printed because of continue until condition is not satisfied after 2 iterations)\")\n",
        "    break"
      ],
      "metadata": {
        "colab": {
          "base_uri": "https://localhost:8080/"
        },
        "id": "16suOKMFmtzg",
        "outputId": "3c2c144e-8f4a-441c-ea6d-ddb0434182e4"
      },
      "execution_count": null,
      "outputs": [
        {
          "output_type": "stream",
          "name": "stdout",
          "text": [
            "Inside if\n",
            "Inside if\n",
            "Something (that will not be printed because of continue until condition is not satisfied after 2 iterations)\n"
          ]
        }
      ]
    },
    {
      "cell_type": "markdown",
      "source": [
        "#For Loop"
      ],
      "metadata": {
        "id": "c1Eem5lGrO_f"
      }
    },
    {
      "cell_type": "code",
      "source": [
        "for i in range(6):\n",
        "  print(i)"
      ],
      "metadata": {
        "colab": {
          "base_uri": "https://localhost:8080/"
        },
        "id": "wLwR3TVjrQ9E",
        "outputId": "46bdd3f1-e126-4cb1-a4c5-fe5b9a25cce9"
      },
      "execution_count": null,
      "outputs": [
        {
          "output_type": "stream",
          "name": "stdout",
          "text": [
            "0\n",
            "1\n",
            "2\n",
            "3\n",
            "4\n",
            "5\n"
          ]
        }
      ]
    },
    {
      "cell_type": "code",
      "source": [
        "for i in range(1,6,2):\n",
        "  print(i)"
      ],
      "metadata": {
        "colab": {
          "base_uri": "https://localhost:8080/"
        },
        "id": "-31xAO5DrZve",
        "outputId": "bdaf67c3-deb4-4dcc-986c-da0ac3692eb4"
      },
      "execution_count": null,
      "outputs": [
        {
          "output_type": "stream",
          "name": "stdout",
          "text": [
            "1\n",
            "3\n",
            "5\n"
          ]
        }
      ]
    },
    {
      "cell_type": "markdown",
      "source": [
        "* else inside for loop"
      ],
      "metadata": {
        "id": "cmIVO5kKvzkv"
      }
    },
    {
      "cell_type": "code",
      "source": [
        "L=[1,2,3,4,5]\n",
        "for i in L:\n",
        "  print(i)\n",
        "else:\n",
        "  print(\"Done\")"
      ],
      "metadata": {
        "colab": {
          "base_uri": "https://localhost:8080/"
        },
        "id": "dLF7jOgHvzV7",
        "outputId": "70b72699-8c16-41cd-b152-88dd2acfc7f7"
      },
      "execution_count": null,
      "outputs": [
        {
          "output_type": "stream",
          "name": "stdout",
          "text": [
            "1\n",
            "2\n",
            "3\n",
            "4\n",
            "5\n",
            "Done\n"
          ]
        }
      ]
    },
    {
      "cell_type": "code",
      "source": [
        "L=[1,2,3,4,5]\n",
        "for i in L:\n",
        "  print(i)\n",
        "  if(i==3):\n",
        "    break\n",
        "else:\n",
        "  print(\"Done\")"
      ],
      "metadata": {
        "colab": {
          "base_uri": "https://localhost:8080/"
        },
        "id": "ohqrd84cwELF",
        "outputId": "937242aa-2fa2-4763-c2ce-18b8fad969d1"
      },
      "execution_count": null,
      "outputs": [
        {
          "output_type": "stream",
          "name": "stdout",
          "text": [
            "1\n",
            "2\n",
            "3\n"
          ]
        }
      ]
    },
    {
      "cell_type": "code",
      "source": [
        "'''Given a list, sort it'''\n",
        "L=[5,4,2,9,-1,7]\n",
        "sorted=[]\n",
        "mini=L[0]\n",
        "\n",
        "for i in range(len(L)):\n",
        "  for j in range(len(L)):\n",
        "    if L[j]>L[i]:\n",
        "      temp=L[i]\n",
        "      L[i]=L[j]\n",
        "      L[j]=temp\n",
        "\n",
        "print(L)"
      ],
      "metadata": {
        "colab": {
          "base_uri": "https://localhost:8080/"
        },
        "id": "9u7urBD557HW",
        "outputId": "f0829721-3eb8-482a-97ea-6bb4d62c0b92"
      },
      "execution_count": null,
      "outputs": [
        {
          "output_type": "stream",
          "name": "stdout",
          "text": [
            "[-1, 2, 4, 5, 7, 9]\n"
          ]
        }
      ]
    },
    {
      "cell_type": "markdown",
      "source": [
        "#Functions"
      ],
      "metadata": {
        "id": "6L_HA2v0Dd6_"
      }
    },
    {
      "cell_type": "code",
      "source": [
        "def Barcelona():\n",
        "  print(\"Visca el Barca\")\n",
        "  print(\"Visca el Catalunya\")"
      ],
      "metadata": {
        "id": "bCrr1ZvHGYQh"
      },
      "execution_count": null,
      "outputs": []
    },
    {
      "cell_type": "code",
      "source": [
        "Barcelona()"
      ],
      "metadata": {
        "colab": {
          "base_uri": "https://localhost:8080/"
        },
        "id": "M-xAJMD_GYT9",
        "outputId": "9ad93a48-5fb2-4d9d-812d-bd066fe2dca3"
      },
      "execution_count": null,
      "outputs": [
        {
          "output_type": "stream",
          "name": "stdout",
          "text": [
            "Visca el Barca\n",
            "Visca el Catalunya\n"
          ]
        }
      ]
    },
    {
      "cell_type": "code",
      "source": [
        "def hello():\n",
        "  '''This is a docstring (documenation string) that tells what a function does'''\n",
        "  print(\"Hello World\")"
      ],
      "metadata": {
        "id": "nYC6ekjtHzXu"
      },
      "execution_count": null,
      "outputs": []
    },
    {
      "cell_type": "code",
      "source": [
        "help(hello)"
      ],
      "metadata": {
        "colab": {
          "base_uri": "https://localhost:8080/"
        },
        "id": "nqu-JK9jH8om",
        "outputId": "cf8fdeb7-a3e9-45d3-b92b-24bd7b92d7fc"
      },
      "execution_count": null,
      "outputs": [
        {
          "output_type": "stream",
          "name": "stdout",
          "text": [
            "Help on function hello in module __main__:\n",
            "\n",
            "hello()\n",
            "    This is a docstring (documenation string) that tells what a function does\n",
            "\n"
          ]
        }
      ]
    },
    {
      "cell_type": "code",
      "source": [
        "print(hello.__doc__)"
      ],
      "metadata": {
        "colab": {
          "base_uri": "https://localhost:8080/"
        },
        "id": "aQHP-y_pH-W2",
        "outputId": "0dcbde25-a0f8-4817-f741-79da2b5afba0"
      },
      "execution_count": null,
      "outputs": [
        {
          "output_type": "stream",
          "name": "stdout",
          "text": [
            "This is a docstring (documenation string) that tells what a function does\n"
          ]
        }
      ]
    },
    {
      "cell_type": "code",
      "source": [
        "def printMsg(msg):\n",
        "  if(isinstance(msg,str)):\n",
        "    print(msg)\n",
        "  else:\n",
        "    print(\"Your input is not a string\")\n",
        "    print(\"Here is the type of what you have supplied\",type(msg))"
      ],
      "metadata": {
        "id": "e9xnC8E-MS-X"
      },
      "execution_count": null,
      "outputs": []
    },
    {
      "cell_type": "code",
      "source": [
        "printMsg(\"Hi there\")"
      ],
      "metadata": {
        "colab": {
          "base_uri": "https://localhost:8080/"
        },
        "id": "LH1M5QxjMTA_",
        "outputId": "29cc2a3d-d8a4-4cd0-c3a6-5d11e6bf7f7b"
      },
      "execution_count": null,
      "outputs": [
        {
          "output_type": "stream",
          "name": "stdout",
          "text": [
            "Hi there\n"
          ]
        }
      ]
    },
    {
      "cell_type": "code",
      "source": [
        "printMsg(3)"
      ],
      "metadata": {
        "colab": {
          "base_uri": "https://localhost:8080/"
        },
        "id": "4pl5sgZWMTDx",
        "outputId": "cd700291-0153-427f-c423-c3a1bf3fc9a6"
      },
      "execution_count": null,
      "outputs": [
        {
          "output_type": "stream",
          "name": "stdout",
          "text": [
            "Your input is not a string\n",
            "Here is the type of what you have supplied <class 'int'>\n"
          ]
        }
      ]
    },
    {
      "cell_type": "code",
      "source": [
        "def mypow(a,b):\n",
        "  print(pow(a,b))"
      ],
      "metadata": {
        "id": "d0bD2ER7PBGG"
      },
      "execution_count": null,
      "outputs": []
    },
    {
      "cell_type": "code",
      "source": [
        "mypow(2,7)"
      ],
      "metadata": {
        "colab": {
          "base_uri": "https://localhost:8080/"
        },
        "id": "-FUbXc2cPHXn",
        "outputId": "586618eb-9dec-45a5-b4e9-9e16c25f1323"
      },
      "execution_count": null,
      "outputs": [
        {
          "output_type": "stream",
          "name": "stdout",
          "text": [
            "128\n"
          ]
        }
      ]
    },
    {
      "cell_type": "code",
      "source": [
        "mypow(2)"
      ],
      "metadata": {
        "colab": {
          "base_uri": "https://localhost:8080/",
          "height": 141
        },
        "id": "NRaO-HfWP2s1",
        "outputId": "0e4bab96-8aa9-4730-d4c1-f7a16bd30082"
      },
      "execution_count": null,
      "outputs": [
        {
          "output_type": "error",
          "ename": "TypeError",
          "evalue": "mypow() missing 1 required positional argument: 'b'",
          "traceback": [
            "\u001b[0;31m---------------------------------------------------------------------------\u001b[0m",
            "\u001b[0;31mTypeError\u001b[0m                                 Traceback (most recent call last)",
            "\u001b[0;32m<ipython-input-146-1ecd0d892fe1>\u001b[0m in \u001b[0;36m<cell line: 1>\u001b[0;34m()\u001b[0m\n\u001b[0;32m----> 1\u001b[0;31m \u001b[0mmypow\u001b[0m\u001b[0;34m(\u001b[0m\u001b[0;36m2\u001b[0m\u001b[0;34m)\u001b[0m\u001b[0;34m\u001b[0m\u001b[0;34m\u001b[0m\u001b[0m\n\u001b[0m",
            "\u001b[0;31mTypeError\u001b[0m: mypow() missing 1 required positional argument: 'b'"
          ]
        }
      ]
    },
    {
      "cell_type": "code",
      "source": [
        "mypow(\"J\",2)"
      ],
      "metadata": {
        "colab": {
          "base_uri": "https://localhost:8080/",
          "height": 211
        },
        "id": "I5YZxBSAQY6l",
        "outputId": "a1fe5565-5c02-4f90-fb7a-ac7a9cbf55f5"
      },
      "execution_count": null,
      "outputs": [
        {
          "output_type": "error",
          "ename": "TypeError",
          "evalue": "unsupported operand type(s) for ** or pow(): 'str' and 'int'",
          "traceback": [
            "\u001b[0;31m---------------------------------------------------------------------------\u001b[0m",
            "\u001b[0;31mTypeError\u001b[0m                                 Traceback (most recent call last)",
            "\u001b[0;32m<ipython-input-147-c4dac3e65e21>\u001b[0m in \u001b[0;36m<cell line: 1>\u001b[0;34m()\u001b[0m\n\u001b[0;32m----> 1\u001b[0;31m \u001b[0mmypow\u001b[0m\u001b[0;34m(\u001b[0m\u001b[0;34m\"J\"\u001b[0m\u001b[0;34m,\u001b[0m\u001b[0;36m2\u001b[0m\u001b[0;34m)\u001b[0m\u001b[0;34m\u001b[0m\u001b[0;34m\u001b[0m\u001b[0m\n\u001b[0m",
            "\u001b[0;32m<ipython-input-144-fafe465f950d>\u001b[0m in \u001b[0;36mmypow\u001b[0;34m(a, b)\u001b[0m\n\u001b[1;32m      1\u001b[0m \u001b[0;32mdef\u001b[0m \u001b[0mmypow\u001b[0m\u001b[0;34m(\u001b[0m\u001b[0ma\u001b[0m\u001b[0;34m,\u001b[0m\u001b[0mb\u001b[0m\u001b[0;34m)\u001b[0m\u001b[0;34m:\u001b[0m\u001b[0;34m\u001b[0m\u001b[0;34m\u001b[0m\u001b[0m\n\u001b[0;32m----> 2\u001b[0;31m   \u001b[0mprint\u001b[0m\u001b[0;34m(\u001b[0m\u001b[0mpow\u001b[0m\u001b[0;34m(\u001b[0m\u001b[0ma\u001b[0m\u001b[0;34m,\u001b[0m\u001b[0mb\u001b[0m\u001b[0;34m)\u001b[0m\u001b[0;34m)\u001b[0m\u001b[0;34m\u001b[0m\u001b[0;34m\u001b[0m\u001b[0m\n\u001b[0m",
            "\u001b[0;31mTypeError\u001b[0m: unsupported operand type(s) for ** or pow(): 'str' and 'int'"
          ]
        }
      ]
    },
    {
      "cell_type": "code",
      "source": [
        "mypow(1,2,3)"
      ],
      "metadata": {
        "colab": {
          "base_uri": "https://localhost:8080/",
          "height": 141
        },
        "id": "jIVUxbxzQY-K",
        "outputId": "1678f296-e36d-43d3-ad59-7310478dec1d"
      },
      "execution_count": null,
      "outputs": [
        {
          "output_type": "error",
          "ename": "TypeError",
          "evalue": "mypow() takes 2 positional arguments but 3 were given",
          "traceback": [
            "\u001b[0;31m---------------------------------------------------------------------------\u001b[0m",
            "\u001b[0;31mTypeError\u001b[0m                                 Traceback (most recent call last)",
            "\u001b[0;32m<ipython-input-148-820ea4e23323>\u001b[0m in \u001b[0;36m<cell line: 1>\u001b[0;34m()\u001b[0m\n\u001b[0;32m----> 1\u001b[0;31m \u001b[0mmypow\u001b[0m\u001b[0;34m(\u001b[0m\u001b[0;36m1\u001b[0m\u001b[0;34m,\u001b[0m\u001b[0;36m2\u001b[0m\u001b[0;34m,\u001b[0m\u001b[0;36m3\u001b[0m\u001b[0;34m)\u001b[0m\u001b[0;34m\u001b[0m\u001b[0;34m\u001b[0m\u001b[0m\n\u001b[0m",
            "\u001b[0;31mTypeError\u001b[0m: mypow() takes 2 positional arguments but 3 were given"
          ]
        }
      ]
    },
    {
      "cell_type": "markdown",
      "source": [
        "* Ordering of input arguments"
      ],
      "metadata": {
        "id": "iu5jJmi6Rx9B"
      }
    },
    {
      "cell_type": "code",
      "source": [
        "def f(a,b,c):\n",
        "  print(\"A:\",a, \" B:\",b, \" C:\",c)"
      ],
      "metadata": {
        "id": "A-iiinEhR15Q"
      },
      "execution_count": null,
      "outputs": []
    },
    {
      "cell_type": "code",
      "source": [
        "f(1,2,3)\n",
        "f(2,3,1)"
      ],
      "metadata": {
        "colab": {
          "base_uri": "https://localhost:8080/"
        },
        "id": "L_atY0TBR18v",
        "outputId": "3f8f1772-9185-44f9-d0d0-b94377a6c0d1"
      },
      "execution_count": null,
      "outputs": [
        {
          "output_type": "stream",
          "name": "stdout",
          "text": [
            "A: 1  B: 2  C: 3\n",
            "A: 2  B: 3  C: 1\n"
          ]
        }
      ]
    },
    {
      "cell_type": "code",
      "source": [
        "f(a=1,b=2,c=3)\n",
        "f(b=2,c=3,a=1)"
      ],
      "metadata": {
        "colab": {
          "base_uri": "https://localhost:8080/"
        },
        "id": "bVzhvuIvS1hG",
        "outputId": "3e048a11-7faf-49e3-e5c7-00a20e6be3c5"
      },
      "execution_count": null,
      "outputs": [
        {
          "output_type": "stream",
          "name": "stdout",
          "text": [
            "A: 1  B: 2  C: 3\n",
            "A: 1  B: 2  C: 3\n"
          ]
        }
      ]
    },
    {
      "cell_type": "markdown",
      "source": [
        "* Local vs Global variables"
      ],
      "metadata": {
        "id": "u1EGz_1aUzSn"
      }
    },
    {
      "cell_type": "code",
      "source": [
        "def f():\n",
        "  print(a)\n",
        "a=10\n",
        "f()"
      ],
      "metadata": {
        "colab": {
          "base_uri": "https://localhost:8080/"
        },
        "id": "d_-AI9lfTpwy",
        "outputId": "65aee2c9-74e0-4ca5-eb2a-b5a7aff168c1"
      },
      "execution_count": null,
      "outputs": [
        {
          "output_type": "stream",
          "name": "stdout",
          "text": [
            "10\n"
          ]
        }
      ]
    },
    {
      "cell_type": "code",
      "source": [
        "a=10\n",
        "def f():\n",
        "  a=2\n",
        "  print(a)\n",
        "f()\n",
        "print(a)"
      ],
      "metadata": {
        "colab": {
          "base_uri": "https://localhost:8080/"
        },
        "id": "46C2wL49Tp0I",
        "outputId": "3f5e07c5-9df2-4262-f6d9-21f576611446"
      },
      "execution_count": null,
      "outputs": [
        {
          "output_type": "stream",
          "name": "stdout",
          "text": [
            "2\n",
            "10\n"
          ]
        }
      ]
    },
    {
      "cell_type": "markdown",
      "source": [
        "* return statement"
      ],
      "metadata": {
        "id": "PvI51dQOU5Eb"
      }
    },
    {
      "cell_type": "code",
      "source": [
        "def add(a,b):\n",
        "  return a+b"
      ],
      "metadata": {
        "id": "cutVzvbFTp4E"
      },
      "execution_count": null,
      "outputs": []
    },
    {
      "cell_type": "code",
      "source": [
        "c=add(2,3)\n",
        "print(c)"
      ],
      "metadata": {
        "colab": {
          "base_uri": "https://localhost:8080/"
        },
        "id": "CstY-qeGWGfB",
        "outputId": "f50885aa-211f-4134-a6a2-35d802a294b8"
      },
      "execution_count": null,
      "outputs": [
        {
          "output_type": "stream",
          "name": "stdout",
          "text": [
            "5\n"
          ]
        }
      ]
    },
    {
      "cell_type": "code",
      "source": [
        "print(add(4,3))"
      ],
      "metadata": {
        "colab": {
          "base_uri": "https://localhost:8080/"
        },
        "id": "QKgMZV8HWJnT",
        "outputId": "f66c1242-f52b-4273-9f5c-eb7b618c396e"
      },
      "execution_count": null,
      "outputs": [
        {
          "output_type": "stream",
          "name": "stdout",
          "text": [
            "7\n"
          ]
        }
      ]
    },
    {
      "cell_type": "code",
      "source": [
        "def r():\n",
        "  a=5\n",
        "  b=7\n",
        "  c=\"x\"\n",
        "  return a,b,c"
      ],
      "metadata": {
        "id": "CnFzM3DWXXdS"
      },
      "execution_count": null,
      "outputs": []
    },
    {
      "cell_type": "code",
      "source": [
        "r()"
      ],
      "metadata": {
        "colab": {
          "base_uri": "https://localhost:8080/"
        },
        "id": "B1wV_weyXaxV",
        "outputId": "c4fcb364-24f9-4c94-c128-dc1f3306bde2"
      },
      "execution_count": null,
      "outputs": [
        {
          "output_type": "execute_result",
          "data": {
            "text/plain": [
              "(5, 7, 'x')"
            ]
          },
          "metadata": {},
          "execution_count": 158
        }
      ]
    },
    {
      "cell_type": "markdown",
      "source": [
        "* None Data type"
      ],
      "metadata": {
        "id": "2VPEILUeWQJP"
      }
    },
    {
      "cell_type": "code",
      "source": [
        "def f():\n",
        "  a=4"
      ],
      "metadata": {
        "id": "D6boRymwWPsq"
      },
      "execution_count": null,
      "outputs": []
    },
    {
      "cell_type": "code",
      "source": [
        "print(f())"
      ],
      "metadata": {
        "colab": {
          "base_uri": "https://localhost:8080/"
        },
        "id": "xESLNmNNWXVz",
        "outputId": "0cf21cce-6d91-415e-b470-332b545e0248"
      },
      "execution_count": null,
      "outputs": [
        {
          "output_type": "stream",
          "name": "stdout",
          "text": [
            "None\n"
          ]
        }
      ]
    },
    {
      "cell_type": "code",
      "source": [
        "type(f())"
      ],
      "metadata": {
        "colab": {
          "base_uri": "https://localhost:8080/"
        },
        "id": "fBrFLEb8Wdja",
        "outputId": "29f1aea6-63aa-4a02-dd16-454c43585f43"
      },
      "execution_count": null,
      "outputs": [
        {
          "output_type": "execute_result",
          "data": {
            "text/plain": [
              "NoneType"
            ]
          },
          "metadata": {},
          "execution_count": 161
        }
      ]
    },
    {
      "cell_type": "code",
      "source": [
        "def g():\n",
        "  a=8\n",
        "  b=5\n",
        "  print(\"Hi\")\n",
        "  return a+b\n",
        "  print(\"Bye\")"
      ],
      "metadata": {
        "id": "pE9XotbQWulS"
      },
      "execution_count": null,
      "outputs": []
    },
    {
      "cell_type": "code",
      "source": [
        "g()"
      ],
      "metadata": {
        "colab": {
          "base_uri": "https://localhost:8080/"
        },
        "id": "u9BvkgPgW3DI",
        "outputId": "55be4a9e-0432-4d81-c8d3-95ff60a77840"
      },
      "execution_count": null,
      "outputs": [
        {
          "output_type": "stream",
          "name": "stdout",
          "text": [
            "Hi\n"
          ]
        },
        {
          "output_type": "execute_result",
          "data": {
            "text/plain": [
              "13"
            ]
          },
          "metadata": {},
          "execution_count": 163
        }
      ]
    },
    {
      "cell_type": "markdown",
      "source": [
        "#Variable number of input arguments\n",
        "* args()- variable number of arguments {*}\n",
        "* kwargs()- variable number of keyword arguments {**}\n"
      ],
      "metadata": {
        "id": "gW2m3KpgeZeb"
      }
    },
    {
      "cell_type": "code",
      "source": [
        "def sum(*args):\n",
        "  s=0\n",
        "  for i in range(len(args)):\n",
        "    s+=args[i]\n",
        "  return s"
      ],
      "metadata": {
        "id": "VTbaisXyed-Q"
      },
      "execution_count": null,
      "outputs": []
    },
    {
      "cell_type": "code",
      "source": [
        "sum(1,2,3,4,5)"
      ],
      "metadata": {
        "colab": {
          "base_uri": "https://localhost:8080/"
        },
        "id": "yffstsNyeeq7",
        "outputId": "d548cb5d-5c7f-44fa-b772-179bc7abe36f"
      },
      "execution_count": null,
      "outputs": [
        {
          "output_type": "execute_result",
          "data": {
            "text/plain": [
              "15"
            ]
          },
          "metadata": {},
          "execution_count": 165
        }
      ]
    },
    {
      "cell_type": "code",
      "source": [
        "sum(1,-4,7)"
      ],
      "metadata": {
        "colab": {
          "base_uri": "https://localhost:8080/"
        },
        "id": "d18Qbfd0etCb",
        "outputId": "96a42bba-caca-4fa0-fa0a-1324a06f9531"
      },
      "execution_count": null,
      "outputs": [
        {
          "output_type": "execute_result",
          "data": {
            "text/plain": [
              "4"
            ]
          },
          "metadata": {},
          "execution_count": 166
        }
      ]
    },
    {
      "cell_type": "code",
      "source": [
        "def fun(**kwargs):\n",
        "  for k in kwargs:\n",
        "    print(k,\":\",kwargs[k])"
      ],
      "metadata": {
        "id": "midXbOlCezKX"
      },
      "execution_count": null,
      "outputs": []
    },
    {
      "cell_type": "code",
      "source": [
        "fun(c=1,b=2,a=3)"
      ],
      "metadata": {
        "colab": {
          "base_uri": "https://localhost:8080/"
        },
        "id": "C81s6m9Cf74c",
        "outputId": "1a821dae-7da8-4d2a-b998-330d6bcf66df"
      },
      "execution_count": null,
      "outputs": [
        {
          "output_type": "stream",
          "name": "stdout",
          "text": [
            "c : 1\n",
            "b : 2\n",
            "a : 3\n"
          ]
        }
      ]
    },
    {
      "cell_type": "code",
      "source": [
        "def f(a,*args):\n",
        "  for i in args:\n",
        "    print(i)\n",
        "\n",
        "f(1,2,3,4,5)\n",
        "# 1 is assigned to a which is not a part of args"
      ],
      "metadata": {
        "colab": {
          "base_uri": "https://localhost:8080/"
        },
        "id": "_HbOW536CTBZ",
        "outputId": "389fdcd5-1a0b-455e-c890-1a3bc1fb6edb"
      },
      "execution_count": null,
      "outputs": [
        {
          "output_type": "stream",
          "name": "stdout",
          "text": [
            "2\n",
            "3\n",
            "4\n",
            "5\n"
          ]
        }
      ]
    },
    {
      "cell_type": "code",
      "source": [
        "def f(a,*args,**kwargs):\n",
        "  print(a)\n",
        "  for i in args:\n",
        "    print(i)\n",
        "  for k in kwargs:\n",
        "    print(k,\":\",kwargs[k])\n",
        "\n",
        "f(1,2,3,4,c=\"Five\",d=\"Six\")"
      ],
      "metadata": {
        "colab": {
          "base_uri": "https://localhost:8080/"
        },
        "id": "dSIwLhP9d6JB",
        "outputId": "d0d27723-914a-46d7-8419-24ff6216ee19"
      },
      "execution_count": null,
      "outputs": [
        {
          "output_type": "stream",
          "name": "stdout",
          "text": [
            "1\n",
            "2\n",
            "3\n",
            "4\n",
            "c : Five\n",
            "d : Six\n"
          ]
        }
      ]
    },
    {
      "cell_type": "markdown",
      "source": [
        "#Default value of arguments"
      ],
      "metadata": {
        "id": "RYgRB3RMiCy9"
      }
    },
    {
      "cell_type": "code",
      "source": [
        "def f(a=6):\n",
        "  print(a)"
      ],
      "metadata": {
        "id": "O7doDUpaiM4k"
      },
      "execution_count": null,
      "outputs": []
    },
    {
      "cell_type": "code",
      "source": [
        "f(2)"
      ],
      "metadata": {
        "colab": {
          "base_uri": "https://localhost:8080/"
        },
        "id": "oqMwEQxwiNER",
        "outputId": "3db20767-b591-4b47-ee90-fd3c661e6c21"
      },
      "execution_count": null,
      "outputs": [
        {
          "output_type": "stream",
          "name": "stdout",
          "text": [
            "2\n"
          ]
        }
      ]
    },
    {
      "cell_type": "code",
      "source": [
        "f()"
      ],
      "metadata": {
        "colab": {
          "base_uri": "https://localhost:8080/"
        },
        "id": "yi88MmRPiTFd",
        "outputId": "d957ae59-b0c5-4d53-ee74-29c919ac3bcc"
      },
      "execution_count": null,
      "outputs": [
        {
          "output_type": "stream",
          "name": "stdout",
          "text": [
            "6\n"
          ]
        }
      ]
    },
    {
      "cell_type": "markdown",
      "source": [
        "#Call by value vs Call by reference\n",
        "* In python mutable data types are called by reference like lists and immutable like tuples are called by value"
      ],
      "metadata": {
        "id": "nGtWLOLdiWJI"
      }
    },
    {
      "cell_type": "code",
      "source": [
        "a=[3,4,5]\n",
        "b=a\n",
        "b[0]=1\n",
        "print(a)"
      ],
      "metadata": {
        "colab": {
          "base_uri": "https://localhost:8080/"
        },
        "id": "pGFUPPiKe3b8",
        "outputId": "8a3a098a-7697-4eae-867f-1a1b292645d4"
      },
      "execution_count": null,
      "outputs": [
        {
          "output_type": "stream",
          "name": "stdout",
          "text": [
            "[1, 4, 5]\n"
          ]
        }
      ]
    },
    {
      "cell_type": "code",
      "source": [
        "#Call by value for string\n",
        "def f(string):\n",
        "  string=\"Inside function\"\n",
        "  print(string)\n",
        "\n",
        "string=\"Outside function\"\n",
        "f(string)\n",
        "print(string)\n"
      ],
      "metadata": {
        "colab": {
          "base_uri": "https://localhost:8080/"
        },
        "id": "u6CNUDcvgIBy",
        "outputId": "5cfed097-6cdb-4d17-ba83-5ec7ce6206b9"
      },
      "execution_count": null,
      "outputs": [
        {
          "output_type": "stream",
          "name": "stdout",
          "text": [
            "Inside function\n",
            "Outside function\n"
          ]
        }
      ]
    },
    {
      "cell_type": "code",
      "source": [
        "#Call by refernece for list\n",
        "def f(list):\n",
        "  list.append(10)\n",
        "  print(list)\n",
        "\n",
        "list=[4,5,6]\n",
        "f(list)\n",
        "print(list)"
      ],
      "metadata": {
        "colab": {
          "base_uri": "https://localhost:8080/"
        },
        "id": "pOW_lD_wjHkG",
        "outputId": "6d756724-50a0-4a2f-fccb-2292d4887bec"
      },
      "execution_count": null,
      "outputs": [
        {
          "output_type": "stream",
          "name": "stdout",
          "text": [
            "[4, 5, 6, 10]\n",
            "[4, 5, 6, 10]\n"
          ]
        }
      ]
    },
    {
      "cell_type": "markdown",
      "source": [
        "#Modules\n",
        "* Created a module elsewhere and uploaded it here\n",
        "* Then run the !cp address command to copy the address\n",
        "* Then you can import your module"
      ],
      "metadata": {
        "id": "vGw7JVTK6eFl"
      }
    },
    {
      "cell_type": "code",
      "source": [
        "!cp /content/module.py"
      ],
      "metadata": {
        "id": "EH3OOMum8eu7",
        "colab": {
          "base_uri": "https://localhost:8080/"
        },
        "outputId": "a23dcf1e-f894-41a2-f15b-d605a2538cd6"
      },
      "execution_count": null,
      "outputs": [
        {
          "output_type": "stream",
          "name": "stdout",
          "text": [
            "cp: missing destination file operand after '/content/module.py'\n",
            "Try 'cp --help' for more information.\n"
          ]
        }
      ]
    },
    {
      "cell_type": "code",
      "source": [
        "import module"
      ],
      "metadata": {
        "id": "4Z6x0d8O966f"
      },
      "execution_count": null,
      "outputs": []
    },
    {
      "cell_type": "code",
      "source": [
        "help(module)"
      ],
      "metadata": {
        "colab": {
          "base_uri": "https://localhost:8080/"
        },
        "id": "z5H3QOrJCd4v",
        "outputId": "fb39eb6a-220c-4727-9f30-8ba23beb243c"
      },
      "execution_count": null,
      "outputs": [
        {
          "output_type": "stream",
          "name": "stdout",
          "text": [
            "Help on module module:\n",
            "\n",
            "NAME\n",
            "    module - Module.ipynb\n",
            "\n",
            "DESCRIPTION\n",
            "    Automatically generated by Colab.\n",
            "    \n",
            "    Original file is located at\n",
            "        https://colab.research.google.com/drive/1AIEpspLB4usBxRyxqaqpgbuHs9pprU2o\n",
            "\n",
            "FUNCTIONS\n",
            "    add(*args)\n",
            "    \n",
            "    checkIfNumeric(*args)\n",
            "\n",
            "FILE\n",
            "    /content/module.py\n",
            "\n",
            "\n"
          ]
        }
      ]
    },
    {
      "cell_type": "code",
      "source": [
        "module.add(3,3,4,13,6,34)"
      ],
      "metadata": {
        "colab": {
          "base_uri": "https://localhost:8080/"
        },
        "id": "y_Tm4FGOCKQx",
        "outputId": "400edd43-75aa-4b4d-b2ae-1c34aa86d2f1"
      },
      "execution_count": null,
      "outputs": [
        {
          "output_type": "execute_result",
          "data": {
            "text/plain": [
              "63"
            ]
          },
          "metadata": {},
          "execution_count": 180
        }
      ]
    },
    {
      "cell_type": "code",
      "source": [
        "module.checkIfNumeric(1,2,3)"
      ],
      "metadata": {
        "colab": {
          "base_uri": "https://localhost:8080/"
        },
        "id": "i4R-zoh1CNbk",
        "outputId": "01cbf3cf-234c-4a89-e486-dea7d82ef908"
      },
      "execution_count": null,
      "outputs": [
        {
          "output_type": "execute_result",
          "data": {
            "text/plain": [
              "True"
            ]
          },
          "metadata": {},
          "execution_count": 181
        }
      ]
    },
    {
      "cell_type": "code",
      "source": [
        "from module import add"
      ],
      "metadata": {
        "id": "dQc5AnRNCUIY"
      },
      "execution_count": null,
      "outputs": []
    },
    {
      "cell_type": "code",
      "source": [
        "add(1,2,3)"
      ],
      "metadata": {
        "colab": {
          "base_uri": "https://localhost:8080/"
        },
        "id": "wnq7oBeTC0fx",
        "outputId": "1a85f945-d5fb-444b-d4ac-754a3d66efb4"
      },
      "execution_count": null,
      "outputs": [
        {
          "output_type": "execute_result",
          "data": {
            "text/plain": [
              "6"
            ]
          },
          "metadata": {},
          "execution_count": 183
        }
      ]
    },
    {
      "cell_type": "markdown",
      "source": [
        "#Sort a list by creating functions"
      ],
      "metadata": {
        "id": "tExNFlsXU3P1"
      }
    },
    {
      "cell_type": "code",
      "source": [
        "def minList(L,start):\n",
        "  mini=L[start]\n",
        "  idx=start\n",
        "  for i in range(start,len(L)):\n",
        "    x=L[i]\n",
        "    if x<mini:\n",
        "      mini=x\n",
        "      idx=i\n",
        "  return mini,idx"
      ],
      "metadata": {
        "id": "FKQsvjhGJ_Qt"
      },
      "execution_count": null,
      "outputs": []
    },
    {
      "cell_type": "code",
      "source": [
        "def swap(L,idx1,idx2):\n",
        "  temp=L[idx2]\n",
        "  L[idx2]=L[idx1]\n",
        "  L[idx1]=temp\n",
        "  return L"
      ],
      "metadata": {
        "id": "J2cylTOzVNNW"
      },
      "execution_count": null,
      "outputs": []
    },
    {
      "cell_type": "code",
      "source": [
        "def sort(L):\n",
        "  c=0\n",
        "  for i in L:\n",
        "    min,idx=minList(L,c)\n",
        "    swap(L,idx,c)\n",
        "    c+=1\n",
        "  return L\n"
      ],
      "metadata": {
        "id": "XeRZgDjMZHWi"
      },
      "execution_count": null,
      "outputs": []
    },
    {
      "cell_type": "code",
      "source": [
        "sort([1,3,2,4,6,7,5,4,0])"
      ],
      "metadata": {
        "colab": {
          "base_uri": "https://localhost:8080/"
        },
        "id": "r9MNjfEqZXjs",
        "outputId": "1d19cdf2-3b09-4b3f-d96b-d4d1e482eb73"
      },
      "execution_count": null,
      "outputs": [
        {
          "output_type": "execute_result",
          "data": {
            "text/plain": [
              "[0, 1, 2, 3, 4, 4, 5, 6, 7]"
            ]
          },
          "metadata": {},
          "execution_count": 33
        }
      ]
    },
    {
      "cell_type": "markdown",
      "source": [
        "#String"
      ],
      "metadata": {
        "id": "L4R7HYk1hvds"
      }
    },
    {
      "cell_type": "code",
      "source": [
        "s=\"Hello\"\n",
        "t=\"World\"\n",
        "print(s+\" \"+t)"
      ],
      "metadata": {
        "colab": {
          "base_uri": "https://localhost:8080/"
        },
        "id": "ZDMeytKGZaps",
        "outputId": "7ef2bc57-08b7-473e-d9b3-5bfe9576eddf"
      },
      "execution_count": null,
      "outputs": [
        {
          "output_type": "stream",
          "name": "stdout",
          "text": [
            "Hello World\n"
          ]
        }
      ]
    },
    {
      "cell_type": "code",
      "source": [
        "a='The price is'\n",
        "b=20\n",
        "s=a+\" \"+str(b)\n",
        "print(s)\n",
        "print(a,b)"
      ],
      "metadata": {
        "colab": {
          "base_uri": "https://localhost:8080/"
        },
        "id": "vyKMueOQh1LQ",
        "outputId": "82a09ba1-9b18-4251-e74d-29c646c73392"
      },
      "execution_count": null,
      "outputs": [
        {
          "output_type": "stream",
          "name": "stdout",
          "text": [
            "The price is 20\n",
            "The price is 20\n"
          ]
        }
      ]
    },
    {
      "cell_type": "markdown",
      "source": [
        "* Multiline strings"
      ],
      "metadata": {
        "id": "_hQ3dL-AjScf"
      }
    },
    {
      "cell_type": "code",
      "source": [
        "s='''This is line 1\n",
        "This is line 2\n",
        "This is line 3'''"
      ],
      "metadata": {
        "id": "Izhu3uSTjOQ7"
      },
      "execution_count": null,
      "outputs": []
    },
    {
      "cell_type": "code",
      "source": [
        "print(s)"
      ],
      "metadata": {
        "colab": {
          "base_uri": "https://localhost:8080/"
        },
        "id": "A9SMrvdgiftw",
        "outputId": "8a2e078d-23a2-476d-d30c-7d684d52f5fe"
      },
      "execution_count": null,
      "outputs": [
        {
          "output_type": "stream",
          "name": "stdout",
          "text": [
            "This is line 1\n",
            "This is line 2\n",
            "This is line 3\n"
          ]
        }
      ]
    },
    {
      "cell_type": "markdown",
      "source": [
        "* Indexing and Slicing in Strings"
      ],
      "metadata": {
        "id": "T92nAaDqpMfE"
      }
    },
    {
      "cell_type": "code",
      "source": [
        "s=\"Visca el Barca, Visca el Catalunya\""
      ],
      "metadata": {
        "id": "Gvc_siPuiL9f"
      },
      "execution_count": null,
      "outputs": []
    },
    {
      "cell_type": "code",
      "source": [
        "s[6]"
      ],
      "metadata": {
        "colab": {
          "base_uri": "https://localhost:8080/",
          "height": 35
        },
        "id": "Z19BIS_8ptXp",
        "outputId": "af2a8d70-308e-45c9-8536-f36eb890e0f5"
      },
      "execution_count": null,
      "outputs": [
        {
          "output_type": "execute_result",
          "data": {
            "text/plain": [
              "'e'"
            ],
            "application/vnd.google.colaboratory.intrinsic+json": {
              "type": "string"
            }
          },
          "metadata": {},
          "execution_count": 46
        }
      ]
    },
    {
      "cell_type": "code",
      "source": [
        "s[3:27]"
      ],
      "metadata": {
        "colab": {
          "base_uri": "https://localhost:8080/",
          "height": 35
        },
        "id": "kAlGP_ONpurj",
        "outputId": "2daad670-321d-4148-81f3-764b5f762d70"
      },
      "execution_count": null,
      "outputs": [
        {
          "output_type": "execute_result",
          "data": {
            "text/plain": [
              "'ca el Barca, Visca el Ca'"
            ],
            "application/vnd.google.colaboratory.intrinsic+json": {
              "type": "string"
            }
          },
          "metadata": {},
          "execution_count": 48
        }
      ]
    },
    {
      "cell_type": "code",
      "source": [
        "s[-15]"
      ],
      "metadata": {
        "colab": {
          "base_uri": "https://localhost:8080/",
          "height": 35
        },
        "id": "VljJBPNjpykZ",
        "outputId": "99de8184-9037-4f39-8515-57939289ca18"
      },
      "execution_count": null,
      "outputs": [
        {
          "output_type": "execute_result",
          "data": {
            "text/plain": [
              "'c'"
            ],
            "application/vnd.google.colaboratory.intrinsic+json": {
              "type": "string"
            }
          },
          "metadata": {},
          "execution_count": 51
        }
      ]
    },
    {
      "cell_type": "code",
      "source": [
        "s[-12:-2]"
      ],
      "metadata": {
        "colab": {
          "base_uri": "https://localhost:8080/",
          "height": 35
        },
        "id": "CiQNgZkUp3oz",
        "outputId": "ce5cfa82-ffe7-4c63-ed8d-50d529b754c0"
      },
      "execution_count": null,
      "outputs": [
        {
          "output_type": "execute_result",
          "data": {
            "text/plain": [
              "'el Catalun'"
            ],
            "application/vnd.google.colaboratory.intrinsic+json": {
              "type": "string"
            }
          },
          "metadata": {},
          "execution_count": 55
        }
      ]
    },
    {
      "cell_type": "code",
      "source": [
        "s[1:17:3]"
      ],
      "metadata": {
        "colab": {
          "base_uri": "https://localhost:8080/",
          "height": 35
        },
        "id": "SQZ_-4Kfp-T0",
        "outputId": "6c8787da-4daf-46a3-fdaf-38fc375a5393"
      },
      "execution_count": null,
      "outputs": [
        {
          "output_type": "execute_result",
          "data": {
            "text/plain": [
              "'ialaaV'"
            ],
            "application/vnd.google.colaboratory.intrinsic+json": {
              "type": "string"
            }
          },
          "metadata": {},
          "execution_count": 57
        }
      ]
    },
    {
      "cell_type": "code",
      "source": [
        "s[:20:2]"
      ],
      "metadata": {
        "colab": {
          "base_uri": "https://localhost:8080/",
          "height": 35
        },
        "id": "8yMWt4lUq3DG",
        "outputId": "02eb6248-a0b0-4f41-b08a-815aad1c75ed"
      },
      "execution_count": null,
      "outputs": [
        {
          "output_type": "execute_result",
          "data": {
            "text/plain": [
              "'Vsae ac,Vs'"
            ],
            "application/vnd.google.colaboratory.intrinsic+json": {
              "type": "string"
            }
          },
          "metadata": {},
          "execution_count": 61
        }
      ]
    },
    {
      "cell_type": "code",
      "source": [
        "s[:3]"
      ],
      "metadata": {
        "colab": {
          "base_uri": "https://localhost:8080/",
          "height": 35
        },
        "id": "V8TARptAq9iT",
        "outputId": "23dd4603-d5b9-406e-d645-d8a8daf8f150"
      },
      "execution_count": null,
      "outputs": [
        {
          "output_type": "execute_result",
          "data": {
            "text/plain": [
              "'Vis'"
            ],
            "application/vnd.google.colaboratory.intrinsic+json": {
              "type": "string"
            }
          },
          "metadata": {},
          "execution_count": 62
        }
      ]
    },
    {
      "cell_type": "code",
      "source": [
        "s[:]"
      ],
      "metadata": {
        "colab": {
          "base_uri": "https://localhost:8080/",
          "height": 35
        },
        "id": "CpQQW4VbrLO0",
        "outputId": "0ec024b5-8d06-4fb6-ddd4-c070f17ec90b"
      },
      "execution_count": null,
      "outputs": [
        {
          "output_type": "execute_result",
          "data": {
            "text/plain": [
              "'Visca el Barca, Visca el Catalunya'"
            ],
            "application/vnd.google.colaboratory.intrinsic+json": {
              "type": "string"
            }
          },
          "metadata": {},
          "execution_count": 63
        }
      ]
    },
    {
      "cell_type": "code",
      "source": [
        "s[::-1]"
      ],
      "metadata": {
        "colab": {
          "base_uri": "https://localhost:8080/",
          "height": 35
        },
        "id": "1dwenN2OrNQo",
        "outputId": "f24bec19-6c4e-4b8a-b3af-427c243ecc14"
      },
      "execution_count": null,
      "outputs": [
        {
          "output_type": "execute_result",
          "data": {
            "text/plain": [
              "'aynulataC le acsiV ,acraB le acsiV'"
            ],
            "application/vnd.google.colaboratory.intrinsic+json": {
              "type": "string"
            }
          },
          "metadata": {},
          "execution_count": 65
        }
      ]
    },
    {
      "cell_type": "code",
      "source": [
        "s[:3:-1]"
      ],
      "metadata": {
        "colab": {
          "base_uri": "https://localhost:8080/",
          "height": 35
        },
        "id": "Bs-PbQQ3rPaa",
        "outputId": "e2645a0a-f518-410d-e5d9-1aadb65729ab"
      },
      "execution_count": null,
      "outputs": [
        {
          "output_type": "execute_result",
          "data": {
            "text/plain": [
              "'aynulataC le acsiV ,acraB le a'"
            ],
            "application/vnd.google.colaboratory.intrinsic+json": {
              "type": "string"
            }
          },
          "metadata": {},
          "execution_count": 70
        }
      ]
    },
    {
      "cell_type": "markdown",
      "source": [
        "* The in and not in operators"
      ],
      "metadata": {
        "id": "UdhaWd9xvkbN"
      }
    },
    {
      "cell_type": "code",
      "source": [
        "print('Hello' in 'Hello World')\n",
        "print('Hello' in 'Hello')\n",
        "print('HELLO' in 'Hello World')\n",
        "print('' in 'spam')\n",
        "print('cats' not in 'cats and dogs')"
      ],
      "metadata": {
        "colab": {
          "base_uri": "https://localhost:8080/"
        },
        "id": "yK1bVmVwrXd3",
        "outputId": "5e960809-5c3b-457a-bdbf-b3654331ee99"
      },
      "execution_count": null,
      "outputs": [
        {
          "output_type": "stream",
          "name": "stdout",
          "text": [
            "True\n",
            "True\n",
            "False\n",
            "True\n",
            "False\n"
          ]
        }
      ]
    },
    {
      "cell_type": "markdown",
      "source": [
        "* Removing whitespace and characters with strip(), rstrip(), and lstrip()"
      ],
      "metadata": {
        "id": "40FsBpSh0lgO"
      }
    },
    {
      "cell_type": "code",
      "source": [
        "s='      Hi There      '\n",
        "print(s.strip())\n",
        "print(s.rstrip())\n",
        "print(s.lstrip())"
      ],
      "metadata": {
        "colab": {
          "base_uri": "https://localhost:8080/"
        },
        "id": "DEjBm3NWv1bs",
        "outputId": "e695b942-3811-48fe-a685-3ae4e1e4e648"
      },
      "execution_count": null,
      "outputs": [
        {
          "output_type": "stream",
          "name": "stdout",
          "text": [
            "Hi There\n",
            "      Hi There\n",
            "Hi There      \n"
          ]
        }
      ]
    },
    {
      "cell_type": "code",
      "source": [
        "s='aspHipsasap'\n",
        "print(s.strip('sap'))"
      ],
      "metadata": {
        "colab": {
          "base_uri": "https://localhost:8080/"
        },
        "id": "QNWG6RZJv3Bg",
        "outputId": "98621f92-49d2-4e56-b1cb-ca4ca1ae7471"
      },
      "execution_count": null,
      "outputs": [
        {
          "output_type": "stream",
          "name": "stdout",
          "text": [
            "Hi\n"
          ]
        }
      ]
    },
    {
      "cell_type": "markdown",
      "source": [
        "* upper(), lower() and title() <br>\n",
        "Transforms a string to upper, lower and title case"
      ],
      "metadata": {
        "id": "pysod7St_VI8"
      }
    },
    {
      "cell_type": "code",
      "source": [
        "s='Hello world'\n",
        "print(s.upper())\n",
        "print(s.lower())\n",
        "print(s.title())"
      ],
      "metadata": {
        "colab": {
          "base_uri": "https://localhost:8080/"
        },
        "id": "LrJc9f_cv7pb",
        "outputId": "3d36d711-7552-4098-86ca-7a98522d673e"
      },
      "execution_count": null,
      "outputs": [
        {
          "output_type": "stream",
          "name": "stdout",
          "text": [
            "HELLO WORLD\n",
            "hello world\n",
            "Hello World\n"
          ]
        }
      ]
    },
    {
      "cell_type": "markdown",
      "source": [
        "* split() <br>\n",
        "The split() method splits a string into a list. By default, it will use whitespace to separate the items, but you can also set another character of choice.\n",
        "\n"
      ],
      "metadata": {
        "id": "c3ZUPNd5_wC0"
      }
    },
    {
      "cell_type": "code",
      "source": [
        "s='My name is Aseem'\n",
        "print(s.split())\n",
        "print(s.split('m'))"
      ],
      "metadata": {
        "colab": {
          "base_uri": "https://localhost:8080/"
        },
        "id": "u2fI8wjrv9TM",
        "outputId": "5dff2e41-e7d6-4717-9b5c-ee823c61a0f9"
      },
      "execution_count": null,
      "outputs": [
        {
          "output_type": "stream",
          "name": "stdout",
          "text": [
            "['My', 'name', 'is', 'Aseem']\n",
            "['My na', 'e is Asee', '']\n"
          ]
        }
      ]
    },
    {
      "cell_type": "markdown",
      "source": [
        "* join() <br>\n",
        "The join() method takes all the items in an iterable, like a list, dictionary, tuple or set, and joins them into a string. You can also specify a separator."
      ],
      "metadata": {
        "id": "I61raxaAAtdf"
      }
    },
    {
      "cell_type": "code",
      "source": [
        "print(' '.join(['My', 'name', 'is', 'Aseem']))\n",
        "print(''.join(['My', 'name', 'is', 'Aseem']))\n",
        "print('-'.join(['My', 'name', 'is', 'Aseem']))"
      ],
      "metadata": {
        "colab": {
          "base_uri": "https://localhost:8080/"
        },
        "id": "9OMZ7cDRv93K",
        "outputId": "8b6354d8-581d-41ea-8982-27032e531d28"
      },
      "execution_count": null,
      "outputs": [
        {
          "output_type": "stream",
          "name": "stdout",
          "text": [
            "My name is Aseem\n",
            "MynameisAseem\n",
            "My-name-is-Aseem\n"
          ]
        }
      ]
    },
    {
      "cell_type": "markdown",
      "source": [
        "* replace() <br>\n",
        "Replaces all occurences of a given substring with another substring. Can be optionally provided a third argument to limit the number of replacements. Returns a new string."
      ],
      "metadata": {
        "id": "E6VlTmYlBUOb"
      }
    },
    {
      "cell_type": "code",
      "source": [
        "s=\"hi hi ; there\"\n",
        "print(s.replace('hi','hello'))\n",
        "print(s.replace(';','&&'))\n",
        "print(s.replace('hi','hello',1))"
      ],
      "metadata": {
        "colab": {
          "base_uri": "https://localhost:8080/"
        },
        "id": "vcAIm59iA-9Z",
        "outputId": "4489b203-321a-4ea0-c610-2aee650c7e41"
      },
      "execution_count": null,
      "outputs": [
        {
          "output_type": "stream",
          "name": "stdout",
          "text": [
            "hello hello ; there\n",
            "hi hi && there\n",
            "hello hi ; there\n"
          ]
        }
      ]
    },
    {
      "cell_type": "markdown",
      "source": [
        "\n",
        "* isX Methods in Strings <br>\n",
        "-> isalpha() returns True if the string consists only of letters. <br>\n",
        "-> isalnum() returns True if the string consists only of letters and numbers. <br>\n",
        "-> isdecimal() returns True if the string consists only of numbers. <br>\n",
        "-> isspace() returns True if the string consists only of spaces, tabs, and new-lines. <br>\n",
        "-> istitle() returns True if the string consists only of words that begin with an uppercase letter followed by only lowercase characters. <br>\n",
        "-> islower() returns True if string consist only of lowercase characters. <br>\n",
        "-> isupper() returns True if string consist only of uppercase characters. <br>"
      ],
      "metadata": {
        "id": "m4bRUOmpH7qI"
      }
    },
    {
      "cell_type": "code",
      "source": [
        "s='helloworld'\n",
        "print(s.isalpha())\n",
        "print(s.isalnum())\n",
        "print(s.isdecimal())\n",
        "print(s.isspace())\n",
        "print(s.istitle())\n",
        "print(s.islower())\n",
        "print(s.isupper())"
      ],
      "metadata": {
        "colab": {
          "base_uri": "https://localhost:8080/"
        },
        "id": "RbIhJFMyGDZU",
        "outputId": "f1f79d67-8d79-4908-f373-000b8a28c7d2"
      },
      "execution_count": null,
      "outputs": [
        {
          "output_type": "stream",
          "name": "stdout",
          "text": [
            "True\n",
            "True\n",
            "False\n",
            "False\n",
            "False\n",
            "True\n",
            "False\n"
          ]
        }
      ]
    },
    {
      "cell_type": "markdown",
      "source": [
        "* Escape characters <br>\n",
        "An escape character is created by typing a backslash \\ followed by the character you want to insert.\n",
        "\n",
        "<table>\n",
        "<tr>\n",
        "<td>Esacpe character</td>\n",
        "<td>Prints as</td>\n",
        "</tr>\n",
        "<tr>\n",
        "<td>\\'</td>\n",
        "<td>Single quote</td>\n",
        "</tr>\n",
        "<tr>\n",
        "<td>\\\"</td>\n",
        "<td>Double quote</td>\n",
        "</tr>\n",
        "<tr>\n",
        "<td>\\t</td>\n",
        "<td>Tab</td>\n",
        "</tr>\n",
        "<tr>\n",
        "<td>\\n</td>\n",
        "<td>Newline</td>\n",
        "</tr>\n",
        "<tr>\n",
        "<td>\\\\</td>\n",
        "<td>Backslash</td>\n",
        "</tr>\n",
        "<tr>\n",
        "<td>\\b</td>\n",
        "<td>Backspace</td>\n",
        "</tr>\n",
        "<tr>\n",
        "<td>\\r</td>\n",
        "<td>Carriage return</td>\n",
        "</tr>\n",
        "</table>"
      ],
      "metadata": {
        "id": "QW8gmnCRJGDV"
      }
    },
    {
      "cell_type": "code",
      "source": [
        "print(\"This is a double quoted \\\"string\\\" and it continues\")"
      ],
      "metadata": {
        "colab": {
          "base_uri": "https://localhost:8080/"
        },
        "id": "BmM9jOsWIdrA",
        "outputId": "52f70eb4-5d31-4f66-837c-f56344663992"
      },
      "execution_count": null,
      "outputs": [
        {
          "output_type": "stream",
          "name": "stdout",
          "text": [
            "This is a double quoted \"string\" and it continues\n"
          ]
        }
      ]
    },
    {
      "cell_type": "code",
      "source": [
        "print(\"This is a \\t tab string\")\n",
        "print(\"This is a \\n newline string\")\n",
        "print(' ')\n",
        "print(\"This is a \\\\ string\")\n",
        "print(\"This is a\\bstring, Notice 'a' is not here\")\n",
        "print(\"This is a \\rstring\")"
      ],
      "metadata": {
        "colab": {
          "base_uri": "https://localhost:8080/"
        },
        "id": "w0wl8WDvJsW9",
        "outputId": "31a9d0bd-bd0f-4358-ce3f-1088c2ee3598"
      },
      "execution_count": null,
      "outputs": [
        {
          "output_type": "stream",
          "name": "stdout",
          "text": [
            "This is a \t tab string\n",
            "This is a \n",
            " newline string\n",
            " \n",
            "This is a \\ string\n",
            "This is a\bstring, Notice 'a' is not here\n",
            "This is a \rstring\n"
          ]
        }
      ]
    },
    {
      "cell_type": "markdown",
      "source": [
        "* Raw strings <br>\n",
        "A raw string entirely ignores all escape characters and prints any backslash that appears in the string."
      ],
      "metadata": {
        "id": "U7Cwy1dILy-T"
      }
    },
    {
      "cell_type": "code",
      "source": [
        "print(\"C:\\name\\drive\")"
      ],
      "metadata": {
        "colab": {
          "base_uri": "https://localhost:8080/"
        },
        "id": "FCrbPAogJ53V",
        "outputId": "061a33f4-47b6-44c7-e77a-366748dbebba"
      },
      "execution_count": null,
      "outputs": [
        {
          "output_type": "stream",
          "name": "stdout",
          "text": [
            "C:\n",
            "ame\\drive\n"
          ]
        }
      ]
    },
    {
      "cell_type": "code",
      "source": [
        "print(r\"C:\\name\\drive\")"
      ],
      "metadata": {
        "colab": {
          "base_uri": "https://localhost:8080/"
        },
        "id": "3Ff8UYlwLLYe",
        "outputId": "2de12ed9-7495-40e7-805a-11e16327a78e"
      },
      "execution_count": null,
      "outputs": [
        {
          "output_type": "stream",
          "name": "stdout",
          "text": [
            "C:\\name\\drive\n"
          ]
        }
      ]
    },
    {
      "cell_type": "markdown",
      "source": [
        "#Data Structures in Python\n",
        "<table>\n",
        "<tr>\n",
        "<td>List</td>\n",
        "<td>Ordered</td>\n",
        "<td>Mutable</td>\n",
        "<td>Duplicates</td>\n",
        "<tr>\n",
        "<tr>\n",
        "<td>Tuple</td>\n",
        "<td>Ordered</td>\n",
        "<td>Immutable</td>\n",
        "<td>Duplicates</td>\n",
        "<tr>\n",
        "<tr>\n",
        "<td>Set</td>\n",
        "<td>Unordered</td>\n",
        "<td>Addable/Removable</td>\n",
        "<td>No Duplicates</td>\n",
        "<tr>\n",
        "<tr>\n",
        "<td>Dictionary</td>\n",
        "<td>Unordered</td>\n",
        "<td>Mutable</td>\n",
        "<td>Np Duplicates</td>\n",
        "<tr>\n",
        "</table>"
      ],
      "metadata": {
        "id": "rrX9pFBhWf6W"
      }
    },
    {
      "cell_type": "markdown",
      "source": [
        "#Lists"
      ],
      "metadata": {
        "id": "-bY1PsuoXTC-"
      }
    },
    {
      "cell_type": "code",
      "source": [
        "L=[1,2.4,\"aseem\"]\n",
        "print(type(L))"
      ],
      "metadata": {
        "colab": {
          "base_uri": "https://localhost:8080/"
        },
        "id": "Q1UH7L9XXVIW",
        "outputId": "6e1361a7-dd2e-494a-f435-66894f36bdca"
      },
      "execution_count": 131,
      "outputs": [
        {
          "output_type": "stream",
          "name": "stdout",
          "text": [
            "<class 'list'>\n"
          ]
        }
      ]
    },
    {
      "cell_type": "code",
      "source": [
        "L=[1,2,3,4,5]\n",
        "print(L[0])\n",
        "print(L[::-1])\n",
        "print(L[1:10]) #Doesn't give eror even if outer number is not in range"
      ],
      "metadata": {
        "colab": {
          "base_uri": "https://localhost:8080/"
        },
        "id": "uDcGCLrGXcxu",
        "outputId": "c165f0f2-26e2-411e-e418-21a99ef8d6da"
      },
      "execution_count": 136,
      "outputs": [
        {
          "output_type": "stream",
          "name": "stdout",
          "text": [
            "1\n",
            "[5, 4, 3, 2, 1]\n",
            "[2, 3, 4, 5]\n"
          ]
        }
      ]
    },
    {
      "cell_type": "code",
      "source": [
        "print(len(L))"
      ],
      "metadata": {
        "colab": {
          "base_uri": "https://localhost:8080/"
        },
        "id": "wVWods-OXwoa",
        "outputId": "e6b44b28-ff3d-498f-f4d8-f292d306521d"
      },
      "execution_count": 137,
      "outputs": [
        {
          "output_type": "stream",
          "name": "stdout",
          "text": [
            "5\n"
          ]
        }
      ]
    },
    {
      "cell_type": "code",
      "source": [
        "L[2]=9\n",
        "print(L)"
      ],
      "metadata": {
        "colab": {
          "base_uri": "https://localhost:8080/"
        },
        "id": "Lx-U_JL-YGFf",
        "outputId": "a528c986-6e35-45ca-b4e1-991a83bad44d"
      },
      "execution_count": 139,
      "outputs": [
        {
          "output_type": "stream",
          "name": "stdout",
          "text": [
            "[1, 2, 9, 4, 5]\n"
          ]
        }
      ]
    },
    {
      "cell_type": "markdown",
      "source": [
        "* Concatenation and Replication\n"
      ],
      "metadata": {
        "id": "TV_3xzoqYPx_"
      }
    },
    {
      "cell_type": "code",
      "source": [
        "print([1,2,3]+[4,5,6])\n",
        "print([1,2,3]*3)"
      ],
      "metadata": {
        "colab": {
          "base_uri": "https://localhost:8080/"
        },
        "id": "34FY9hcSYKiG",
        "outputId": "80c536e7-e120-441f-bf3e-c3abff5dfb1e"
      },
      "execution_count": 141,
      "outputs": [
        {
          "output_type": "stream",
          "name": "stdout",
          "text": [
            "[1, 2, 3, 4, 5, 6]\n",
            "[1, 2, 3, 1, 2, 3, 1, 2, 3]\n"
          ]
        }
      ]
    },
    {
      "cell_type": "markdown",
      "source": [
        "* Getting the index in a loop with enumerate()\n"
      ],
      "metadata": {
        "id": "oJRT4BVoY1gm"
      }
    },
    {
      "cell_type": "code",
      "source": [
        "L=[1,2,3,'aseem',1.2,3]\n",
        "for i in enumerate(L):\n",
        "  print(i)"
      ],
      "metadata": {
        "colab": {
          "base_uri": "https://localhost:8080/"
        },
        "id": "gW-9RUepYTzn",
        "outputId": "1e6b9b70-f8ee-4df1-adbc-632b96606c2d"
      },
      "execution_count": 144,
      "outputs": [
        {
          "output_type": "stream",
          "name": "stdout",
          "text": [
            "(0, 1)\n",
            "(1, 2)\n",
            "(2, 3)\n",
            "(3, 'aseem')\n",
            "(4, 1.2)\n",
            "(5, 3)\n"
          ]
        }
      ]
    },
    {
      "cell_type": "markdown",
      "source": [
        "* Loop in Multiple Lists with zip()"
      ],
      "metadata": {
        "id": "1zLmzhJOY34k"
      }
    },
    {
      "cell_type": "code",
      "source": [
        "a=[1,2,3]\n",
        "b=['one','two','three']\n",
        "\n",
        "for i,j in zip(a,b):\n",
        "  print(i,':',j)"
      ],
      "metadata": {
        "colab": {
          "base_uri": "https://localhost:8080/"
        },
        "id": "CL3dVZuFYmIH",
        "outputId": "1b9b5195-c6e2-4dcf-86a2-c663a14557a0"
      },
      "execution_count": 145,
      "outputs": [
        {
          "output_type": "stream",
          "name": "stdout",
          "text": [
            "1 : one\n",
            "2 : two\n",
            "3 : three\n"
          ]
        }
      ]
    },
    {
      "cell_type": "markdown",
      "source": [
        "* index() <br>\n",
        "The index method allows you to find the index of a value by passing its name\n",
        "\n"
      ],
      "metadata": {
        "id": "0lLM7zyFZ2RT"
      }
    },
    {
      "cell_type": "code",
      "source": [
        "L"
      ],
      "metadata": {
        "colab": {
          "base_uri": "https://localhost:8080/"
        },
        "id": "gfcq1CF8ZJRK",
        "outputId": "759aad81-3a0f-4980-ee89-eab6f453e0d7"
      },
      "execution_count": 146,
      "outputs": [
        {
          "output_type": "execute_result",
          "data": {
            "text/plain": [
              "[1, 2, 3, 'aseem', 1.2, 3]"
            ]
          },
          "metadata": {},
          "execution_count": 146
        }
      ]
    },
    {
      "cell_type": "code",
      "source": [
        "L.index('aseem')"
      ],
      "metadata": {
        "colab": {
          "base_uri": "https://localhost:8080/"
        },
        "id": "QW2YrUQcaOhu",
        "outputId": "2434a30d-dfae-4a29-af4f-6176c0113dea"
      },
      "execution_count": 147,
      "outputs": [
        {
          "output_type": "execute_result",
          "data": {
            "text/plain": [
              "3"
            ]
          },
          "metadata": {},
          "execution_count": 147
        }
      ]
    },
    {
      "cell_type": "markdown",
      "source": [
        "* Adding Values <br>\n",
        "-> append() adds an element to the end of a list <br>\n",
        "-> insert() adds an element to a list at a given position <br>\n",
        "-> extend() adds a list to another list <br>"
      ],
      "metadata": {
        "id": "k0S_qYm1aXNK"
      }
    },
    {
      "cell_type": "code",
      "source": [
        "print(L)"
      ],
      "metadata": {
        "colab": {
          "base_uri": "https://localhost:8080/"
        },
        "id": "ijzmv2D1aRFS",
        "outputId": "f82e126a-4b66-47b1-cc7f-4121200b6e10"
      },
      "execution_count": 148,
      "outputs": [
        {
          "output_type": "stream",
          "name": "stdout",
          "text": [
            "[1, 2, 3, 'aseem', 1.2, 3]\n"
          ]
        }
      ]
    },
    {
      "cell_type": "code",
      "source": [
        "L.append(4)\n",
        "print(L)"
      ],
      "metadata": {
        "colab": {
          "base_uri": "https://localhost:8080/"
        },
        "id": "neOGO2ouawa1",
        "outputId": "3ad5aeb1-6f3e-4e3d-f689-399896b66054"
      },
      "execution_count": 149,
      "outputs": [
        {
          "output_type": "stream",
          "name": "stdout",
          "text": [
            "[1, 2, 3, 'aseem', 1.2, 3, 4]\n"
          ]
        }
      ]
    },
    {
      "cell_type": "code",
      "source": [
        "L.insert(2,'inserted')\n",
        "print(L)"
      ],
      "metadata": {
        "colab": {
          "base_uri": "https://localhost:8080/"
        },
        "id": "1P2BeXKBay1n",
        "outputId": "596c81bd-f653-45b2-afcf-85b99aab8896"
      },
      "execution_count": 150,
      "outputs": [
        {
          "output_type": "stream",
          "name": "stdout",
          "text": [
            "[1, 2, 'inserted', 3, 'aseem', 1.2, 3, 4]\n"
          ]
        }
      ]
    },
    {
      "cell_type": "code",
      "source": [
        "L1=[4,5,6]\n",
        "L.extend(L1)\n",
        "print(L)"
      ],
      "metadata": {
        "colab": {
          "base_uri": "https://localhost:8080/"
        },
        "id": "aNhIOuu3a1J4",
        "outputId": "5e6804dd-7848-4c5e-aa4f-388c26138feb"
      },
      "execution_count": 151,
      "outputs": [
        {
          "output_type": "stream",
          "name": "stdout",
          "text": [
            "[1, 2, 'inserted', 3, 'aseem', 1.2, 3, 4, 4, 5, 6]\n"
          ]
        }
      ]
    },
    {
      "cell_type": "markdown",
      "source": [
        "* Removing Values <br>\n",
        "-> del removes an item using the index <br>\n",
        "-> remove() removes an item with using actual value of it, removes just the first occurrence if there are multiple <br>\n",
        "-> pop() will remove and return the last item of the list. You can also pass the index of the element as an optional parameter <br>"
      ],
      "metadata": {
        "id": "xJlAkoS7a64A"
      }
    },
    {
      "cell_type": "code",
      "source": [
        "print(L)"
      ],
      "metadata": {
        "colab": {
          "base_uri": "https://localhost:8080/"
        },
        "id": "s0s2OM4Ya3ws",
        "outputId": "cab4e73e-841a-4c98-8a94-cbd9bcf711b1"
      },
      "execution_count": 152,
      "outputs": [
        {
          "output_type": "stream",
          "name": "stdout",
          "text": [
            "[1, 2, 'inserted', 3, 'aseem', 1.2, 3, 4, 4, 5, 6]\n"
          ]
        }
      ]
    },
    {
      "cell_type": "code",
      "source": [
        "del L[2]\n",
        "print(L)"
      ],
      "metadata": {
        "colab": {
          "base_uri": "https://localhost:8080/"
        },
        "id": "aeFAVK65bYFs",
        "outputId": "666727cc-430a-4edb-bd19-30bee02d664d"
      },
      "execution_count": 153,
      "outputs": [
        {
          "output_type": "stream",
          "name": "stdout",
          "text": [
            "[1, 2, 3, 'aseem', 1.2, 3, 4, 4, 5, 6]\n"
          ]
        }
      ]
    },
    {
      "cell_type": "code",
      "source": [
        "L.remove(3)\n",
        "print(L)"
      ],
      "metadata": {
        "colab": {
          "base_uri": "https://localhost:8080/"
        },
        "id": "X5JkkTfXbc1D",
        "outputId": "8950d755-7bf3-4bf9-94ae-402aa2f06abb"
      },
      "execution_count": 155,
      "outputs": [
        {
          "output_type": "stream",
          "name": "stdout",
          "text": [
            "[1, 2, 'aseem', 1.2, 3, 4, 4, 5, 6]\n"
          ]
        }
      ]
    },
    {
      "cell_type": "code",
      "source": [
        "c=L.pop()\n",
        "print(c)\n",
        "print(L)"
      ],
      "metadata": {
        "colab": {
          "base_uri": "https://localhost:8080/"
        },
        "id": "hFD4kTmQbh2J",
        "outputId": "2b4b6e2b-5003-4d40-f618-67947be6ba42"
      },
      "execution_count": 157,
      "outputs": [
        {
          "output_type": "stream",
          "name": "stdout",
          "text": [
            "5\n",
            "[1, 2, 'aseem', 1.2, 3, 4, 4]\n"
          ]
        }
      ]
    },
    {
      "cell_type": "code",
      "source": [
        "d=L.pop(2)\n",
        "print(d)\n",
        "print(L)"
      ],
      "metadata": {
        "colab": {
          "base_uri": "https://localhost:8080/"
        },
        "id": "pym8EUqkbxO5",
        "outputId": "b5487fbe-89b6-4bd2-8e6d-964ffbc2b138"
      },
      "execution_count": 158,
      "outputs": [
        {
          "output_type": "stream",
          "name": "stdout",
          "text": [
            "aseem\n",
            "[1, 2, 1.2, 3, 4, 4]\n"
          ]
        }
      ]
    },
    {
      "cell_type": "markdown",
      "source": [
        "* Sorting values with sort()"
      ],
      "metadata": {
        "id": "yBaFjqu-cunr"
      }
    },
    {
      "cell_type": "code",
      "source": [
        "L.sort()\n",
        "print(L)"
      ],
      "metadata": {
        "colab": {
          "base_uri": "https://localhost:8080/"
        },
        "id": "Hw-S0KUOb2D6",
        "outputId": "0a36606a-d3b4-4c62-b59e-3e9fae48ae83"
      },
      "execution_count": 159,
      "outputs": [
        {
          "output_type": "stream",
          "name": "stdout",
          "text": [
            "[1, 1.2, 2, 3, 4, 4]\n"
          ]
        }
      ]
    },
    {
      "cell_type": "code",
      "source": [
        "L.append('aseem')\n",
        "L.sort()\n",
        "print(L)"
      ],
      "metadata": {
        "colab": {
          "base_uri": "https://localhost:8080/",
          "height": 176
        },
        "id": "fGQIxpmRcyIT",
        "outputId": "a5e8c665-aded-4e17-dd73-2badaae2cc18"
      },
      "execution_count": 160,
      "outputs": [
        {
          "output_type": "error",
          "ename": "TypeError",
          "evalue": "'<' not supported between instances of 'str' and 'int'",
          "traceback": [
            "\u001b[0;31m---------------------------------------------------------------------------\u001b[0m",
            "\u001b[0;31mTypeError\u001b[0m                                 Traceback (most recent call last)",
            "\u001b[0;32m<ipython-input-160-4f9a9c51aedf>\u001b[0m in \u001b[0;36m<cell line: 2>\u001b[0;34m()\u001b[0m\n\u001b[1;32m      1\u001b[0m \u001b[0mL\u001b[0m\u001b[0;34m.\u001b[0m\u001b[0mappend\u001b[0m\u001b[0;34m(\u001b[0m\u001b[0;34m'aseem'\u001b[0m\u001b[0;34m)\u001b[0m\u001b[0;34m\u001b[0m\u001b[0;34m\u001b[0m\u001b[0m\n\u001b[0;32m----> 2\u001b[0;31m \u001b[0mL\u001b[0m\u001b[0;34m.\u001b[0m\u001b[0msort\u001b[0m\u001b[0;34m(\u001b[0m\u001b[0;34m)\u001b[0m\u001b[0;34m\u001b[0m\u001b[0;34m\u001b[0m\u001b[0m\n\u001b[0m\u001b[1;32m      3\u001b[0m \u001b[0mprint\u001b[0m\u001b[0;34m(\u001b[0m\u001b[0mL\u001b[0m\u001b[0;34m)\u001b[0m\u001b[0;34m\u001b[0m\u001b[0;34m\u001b[0m\u001b[0m\n",
            "\u001b[0;31mTypeError\u001b[0m: '<' not supported between instances of 'str' and 'int'"
          ]
        }
      ]
    },
    {
      "cell_type": "code",
      "source": [
        "L1=['a','c','b']\n",
        "L1.sort()\n",
        "print(L1)"
      ],
      "metadata": {
        "colab": {
          "base_uri": "https://localhost:8080/"
        },
        "id": "4v__FyvYc4C-",
        "outputId": "3d879ec6-3cdd-4ccb-fcd7-6836b18dfb66"
      },
      "execution_count": 161,
      "outputs": [
        {
          "output_type": "stream",
          "name": "stdout",
          "text": [
            "['a', 'b', 'c']\n"
          ]
        }
      ]
    },
    {
      "cell_type": "markdown",
      "source": [
        "#Tuples"
      ],
      "metadata": {
        "id": "LIRWKAMFpcfi"
      }
    },
    {
      "cell_type": "code",
      "source": [
        "t=1,2\n",
        "print(t)\n",
        "print(type(t))"
      ],
      "metadata": {
        "colab": {
          "base_uri": "https://localhost:8080/"
        },
        "id": "gw3ufp6xpeHY",
        "outputId": "32217b8d-9c13-45c5-90e3-df952c4aa6f9"
      },
      "execution_count": 162,
      "outputs": [
        {
          "output_type": "stream",
          "name": "stdout",
          "text": [
            "(1, 2)\n",
            "<class 'tuple'>\n"
          ]
        }
      ]
    },
    {
      "cell_type": "code",
      "source": [
        "#For a single element, add a comma at the end of element to mark it as a tuple othewise it will be considered as an integer\n",
        "t=1,\n",
        "print(t)\n",
        "print(type(t))"
      ],
      "metadata": {
        "colab": {
          "base_uri": "https://localhost:8080/"
        },
        "id": "Sn0KQDQZpkOr",
        "outputId": "9d5c6baa-35e7-44ff-b749-919245e5cac6"
      },
      "execution_count": 168,
      "outputs": [
        {
          "output_type": "stream",
          "name": "stdout",
          "text": [
            "(1,)\n",
            "<class 'tuple'>\n"
          ]
        }
      ]
    },
    {
      "cell_type": "code",
      "source": [
        "t=(1,2,3,4,5)\n",
        "print(t[2])\n",
        "print(t[::-1])\n",
        "print(t[1:4])"
      ],
      "metadata": {
        "colab": {
          "base_uri": "https://localhost:8080/"
        },
        "id": "i0Ssq6ejqmiN",
        "outputId": "59098323-b60d-4a1c-d566-02bc7bb3165a"
      },
      "execution_count": 175,
      "outputs": [
        {
          "output_type": "stream",
          "name": "stdout",
          "text": [
            "3\n",
            "(5, 4, 3, 2, 1)\n",
            "(2, 3, 4)\n"
          ]
        }
      ]
    },
    {
      "cell_type": "code",
      "source": [
        "t[0]=1"
      ],
      "metadata": {
        "colab": {
          "base_uri": "https://localhost:8080/",
          "height": 141
        },
        "id": "BNoNbWgbrDbK",
        "outputId": "33e46e2c-d914-44b0-b57f-104c906652d8"
      },
      "execution_count": 177,
      "outputs": [
        {
          "output_type": "error",
          "ename": "TypeError",
          "evalue": "'tuple' object does not support item assignment",
          "traceback": [
            "\u001b[0;31m---------------------------------------------------------------------------\u001b[0m",
            "\u001b[0;31mTypeError\u001b[0m                                 Traceback (most recent call last)",
            "\u001b[0;32m<ipython-input-177-531e22094236>\u001b[0m in \u001b[0;36m<cell line: 1>\u001b[0;34m()\u001b[0m\n\u001b[0;32m----> 1\u001b[0;31m \u001b[0mt\u001b[0m\u001b[0;34m[\u001b[0m\u001b[0;36m0\u001b[0m\u001b[0;34m]\u001b[0m\u001b[0;34m=\u001b[0m\u001b[0;36m1\u001b[0m\u001b[0;34m\u001b[0m\u001b[0;34m\u001b[0m\u001b[0m\n\u001b[0m",
            "\u001b[0;31mTypeError\u001b[0m: 'tuple' object does not support item assignment"
          ]
        }
      ]
    },
    {
      "cell_type": "code",
      "source": [
        "del t[0]"
      ],
      "metadata": {
        "colab": {
          "base_uri": "https://localhost:8080/",
          "height": 141
        },
        "id": "EWCx7VHIrHRh",
        "outputId": "bbe0f83b-66e1-4258-c810-01737a745199"
      },
      "execution_count": 178,
      "outputs": [
        {
          "output_type": "error",
          "ename": "TypeError",
          "evalue": "'tuple' object doesn't support item deletion",
          "traceback": [
            "\u001b[0;31m---------------------------------------------------------------------------\u001b[0m",
            "\u001b[0;31mTypeError\u001b[0m                                 Traceback (most recent call last)",
            "\u001b[0;32m<ipython-input-178-542f9bb8f15e>\u001b[0m in \u001b[0;36m<cell line: 1>\u001b[0;34m()\u001b[0m\n\u001b[0;32m----> 1\u001b[0;31m \u001b[0;32mdel\u001b[0m \u001b[0mt\u001b[0m\u001b[0;34m[\u001b[0m\u001b[0;36m0\u001b[0m\u001b[0;34m]\u001b[0m\u001b[0;34m\u001b[0m\u001b[0;34m\u001b[0m\u001b[0m\n\u001b[0m",
            "\u001b[0;31mTypeError\u001b[0m: 'tuple' object doesn't support item deletion"
          ]
        }
      ]
    },
    {
      "cell_type": "markdown",
      "source": [
        "* Get index of an element using the index() method"
      ],
      "metadata": {
        "id": "J3h-n8zAp9-L"
      }
    },
    {
      "cell_type": "code",
      "source": [
        "t=(1,2,3,4,5,6)\n",
        "print(t.index(3))"
      ],
      "metadata": {
        "colab": {
          "base_uri": "https://localhost:8080/"
        },
        "id": "R1T8Zq7fpsAo",
        "outputId": "ed667568-1cb0-4b3b-f4e1-6c082c28b078"
      },
      "execution_count": 166,
      "outputs": [
        {
          "output_type": "stream",
          "name": "stdout",
          "text": [
            "2\n"
          ]
        }
      ]
    },
    {
      "cell_type": "markdown",
      "source": [
        "* count occurences of an item in a tuple using count()"
      ],
      "metadata": {
        "id": "RFmZz266qQPm"
      }
    },
    {
      "cell_type": "code",
      "source": [
        "t=(1,2,3,2,3,4)\n",
        "print(t.count(2))"
      ],
      "metadata": {
        "colab": {
          "base_uri": "https://localhost:8080/"
        },
        "id": "eOv8LgpHqLeV",
        "outputId": "29b077cc-a1d8-440d-d3f9-43f0f41baa7c"
      },
      "execution_count": 165,
      "outputs": [
        {
          "output_type": "stream",
          "name": "stdout",
          "text": [
            "2\n"
          ]
        }
      ]
    },
    {
      "cell_type": "markdown",
      "source": [
        "* Concatenation in tuples"
      ],
      "metadata": {
        "id": "N2KnWYMmqezG"
      }
    },
    {
      "cell_type": "code",
      "source": [
        "t1=(1,2,3)\n",
        "t2=(4,5,6)\n",
        "print(t1+t2)"
      ],
      "metadata": {
        "colab": {
          "base_uri": "https://localhost:8080/"
        },
        "id": "So6aZT9_qb1w",
        "outputId": "b1cb1d10-b53b-4d0e-8f67-d1241cac3c4f"
      },
      "execution_count": 171,
      "outputs": [
        {
          "output_type": "stream",
          "name": "stdout",
          "text": [
            "(1, 2, 3, 4, 5, 6)\n"
          ]
        }
      ]
    },
    {
      "cell_type": "markdown",
      "source": [
        "* Tuple packing and unpacking <br>\n",
        "Number of variables used has to be same as the number of items in the tuple."
      ],
      "metadata": {
        "id": "kCqXF1tvrON7"
      }
    },
    {
      "cell_type": "code",
      "source": [
        "t=1,2,3\n",
        "print(t)\n",
        "a,b,c=t\n",
        "print(a,b,c)"
      ],
      "metadata": {
        "colab": {
          "base_uri": "https://localhost:8080/"
        },
        "id": "aDv1Xbwnq3p9",
        "outputId": "ed2d2e68-3440-4ee3-9465-4f00fc6e86b8"
      },
      "execution_count": 179,
      "outputs": [
        {
          "output_type": "stream",
          "name": "stdout",
          "text": [
            "(1, 2, 3)\n",
            "1 2 3\n"
          ]
        }
      ]
    }
  ]
}